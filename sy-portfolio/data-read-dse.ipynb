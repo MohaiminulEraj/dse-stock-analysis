{
 "cells": [
  {
   "cell_type": "code",
   "execution_count": 2,
   "metadata": {},
   "outputs": [],
   "source": [
    "import pandas as pd\n",
    "import glob as  g\n",
    "import missingno as msno\n",
    "import seaborn as sns"
   ]
  },
  {
   "cell_type": "code",
   "execution_count": 3,
   "metadata": {},
   "outputs": [
    {
     "name": "stdout",
     "output_type": "stream",
     "text": [
      "Help on module glob:\n",
      "\n",
      "NAME\n",
      "    glob - Filename globbing utility.\n",
      "\n",
      "FUNCTIONS\n",
      "    escape(pathname)\n",
      "        Escape all special characters.\n",
      "    \n",
      "    glob(pathname, *, recursive=False)\n",
      "        Return a list of paths matching a pathname pattern.\n",
      "        \n",
      "        The pattern may contain simple shell-style wildcards a la\n",
      "        fnmatch. However, unlike fnmatch, filenames starting with a\n",
      "        dot are special cases that are not matched by '*' and '?'\n",
      "        patterns.\n",
      "        \n",
      "        If recursive is true, the pattern '**' will match any files and\n",
      "        zero or more directories and subdirectories.\n",
      "    \n",
      "    iglob(pathname, *, recursive=False)\n",
      "        Return an iterator which yields the paths matching a pathname pattern.\n",
      "        \n",
      "        The pattern may contain simple shell-style wildcards a la\n",
      "        fnmatch. However, unlike fnmatch, filenames starting with a\n",
      "        dot are special cases that are not matched by '*' and '?'\n",
      "        patterns.\n",
      "        \n",
      "        If recursive is true, the pattern '**' will match any files and\n",
      "        zero or more directories and subdirectories.\n",
      "\n",
      "DATA\n",
      "    __all__ = ['glob', 'iglob', 'escape']\n",
      "\n",
      "FILE\n",
      "    /Library/Frameworks/Python.framework/Versions/3.7/lib/python3.7/glob.py\n",
      "\n",
      "\n"
     ]
    }
   ],
   "source": [
    "help(g)"
   ]
  },
  {
   "cell_type": "code",
   "execution_count": 4,
   "metadata": {},
   "outputs": [],
   "source": [
    "files = g.glob('../data/*.csv')"
   ]
  },
  {
   "cell_type": "code",
   "execution_count": 5,
   "metadata": {},
   "outputs": [
    {
     "data": {
      "text/plain": [
       "['../data/February 2019.csv',\n",
       " '../data/2008.csv',\n",
       " '../data/2009.csv',\n",
       " '../data/2018.csv',\n",
       " '../data/2001.csv',\n",
       " '../data/2015.csv',\n",
       " '../data/April 2019.csv',\n",
       " '../data/January 2019.csv',\n",
       " '../data/2014.csv',\n",
       " '../data/2000.csv',\n",
       " '../data/March 2019.csv',\n",
       " '../data/2016.csv',\n",
       " '../data/2002.csv',\n",
       " '../data/2003.csv',\n",
       " '../data/2017.csv',\n",
       " '../data/May 2019.csv',\n",
       " '../data/2013.csv',\n",
       " '../data/2007.csv',\n",
       " '../data/2006.csv',\n",
       " '../data/2012.csv',\n",
       " '../data/2004.csv',\n",
       " '../data/2010.csv',\n",
       " '../data/August 2019.csv',\n",
       " '../data/2011.csv',\n",
       " '../data/2005.csv',\n",
       " '../data/1999.csv',\n",
       " '../data/July 2019.csv',\n",
       " '../data/June 2019.csv']"
      ]
     },
     "execution_count": 5,
     "metadata": {},
     "output_type": "execute_result"
    }
   ],
   "source": [
    "files"
   ]
  },
  {
   "cell_type": "code",
   "execution_count": 6,
   "metadata": {},
   "outputs": [],
   "source": [
    "df = pd.read_csv(files[0], names = ['symbol', 'date', 'open', 'high', 'low', 'close', 'volume'])"
   ]
  },
  {
   "cell_type": "code",
   "execution_count": 7,
   "metadata": {},
   "outputs": [],
   "source": [
    "columns = ['symbol', 'date', 'open', 'high', 'low', 'close', 'volume']\n",
    "df_all = pd.DataFrame(columns = columns)"
   ]
  },
  {
   "cell_type": "code",
   "execution_count": 8,
   "metadata": {},
   "outputs": [
    {
     "name": "stdout",
     "output_type": "stream",
     "text": [
      "1\n",
      "2\n",
      "3\n",
      "4\n",
      "5\n",
      "6\n",
      "7\n",
      "8\n",
      "9\n",
      "10\n",
      "11\n",
      "12\n",
      "13\n",
      "14\n",
      "15\n",
      "16\n",
      "17\n",
      "18\n",
      "19\n",
      "20\n",
      "21\n",
      "22\n",
      "23\n",
      "24\n",
      "25\n",
      "26\n",
      "27\n",
      "28\n"
     ]
    }
   ],
   "source": [
    "files = g.glob('../data/*.csv')\n",
    "columns = ['symbol', 'date', 'open', 'high', 'low', 'close', 'volume']\n",
    "df_all = pd.DataFrame(columns = columns)\n",
    "i = 0\n",
    "for file in files:\n",
    "    i += 1\n",
    "    df = pd.read_csv(file, names = ['symbol', 'date', 'open', 'high', 'low', 'close', 'volume'])\n",
    "    df_all = pd.concat([df_all, df])\n",
    "    print(i)"
   ]
  },
  {
   "cell_type": "code",
   "execution_count": 9,
   "metadata": {},
   "outputs": [
    {
     "data": {
      "text/html": [
       "<div>\n",
       "<style scoped>\n",
       "    .dataframe tbody tr th:only-of-type {\n",
       "        vertical-align: middle;\n",
       "    }\n",
       "\n",
       "    .dataframe tbody tr th {\n",
       "        vertical-align: top;\n",
       "    }\n",
       "\n",
       "    .dataframe thead th {\n",
       "        text-align: right;\n",
       "    }\n",
       "</style>\n",
       "<table border=\"1\" class=\"dataframe\">\n",
       "  <thead>\n",
       "    <tr style=\"text-align: right;\">\n",
       "      <th></th>\n",
       "      <th>symbol</th>\n",
       "      <th>date</th>\n",
       "      <th>open</th>\n",
       "      <th>high</th>\n",
       "      <th>low</th>\n",
       "      <th>close</th>\n",
       "      <th>volume</th>\n",
       "    </tr>\n",
       "  </thead>\n",
       "  <tbody>\n",
       "    <tr>\n",
       "      <td>0</td>\n",
       "      <td>00DS30</td>\n",
       "      <td>03-02-2019</td>\n",
       "      <td>2007.96</td>\n",
       "      <td>2010.03</td>\n",
       "      <td>1996.52</td>\n",
       "      <td>2003.84</td>\n",
       "      <td>9.84212e+07</td>\n",
       "    </tr>\n",
       "    <tr>\n",
       "      <td>1</td>\n",
       "      <td>00DS30</td>\n",
       "      <td>04-02-2019</td>\n",
       "      <td>2003.84</td>\n",
       "      <td>2023.21</td>\n",
       "      <td>2003.84</td>\n",
       "      <td>2018.20</td>\n",
       "      <td>8.89052e+07</td>\n",
       "    </tr>\n",
       "    <tr>\n",
       "      <td>2</td>\n",
       "      <td>00DS30</td>\n",
       "      <td>05-02-2019</td>\n",
       "      <td>2018.20</td>\n",
       "      <td>2024.17</td>\n",
       "      <td>2010.43</td>\n",
       "      <td>2021.23</td>\n",
       "      <td>7.06664e+07</td>\n",
       "    </tr>\n",
       "    <tr>\n",
       "      <td>3</td>\n",
       "      <td>00DS30</td>\n",
       "      <td>06-02-2019</td>\n",
       "      <td>2021.23</td>\n",
       "      <td>2027.78</td>\n",
       "      <td>2014.37</td>\n",
       "      <td>2022.58</td>\n",
       "      <td>7.66848e+07</td>\n",
       "    </tr>\n",
       "    <tr>\n",
       "      <td>4</td>\n",
       "      <td>00DS30</td>\n",
       "      <td>07-02-2019</td>\n",
       "      <td>2022.58</td>\n",
       "      <td>2037.42</td>\n",
       "      <td>2022.05</td>\n",
       "      <td>2026.09</td>\n",
       "      <td>7.72978e+07</td>\n",
       "    </tr>\n",
       "  </tbody>\n",
       "</table>\n",
       "</div>"
      ],
      "text/plain": [
       "   symbol        date     open     high      low    close       volume\n",
       "0  00DS30  03-02-2019  2007.96  2010.03  1996.52  2003.84  9.84212e+07\n",
       "1  00DS30  04-02-2019  2003.84  2023.21  2003.84  2018.20  8.89052e+07\n",
       "2  00DS30  05-02-2019  2018.20  2024.17  2010.43  2021.23  7.06664e+07\n",
       "3  00DS30  06-02-2019  2021.23  2027.78  2014.37  2022.58  7.66848e+07\n",
       "4  00DS30  07-02-2019  2022.58  2037.42  2022.05  2026.09  7.72978e+07"
      ]
     },
     "execution_count": 9,
     "metadata": {},
     "output_type": "execute_result"
    }
   ],
   "source": [
    "df_all.head()"
   ]
  },
  {
   "cell_type": "code",
   "execution_count": 10,
   "metadata": {},
   "outputs": [
    {
     "name": "stdout",
     "output_type": "stream",
     "text": [
      "<class 'pandas.core.frame.DataFrame'>\n",
      "Int64Index: 995836 entries, 0 to 6038\n",
      "Data columns (total 7 columns):\n",
      "symbol    995836 non-null object\n",
      "date      995836 non-null object\n",
      "open      995836 non-null float64\n",
      "high      995836 non-null float64\n",
      "low       995836 non-null object\n",
      "close     995836 non-null float64\n",
      "volume    995835 non-null object\n",
      "dtypes: float64(3), object(4)\n",
      "memory usage: 60.8+ MB\n"
     ]
    }
   ],
   "source": [
    "df_all.info()"
   ]
  },
  {
   "cell_type": "code",
   "execution_count": 11,
   "metadata": {},
   "outputs": [],
   "source": [
    "df_all = df_all.set_index(pd.to_datetime(df_all['date'], format = \"%d-%m-%Y\"))"
   ]
  },
  {
   "cell_type": "code",
   "execution_count": 12,
   "metadata": {},
   "outputs": [
    {
     "data": {
      "text/html": [
       "<div>\n",
       "<style scoped>\n",
       "    .dataframe tbody tr th:only-of-type {\n",
       "        vertical-align: middle;\n",
       "    }\n",
       "\n",
       "    .dataframe tbody tr th {\n",
       "        vertical-align: top;\n",
       "    }\n",
       "\n",
       "    .dataframe thead th {\n",
       "        text-align: right;\n",
       "    }\n",
       "</style>\n",
       "<table border=\"1\" class=\"dataframe\">\n",
       "  <thead>\n",
       "    <tr style=\"text-align: right;\">\n",
       "      <th></th>\n",
       "      <th>symbol</th>\n",
       "      <th>date</th>\n",
       "      <th>open</th>\n",
       "      <th>high</th>\n",
       "      <th>low</th>\n",
       "      <th>close</th>\n",
       "      <th>volume</th>\n",
       "    </tr>\n",
       "    <tr>\n",
       "      <th>date</th>\n",
       "      <th></th>\n",
       "      <th></th>\n",
       "      <th></th>\n",
       "      <th></th>\n",
       "      <th></th>\n",
       "      <th></th>\n",
       "      <th></th>\n",
       "    </tr>\n",
       "  </thead>\n",
       "  <tbody>\n",
       "    <tr>\n",
       "      <td>2019-02-03</td>\n",
       "      <td>00DS30</td>\n",
       "      <td>03-02-2019</td>\n",
       "      <td>2007.96</td>\n",
       "      <td>2010.03</td>\n",
       "      <td>1996.52</td>\n",
       "      <td>2003.84</td>\n",
       "      <td>9.84212e+07</td>\n",
       "    </tr>\n",
       "    <tr>\n",
       "      <td>2019-02-04</td>\n",
       "      <td>00DS30</td>\n",
       "      <td>04-02-2019</td>\n",
       "      <td>2003.84</td>\n",
       "      <td>2023.21</td>\n",
       "      <td>2003.84</td>\n",
       "      <td>2018.20</td>\n",
       "      <td>8.89052e+07</td>\n",
       "    </tr>\n",
       "    <tr>\n",
       "      <td>2019-02-05</td>\n",
       "      <td>00DS30</td>\n",
       "      <td>05-02-2019</td>\n",
       "      <td>2018.20</td>\n",
       "      <td>2024.17</td>\n",
       "      <td>2010.43</td>\n",
       "      <td>2021.23</td>\n",
       "      <td>7.06664e+07</td>\n",
       "    </tr>\n",
       "    <tr>\n",
       "      <td>2019-02-06</td>\n",
       "      <td>00DS30</td>\n",
       "      <td>06-02-2019</td>\n",
       "      <td>2021.23</td>\n",
       "      <td>2027.78</td>\n",
       "      <td>2014.37</td>\n",
       "      <td>2022.58</td>\n",
       "      <td>7.66848e+07</td>\n",
       "    </tr>\n",
       "    <tr>\n",
       "      <td>2019-02-07</td>\n",
       "      <td>00DS30</td>\n",
       "      <td>07-02-2019</td>\n",
       "      <td>2022.58</td>\n",
       "      <td>2037.42</td>\n",
       "      <td>2022.05</td>\n",
       "      <td>2026.09</td>\n",
       "      <td>7.72978e+07</td>\n",
       "    </tr>\n",
       "  </tbody>\n",
       "</table>\n",
       "</div>"
      ],
      "text/plain": [
       "            symbol        date     open     high      low    close  \\\n",
       "date                                                                 \n",
       "2019-02-03  00DS30  03-02-2019  2007.96  2010.03  1996.52  2003.84   \n",
       "2019-02-04  00DS30  04-02-2019  2003.84  2023.21  2003.84  2018.20   \n",
       "2019-02-05  00DS30  05-02-2019  2018.20  2024.17  2010.43  2021.23   \n",
       "2019-02-06  00DS30  06-02-2019  2021.23  2027.78  2014.37  2022.58   \n",
       "2019-02-07  00DS30  07-02-2019  2022.58  2037.42  2022.05  2026.09   \n",
       "\n",
       "                 volume  \n",
       "date                     \n",
       "2019-02-03  9.84212e+07  \n",
       "2019-02-04  8.89052e+07  \n",
       "2019-02-05  7.06664e+07  \n",
       "2019-02-06  7.66848e+07  \n",
       "2019-02-07  7.72978e+07  "
      ]
     },
     "execution_count": 12,
     "metadata": {},
     "output_type": "execute_result"
    }
   ],
   "source": [
    "df_all.head()"
   ]
  },
  {
   "cell_type": "code",
   "execution_count": 13,
   "metadata": {},
   "outputs": [
    {
     "name": "stdout",
     "output_type": "stream",
     "text": [
      "<class 'pandas.core.frame.DataFrame'>\n",
      "DatetimeIndex: 995836 entries, 2019-02-03 to 2019-06-30\n",
      "Data columns (total 7 columns):\n",
      "symbol    995836 non-null object\n",
      "date      995836 non-null object\n",
      "open      995836 non-null float64\n",
      "high      995836 non-null float64\n",
      "low       995836 non-null object\n",
      "close     995836 non-null float64\n",
      "volume    995835 non-null object\n",
      "dtypes: float64(3), object(4)\n",
      "memory usage: 60.8+ MB\n"
     ]
    }
   ],
   "source": [
    "df_all.info()"
   ]
  },
  {
   "cell_type": "code",
   "execution_count": 14,
   "metadata": {},
   "outputs": [],
   "source": [
    "df_dse30 = df_all[df_all['symbol'] == \"00DSEGEN\"]"
   ]
  },
  {
   "cell_type": "code",
   "execution_count": 15,
   "metadata": {},
   "outputs": [
    {
     "name": "stdout",
     "output_type": "stream",
     "text": [
      "<class 'pandas.core.frame.DataFrame'>\n",
      "DatetimeIndex: 1513 entries, 2008-01-01 to 2011-12-29\n",
      "Data columns (total 7 columns):\n",
      "symbol    1513 non-null object\n",
      "date      1513 non-null object\n",
      "open      1513 non-null float64\n",
      "high      1513 non-null float64\n",
      "low       1513 non-null object\n",
      "close     1513 non-null float64\n",
      "volume    1513 non-null object\n",
      "dtypes: float64(3), object(4)\n",
      "memory usage: 94.6+ KB\n"
     ]
    }
   ],
   "source": [
    "df_dse30.info()"
   ]
  },
  {
   "cell_type": "code",
   "execution_count": 16,
   "metadata": {},
   "outputs": [
    {
     "data": {
      "text/plain": [
       "<matplotlib.axes._subplots.AxesSubplot at 0x132cc3450>"
      ]
     },
     "execution_count": 16,
     "metadata": {},
     "output_type": "execute_result"
    },
    {
     "data": {
      "image/png": "[encoded data removed]",
      "text/plain": [
       "<Figure size 1800x720 with 2 Axes>"
      ]
     },
     "metadata": {
      "needs_background": "light"
     },
     "output_type": "display_data"
    },
    {
     "data": {
      "image/png": "[encoded data removed]",
      "text/plain": [
       "<Figure size 1800x720 with 2 Axes>"
      ]
     },
     "metadata": {
      "needs_background": "light"
     },
     "output_type": "display_data"
    }
   ],
   "source": [
    "msno.matrix(df_all)\n",
    "msno.matrix(df_dse30)"
   ]
  },
  {
   "cell_type": "code",
   "execution_count": 17,
   "metadata": {},
   "outputs": [
    {
     "data": {
      "text/plain": [
       "494"
      ]
     },
     "execution_count": 17,
     "metadata": {},
     "output_type": "execute_result"
    }
   ],
   "source": [
    "len(df_all['symbol'].unique())"
   ]
  },
  {
   "cell_type": "code",
   "execution_count": 18,
   "metadata": {},
   "outputs": [
    {
     "data": {
      "text/plain": [
       "array(['00DS30', '00DSES', '00DSEX', '01.Bank', '02.Cement',\n",
       "       '03.Ceramics_Sector', '04.Engineering',\n",
       "       '05.Financial_Institutions', '06.Food_&_Allied', '07.Fuel_&_Power',\n",
       "       '08.Insurance', '09.IT_Sector', '10.Jute', '11.Miscellaneous',\n",
       "       '12.Mutual_Funds', '13.Paper_&_Printing',\n",
       "       '14.Pharmaceuticals_&_Chemicals', '15.Services_&_Real_Estate',\n",
       "       '16.Tannery_Industries', '17.Telecommunication', '18.Textile',\n",
       "       '19.Travel_&_Leisure', '1JANATAMF', '1STPRIMFMF', '20.Bond',\n",
       "       'AAMRANET', 'AAMRATECH', 'ABB1STMF', 'ABBANK', 'ACFL', 'ACI',\n",
       "       'ACIFORMULA', 'ACMELAB', 'ACTIVEFINE', 'ADVENT', 'AFCAGRO',\n",
       "       'AFTABAUTO', 'AGNISYSL', 'AGRANINS', 'AIBL1STIMF', 'AIL',\n",
       "       'ALARABANK', 'AL-HAJTEX', 'ALIF', 'ALLTEX', 'AMANFEED', 'AMBEEPHA',\n",
       "       'AMCL(PRAN)', 'ANLIMAYARN', 'ANWARGALV', 'APEXFOODS', 'APEXFOOT',\n",
       "       'APEXSPINN', 'APEXTANRY', 'APOLOISPAT', 'ARAMIT', 'ARAMITCEM',\n",
       "       'ARGONDENIM', 'ASIAINS', 'ASIAPACINS', 'ATCSLGF', 'ATLASBANG',\n",
       "       'AZIZPIPES', 'BANGAS', 'BANKASIA', 'BARKAPOWER', 'BATASHOE',\n",
       "       'BATBC', 'BAYLEASING', 'BBS', 'BBSCABLES', 'BDAUTOCA', 'BDCOM',\n",
       "       'BDFINANCE', 'BDLAMPS', 'BDTHAI', 'BDWELDING', 'BEACHHATCH',\n",
       "       'BEACONPHAR', 'BENGALWTL', 'BERGERPBL', 'BEXIMCO', 'BGIC', 'BIFC',\n",
       "       'BNICL', 'BPML', 'BRACBANK', 'BSC', 'BSCCL', 'BSRMLTD',\n",
       "       'BSRMSTEEL', 'BXPHARMA', 'BXSYNTH', 'CAPMBDBLMF', 'CAPMIBBLMF',\n",
       "       'CENTRALINS', 'CENTRALPHL', 'CITYBANK', 'CITYGENINS', 'CNATEX',\n",
       "       'CONFIDCEM', 'CONTININS', 'CVOPRL', 'DACCADYE', 'DAFODILCOM',\n",
       "       'DBH', 'DBH1STMF', 'DELTALIFE', 'DELTASPINN', 'DESCO',\n",
       "       'DESHBANDHU', 'DHAKABANK', 'DHAKAINS', 'DOREENPWR', 'DS30', 'DSES',\n",
       "       'DSEX', 'DSHGARME', 'DSSL', 'DULAMIACOT', 'DUTCHBANGL',\n",
       "       'EASTERNINS', 'EASTLAND', 'EASTRNLUB', 'EBL', 'EBL1STMF',\n",
       "       'EBLNRBMF', 'ECABLES', 'EHL', 'EMERALDOIL', 'ENVOYTEX', 'ETL',\n",
       "       'EXIM1STMF', 'EXIMBANK', 'FAMILYTEX', 'FARCHEM', 'FAREASTFIN',\n",
       "       'FAREASTLIF', 'FASFIN', 'FBFIF', 'FEDERALINS', 'FEKDIL',\n",
       "       'FINEFOODS', 'FIRSTFIN', 'FIRSTSBANK', 'FORTUNE', 'FUWANGCER',\n",
       "       'FUWANGFOOD', 'GBBPOWER', 'GEMINISEA', 'GENEXIL', 'GENNEXT',\n",
       "       'GHAIL', 'GHCL', 'GLAXOSMITH', 'GLOBALINS', 'GOLDENSON', 'GP',\n",
       "       'GPHISPAT', 'GQBALLPEN', 'GRAMEENS2', 'GREENDELMF', 'GREENDELT',\n",
       "       'GSPFINANCE', 'HAKKANIPUL', 'HEIDELBCEM', 'HFL', 'HRTEX',\n",
       "       'HWAWELLTEX', 'IBBLPBOND', 'IBNSINA', 'IBP', 'ICB', 'ICB3RDNRB',\n",
       "       'ICBAGRANI1', 'ICBAMCL2ND', 'ICBEPMF1S1', 'ICBIBANK', 'ICBSONALI1',\n",
       "       'IDLC', 'IFADAUTOS', 'IFIC', 'IFIC1STMF', 'IFILISLMF1', 'ILFSL',\n",
       "       'IMAMBUTTON', 'INTECH', 'INTRACO', 'IPDC', 'ISLAMIBANK',\n",
       "       'ISLAMICFIN', 'ISLAMIINS', 'ISNLTD', 'ITC', 'JAMUNABANK',\n",
       "       'JAMUNAOIL', 'JANATAINS', 'JMISMDL', 'JUTESPINN', 'KARNAPHULI',\n",
       "       'KAY&QUE', 'KBPPWBIL', 'KDSALTD', 'KEYACOSMET', 'KOHINOOR', 'KPCL',\n",
       "       'KPPL', 'KTL', 'LANKABAFIN', 'LEGACYFOOT', 'LHBL', 'LIBRAINFU',\n",
       "       'LINDEBD', 'LRGLOBMF1', 'MAKSONSPIN', 'MALEKSPIN', 'MARICO',\n",
       "       'MATINSPINN', 'MBL1STMF', 'MEGCONMILK', 'MEGHNACEM', 'MEGHNALIFE',\n",
       "       'MEGHNAPET', 'MERCANBANK', 'MERCINS', 'METROSPIN', 'MHSML',\n",
       "       'MICEMENT', 'MIDASFIN', 'MIRACLEIND', 'MITHUNKNIT', 'MJLBD',\n",
       "       'MLDYEING', 'MONNOCERA', 'MONNOSTAF', 'MPETROLEUM', 'MTB',\n",
       "       'NAHEEACP', 'NATLIFEINS', 'NAVANACNG', 'NBL', 'NCCBANK',\n",
       "       'NCCBLMF1', 'NFML', 'NHFIL', 'NITOLINS', 'NLI1STMF', 'NORTHERN',\n",
       "       'NORTHRNINS', 'NPOLYMAR', 'NTC', 'NTLTUBES', 'NURANI', 'OAL',\n",
       "       'OIMEX', 'OLYMPIC', 'ONEBANKLTD', 'ORIONINFU', 'ORIONPHARM',\n",
       "       'PADMALIFE', 'PADMAOIL', 'PARAMOUNT', 'PDL', 'PENINSULA',\n",
       "       'PEOPLESINS', 'PF1STMF', 'PHARMAID', 'PHENIXINS', 'PHOENIXFIN',\n",
       "       'PHPMF1', 'PIONEERINS', 'PLFSL', 'POPULAR1MF', 'POPULARLIF',\n",
       "       'POWERGRID', 'PRAGATIINS', 'PRAGATILIF', 'PREMIERBAN',\n",
       "       'PREMIERCEM', 'PREMIERLEA', 'PRIME1ICBA', 'PRIMEBANK', 'PRIMEFIN',\n",
       "       'PRIMEINSUR', 'PRIMELIFE', 'PRIMETEX', 'PROGRESLIF', 'PROVATIINS',\n",
       "       'PTL', 'PUBALIBANK', 'PURABIGEN', 'QUASEMIND', 'QUEENSOUTH',\n",
       "       'RAHIMTEXT', 'RAKCERAMIC', 'RANFOUNDRY', 'RDFOOD', 'RECKITTBEN',\n",
       "       'REGENTTEX', 'RELIANCE1', 'RELIANCINS', 'RENATA', 'RENWICKJA',\n",
       "       'REPUBLIC', 'RNSPIN', 'RSRMSTEEL', 'RUPALIBANK', 'RUPALIINS',\n",
       "       'RUPALILIFE', 'SAFKOSPINN', 'SAIFPOWER', 'SAIHAMCOT', 'SAIHAMTEX',\n",
       "       'SALAMCRST', 'SALVOCHEM', 'SAMATALETH', 'SAMORITA', 'SANDHANINS',\n",
       "       'SAPORTL', 'SAVAREFR', 'SEBL1STMF', 'SEMLIBBLSF', 'SEMLLECMF',\n",
       "       'SHAHJABANK', 'SHASHADNIM', 'SHEPHERD', 'SHURWID', 'SHYAMPSUG',\n",
       "       'SIBL', 'SILVAPHL', 'SIMTEX', 'SINGERBD', 'SINOBANGLA', 'SKTRIMS',\n",
       "       'SONALIANSH', 'SONARBAINS', 'SONARGAON', 'SOUTHEASTB',\n",
       "       'SPCERAMICS', 'SPCL', 'SQUARETEXT', 'SQURPHARMA', 'SSSTEEL',\n",
       "       'STANCERAM', 'STANDARINS', 'STANDBANKL', 'STYLECRAFT',\n",
       "       'SUMITPOWER', 'SUNLIFEINS', 'TAKAFULINS', 'TALLUSPIN', 'TITASGAS',\n",
       "       'TOSRIFA', 'TRUSTB1MF', 'TRUSTBANK', 'TUNGHAI', 'UCB', 'UNIONCAP',\n",
       "       'UNIQUEHRL', 'UNITEDAIR', 'UNITEDFIN', 'UNITEDINS', 'UPGDCL',\n",
       "       'USMANIAGL', 'UTTARABANK', 'UTTARAFIN', 'VAMLBDMF1', 'VAMLRBBF',\n",
       "       'VFSTDL', 'WATACHEM', 'WMSHIPYARD', 'YPL', 'ZAHEENSPIN',\n",
       "       'ZAHINTEX', 'ZEALBANGLA', '00DSEGEN', '1STBSRS', '1STICB',\n",
       "       '2NDICB', '3RDICB', '4THICB', '5THICB', '6THICB', '7THICB',\n",
       "       '8THICB', 'AIMS1STMF', 'ALAMINCHEM', 'ALPHATOBA', 'AMAMSEAFD',\n",
       "       'APEXADELFT', 'APEXWEAV', 'ASHRAFTEX', 'BANGLAPRO', 'BCIL',\n",
       "       'BDDYE', 'BDHOTELS', 'BDLUGGAGE', 'BDONLINE', 'BDPLANT',\n",
       "       'BDZIPPER', 'BEMCO', 'BENGALBISC', 'BENGALFINE', 'BEXTEX',\n",
       "       'BIONICFOOD', 'BLTC', 'BOC', 'BXFISHERY', 'CHICTEX', 'CMCKAMAL',\n",
       "       'CTGVEG', 'DANDYDYE', 'DHAKAFISH', 'DYNAMICTEX', 'EAGLESTAR',\n",
       "       'EXCELSHOE', 'FIDELASSET', 'FLEASEINT', 'GACHIHATA', 'GBJVFOOD',\n",
       "       'GRAMEEN1', 'GULFOODS', 'HILLPLANT', 'HIMADRI', 'ICB1STNRB',\n",
       "       'ICB2NDNRB', 'ICBAMCL1ST', 'ICBISLAMIC', 'KEYADETERG',\n",
       "       'LAFSURCEML', 'LEXCO', 'MAQENTER', 'MAQPAPER', 'MEGHNASHRM',\n",
       "       'METALEXCR', 'MHOSSAIN', 'MITATEX', 'MODERNCEM', 'MODERNDYE',\n",
       "       'MODERNIND', 'MONAFOOD', 'MONNOFABR', 'MONNOJTX', 'MONOSPOOL',\n",
       "       'MTBL', 'NILOYCEM', 'PADMACEM', 'PADMAPRINT', 'PAPERPROC',\n",
       "       'PERFUMCHM', 'PETROSYNTH', 'PHARMACO', 'PHENIXLETH', 'QSMDRYCELL',\n",
       "       'QSMSILK', 'QSMTEX', 'RAHIMAFOOD', 'RAHMANCHEM', 'RANGAFOOD',\n",
       "       'RASPIT', 'RASPITDATA', 'ROSEHEAVEN', 'SAJIBKNIT', 'SALEHCARPT',\n",
       "       'SHINEPUKUR', 'SOCIALINV', 'SONALIPAPR', 'SREEPURTEX', 'TAMIJTEX',\n",
       "       'TBL', 'TRIPTI', 'TULIPDAIRY', 'UCBL', 'ULC', 'WONDERTOYS',\n",
       "       'ARAMITCEM ', 'AZIZPIPES ', 'BDSERVICE', 'BRACSCBOND', 'EASTLAND ',\n",
       "       'OLYMPIC ', 'ACIZCBOND', 'BEDL', 'FUWANGCER ', 'SPPCL',\n",
       "       'ESQUIRENIT', 'SEMLFBSLGF', 'BDBUILDING', 'NEWLINE', 'RUNNERAUTO',\n",
       "       'OCL', 'COPPERTECH', 'SEAPEARL', 'SILCOPHL'], dtype=object)"
      ]
     },
     "execution_count": 18,
     "metadata": {},
     "output_type": "execute_result"
    }
   ],
   "source": [
    "df_all['symbol'].unique()"
   ]
  },
  {
   "cell_type": "code",
   "execution_count": 19,
   "metadata": {},
   "outputs": [],
   "source": [
    "df = df_all['2008-01-01':'2008-01-03']"
   ]
  },
  {
   "cell_type": "code",
   "execution_count": 20,
   "metadata": {},
   "outputs": [
    {
     "data": {
      "text/html": [
       "<div>\n",
       "<style scoped>\n",
       "    .dataframe tbody tr th:only-of-type {\n",
       "        vertical-align: middle;\n",
       "    }\n",
       "\n",
       "    .dataframe tbody tr th {\n",
       "        vertical-align: top;\n",
       "    }\n",
       "\n",
       "    .dataframe thead th {\n",
       "        text-align: right;\n",
       "    }\n",
       "</style>\n",
       "<table border=\"1\" class=\"dataframe\">\n",
       "  <thead>\n",
       "    <tr style=\"text-align: right;\">\n",
       "      <th></th>\n",
       "      <th>symbol</th>\n",
       "      <th>date</th>\n",
       "      <th>open</th>\n",
       "      <th>high</th>\n",
       "      <th>low</th>\n",
       "      <th>close</th>\n",
       "      <th>volume</th>\n",
       "    </tr>\n",
       "    <tr>\n",
       "      <th>date</th>\n",
       "      <th></th>\n",
       "      <th></th>\n",
       "      <th></th>\n",
       "      <th></th>\n",
       "      <th></th>\n",
       "      <th></th>\n",
       "      <th></th>\n",
       "    </tr>\n",
       "  </thead>\n",
       "  <tbody>\n",
       "    <tr>\n",
       "      <td>2008-01-01</td>\n",
       "      <td>00DSEGEN</td>\n",
       "      <td>01-01-2008</td>\n",
       "      <td>3044.00</td>\n",
       "      <td>3048.00</td>\n",
       "      <td>3005</td>\n",
       "      <td>3008.91</td>\n",
       "      <td>1.32037e+07</td>\n",
       "    </tr>\n",
       "    <tr>\n",
       "      <td>2008-01-02</td>\n",
       "      <td>00DSEGEN</td>\n",
       "      <td>02-01-2008</td>\n",
       "      <td>3007.00</td>\n",
       "      <td>3008.91</td>\n",
       "      <td>2956.67</td>\n",
       "      <td>2959.36</td>\n",
       "      <td>1.16743e+07</td>\n",
       "    </tr>\n",
       "    <tr>\n",
       "      <td>2008-01-03</td>\n",
       "      <td>00DSEGEN</td>\n",
       "      <td>03-01-2008</td>\n",
       "      <td>2960.50</td>\n",
       "      <td>2981.57</td>\n",
       "      <td>2929.31</td>\n",
       "      <td>2979.48</td>\n",
       "      <td>1.13184e+07</td>\n",
       "    </tr>\n",
       "    <tr>\n",
       "      <td>2008-01-01</td>\n",
       "      <td>1STBSRS</td>\n",
       "      <td>01-01-2008</td>\n",
       "      <td>620.25</td>\n",
       "      <td>628.00</td>\n",
       "      <td>615.25</td>\n",
       "      <td>619.00</td>\n",
       "      <td>0</td>\n",
       "    </tr>\n",
       "    <tr>\n",
       "      <td>2008-01-02</td>\n",
       "      <td>1STBSRS</td>\n",
       "      <td>02-01-2008</td>\n",
       "      <td>613.50</td>\n",
       "      <td>617.50</td>\n",
       "      <td>607</td>\n",
       "      <td>612.75</td>\n",
       "      <td>0</td>\n",
       "    </tr>\n",
       "  </tbody>\n",
       "</table>\n",
       "</div>"
      ],
      "text/plain": [
       "              symbol        date     open     high      low    close  \\\n",
       "date                                                                   \n",
       "2008-01-01  00DSEGEN  01-01-2008  3044.00  3048.00     3005  3008.91   \n",
       "2008-01-02  00DSEGEN  02-01-2008  3007.00  3008.91  2956.67  2959.36   \n",
       "2008-01-03  00DSEGEN  03-01-2008  2960.50  2981.57  2929.31  2979.48   \n",
       "2008-01-01   1STBSRS  01-01-2008   620.25   628.00   615.25   619.00   \n",
       "2008-01-02   1STBSRS  02-01-2008   613.50   617.50      607   612.75   \n",
       "\n",
       "                 volume  \n",
       "date                     \n",
       "2008-01-01  1.32037e+07  \n",
       "2008-01-02  1.16743e+07  \n",
       "2008-01-03  1.13184e+07  \n",
       "2008-01-01            0  \n",
       "2008-01-02            0  "
      ]
     },
     "execution_count": 20,
     "metadata": {},
     "output_type": "execute_result"
    }
   ],
   "source": [
    "df.head()"
   ]
  },
  {
   "cell_type": "code",
   "execution_count": 21,
   "metadata": {},
   "outputs": [
    {
     "data": {
      "text/html": [
       "<div>\n",
       "<style scoped>\n",
       "    .dataframe tbody tr th:only-of-type {\n",
       "        vertical-align: middle;\n",
       "    }\n",
       "\n",
       "    .dataframe tbody tr th {\n",
       "        vertical-align: top;\n",
       "    }\n",
       "\n",
       "    .dataframe thead th {\n",
       "        text-align: right;\n",
       "    }\n",
       "</style>\n",
       "<table border=\"1\" class=\"dataframe\">\n",
       "  <thead>\n",
       "    <tr style=\"text-align: right;\">\n",
       "      <th></th>\n",
       "      <th>symbol</th>\n",
       "      <th>date</th>\n",
       "      <th>open</th>\n",
       "      <th>high</th>\n",
       "      <th>low</th>\n",
       "      <th>close</th>\n",
       "      <th>volume</th>\n",
       "    </tr>\n",
       "    <tr>\n",
       "      <th>date</th>\n",
       "      <th></th>\n",
       "      <th></th>\n",
       "      <th></th>\n",
       "      <th></th>\n",
       "      <th></th>\n",
       "      <th></th>\n",
       "      <th></th>\n",
       "    </tr>\n",
       "  </thead>\n",
       "  <tbody>\n",
       "    <tr>\n",
       "      <td>2008-01-01</td>\n",
       "      <td>00DSEGEN</td>\n",
       "      <td>01-01-2008</td>\n",
       "      <td>3044.00</td>\n",
       "      <td>3048.00</td>\n",
       "      <td>3005</td>\n",
       "      <td>3008.91</td>\n",
       "      <td>1.32037e+07</td>\n",
       "    </tr>\n",
       "    <tr>\n",
       "      <td>2008-01-02</td>\n",
       "      <td>00DSEGEN</td>\n",
       "      <td>02-01-2008</td>\n",
       "      <td>3007.00</td>\n",
       "      <td>3008.91</td>\n",
       "      <td>2956.67</td>\n",
       "      <td>2959.36</td>\n",
       "      <td>1.16743e+07</td>\n",
       "    </tr>\n",
       "    <tr>\n",
       "      <td>2008-01-03</td>\n",
       "      <td>00DSEGEN</td>\n",
       "      <td>03-01-2008</td>\n",
       "      <td>2960.50</td>\n",
       "      <td>2981.57</td>\n",
       "      <td>2929.31</td>\n",
       "      <td>2979.48</td>\n",
       "      <td>1.13184e+07</td>\n",
       "    </tr>\n",
       "    <tr>\n",
       "      <td>2008-01-06</td>\n",
       "      <td>00DSEGEN</td>\n",
       "      <td>06-01-2008</td>\n",
       "      <td>2976.89</td>\n",
       "      <td>2985.70</td>\n",
       "      <td>2928.33</td>\n",
       "      <td>2929.32</td>\n",
       "      <td>1.10248e+07</td>\n",
       "    </tr>\n",
       "    <tr>\n",
       "      <td>2008-01-07</td>\n",
       "      <td>00DSEGEN</td>\n",
       "      <td>07-01-2008</td>\n",
       "      <td>2928.00</td>\n",
       "      <td>2950.77</td>\n",
       "      <td>2921.84</td>\n",
       "      <td>2922.86</td>\n",
       "      <td>7.43962e+06</td>\n",
       "    </tr>\n",
       "  </tbody>\n",
       "</table>\n",
       "</div>"
      ],
      "text/plain": [
       "              symbol        date     open     high      low    close  \\\n",
       "date                                                                   \n",
       "2008-01-01  00DSEGEN  01-01-2008  3044.00  3048.00     3005  3008.91   \n",
       "2008-01-02  00DSEGEN  02-01-2008  3007.00  3008.91  2956.67  2959.36   \n",
       "2008-01-03  00DSEGEN  03-01-2008  2960.50  2981.57  2929.31  2979.48   \n",
       "2008-01-06  00DSEGEN  06-01-2008  2976.89  2985.70  2928.33  2929.32   \n",
       "2008-01-07  00DSEGEN  07-01-2008  2928.00  2950.77  2921.84  2922.86   \n",
       "\n",
       "                 volume  \n",
       "date                     \n",
       "2008-01-01  1.32037e+07  \n",
       "2008-01-02  1.16743e+07  \n",
       "2008-01-03  1.13184e+07  \n",
       "2008-01-06  1.10248e+07  \n",
       "2008-01-07  7.43962e+06  "
      ]
     },
     "execution_count": 21,
     "metadata": {},
     "output_type": "execute_result"
    }
   ],
   "source": [
    "df_dse30.head()"
   ]
  },
  {
   "cell_type": "code",
   "execution_count": 22,
   "metadata": {},
   "outputs": [
    {
     "data": {
      "text/plain": [
       "array(['03-02-2019', '04-02-2019', '05-02-2019', ..., '26-06-2019',\n",
       "       '27-06-2019', '30-06-2019'], dtype=object)"
      ]
     },
     "execution_count": 22,
     "metadata": {},
     "output_type": "execute_result"
    }
   ],
   "source": [
    "df_all['date'].unique()"
   ]
  },
  {
   "cell_type": "code",
   "execution_count": 23,
   "metadata": {},
   "outputs": [],
   "source": [
    "df_all = df_all.drop('date', axis=1)"
   ]
  },
  {
   "cell_type": "code",
   "execution_count": 24,
   "metadata": {},
   "outputs": [
    {
     "data": {
      "text/html": [
       "<div>\n",
       "<style scoped>\n",
       "    .dataframe tbody tr th:only-of-type {\n",
       "        vertical-align: middle;\n",
       "    }\n",
       "\n",
       "    .dataframe tbody tr th {\n",
       "        vertical-align: top;\n",
       "    }\n",
       "\n",
       "    .dataframe thead th {\n",
       "        text-align: right;\n",
       "    }\n",
       "</style>\n",
       "<table border=\"1\" class=\"dataframe\">\n",
       "  <thead>\n",
       "    <tr style=\"text-align: right;\">\n",
       "      <th></th>\n",
       "      <th>symbol</th>\n",
       "      <th>open</th>\n",
       "      <th>high</th>\n",
       "      <th>low</th>\n",
       "      <th>close</th>\n",
       "      <th>volume</th>\n",
       "    </tr>\n",
       "    <tr>\n",
       "      <th>date</th>\n",
       "      <th></th>\n",
       "      <th></th>\n",
       "      <th></th>\n",
       "      <th></th>\n",
       "      <th></th>\n",
       "      <th></th>\n",
       "    </tr>\n",
       "  </thead>\n",
       "  <tbody>\n",
       "    <tr>\n",
       "      <td>2019-02-03</td>\n",
       "      <td>00DS30</td>\n",
       "      <td>2007.96</td>\n",
       "      <td>2010.03</td>\n",
       "      <td>1996.52</td>\n",
       "      <td>2003.84</td>\n",
       "      <td>9.84212e+07</td>\n",
       "    </tr>\n",
       "    <tr>\n",
       "      <td>2019-02-04</td>\n",
       "      <td>00DS30</td>\n",
       "      <td>2003.84</td>\n",
       "      <td>2023.21</td>\n",
       "      <td>2003.84</td>\n",
       "      <td>2018.20</td>\n",
       "      <td>8.89052e+07</td>\n",
       "    </tr>\n",
       "    <tr>\n",
       "      <td>2019-02-05</td>\n",
       "      <td>00DS30</td>\n",
       "      <td>2018.20</td>\n",
       "      <td>2024.17</td>\n",
       "      <td>2010.43</td>\n",
       "      <td>2021.23</td>\n",
       "      <td>7.06664e+07</td>\n",
       "    </tr>\n",
       "    <tr>\n",
       "      <td>2019-02-06</td>\n",
       "      <td>00DS30</td>\n",
       "      <td>2021.23</td>\n",
       "      <td>2027.78</td>\n",
       "      <td>2014.37</td>\n",
       "      <td>2022.58</td>\n",
       "      <td>7.66848e+07</td>\n",
       "    </tr>\n",
       "    <tr>\n",
       "      <td>2019-02-07</td>\n",
       "      <td>00DS30</td>\n",
       "      <td>2022.58</td>\n",
       "      <td>2037.42</td>\n",
       "      <td>2022.05</td>\n",
       "      <td>2026.09</td>\n",
       "      <td>7.72978e+07</td>\n",
       "    </tr>\n",
       "  </tbody>\n",
       "</table>\n",
       "</div>"
      ],
      "text/plain": [
       "            symbol     open     high      low    close       volume\n",
       "date                                                               \n",
       "2019-02-03  00DS30  2007.96  2010.03  1996.52  2003.84  9.84212e+07\n",
       "2019-02-04  00DS30  2003.84  2023.21  2003.84  2018.20  8.89052e+07\n",
       "2019-02-05  00DS30  2018.20  2024.17  2010.43  2021.23  7.06664e+07\n",
       "2019-02-06  00DS30  2021.23  2027.78  2014.37  2022.58  7.66848e+07\n",
       "2019-02-07  00DS30  2022.58  2037.42  2022.05  2026.09  7.72978e+07"
      ]
     },
     "execution_count": 24,
     "metadata": {},
     "output_type": "execute_result"
    }
   ],
   "source": [
    "df_all.head()"
   ]
  },
  {
   "cell_type": "code",
   "execution_count": 25,
   "metadata": {},
   "outputs": [
    {
     "data": {
      "text/plain": [
       "244"
      ]
     },
     "execution_count": 25,
     "metadata": {},
     "output_type": "execute_result"
    }
   ],
   "source": [
    "len(df_all['2015-01-01':'2015-12-31'].index.unique())\n"
   ]
  },
  {
   "cell_type": "code",
   "execution_count": 26,
   "metadata": {},
   "outputs": [],
   "source": [
    "df_now = df_all[df_all['symbol'] == 'MTB']"
   ]
  },
  {
   "cell_type": "code",
   "execution_count": 27,
   "metadata": {},
   "outputs": [
    {
     "data": {
      "text/plain": [
       "date\n",
       "2015-01-01    20.1\n",
       "2015-01-05    20.1\n",
       "2015-01-06    20.5\n",
       "2015-01-07    21.0\n",
       "2015-01-08    20.4\n",
       "              ... \n",
       "2015-12-27    19.3\n",
       "2015-12-28    19.2\n",
       "2015-12-29    19.2\n",
       "2015-12-30    19.2\n",
       "2015-12-31    19.5\n",
       "Name: close, Length: 243, dtype: float64"
      ]
     },
     "execution_count": 27,
     "metadata": {},
     "output_type": "execute_result"
    }
   ],
   "source": [
    "df_now['2015-01-01':'2016-01-01']['close']"
   ]
  },
  {
   "cell_type": "code",
   "execution_count": 28,
   "metadata": {},
   "outputs": [
    {
     "data": {
      "text/plain": [
       "<matplotlib.axes._subplots.AxesSubplot at 0x1175bc590>"
      ]
     },
     "execution_count": 28,
     "metadata": {},
     "output_type": "execute_result"
    },
    {
     "data": {
      "image/png": "[encoded data removed]",
      "text/plain": [
       "<Figure size 432x288 with 1 Axes>"
      ]
     },
     "metadata": {
      "needs_background": "light"
     },
     "output_type": "display_data"
    }
   ],
   "source": [
    "sns.boxplot(df_now['2015-01-01':'2016-01-01']['close'])"
   ]
  },
  {
   "cell_type": "code",
   "execution_count": 30,
   "metadata": {},
   "outputs": [],
   "source": [
    "df_all.to_csv('../data/total_daily_data.csv')"
   ]
  },
  {
   "cell_type": "code",
   "execution_count": null,
   "metadata": {},
   "outputs": [],
   "source": []
  }
 ],
 "metadata": {
  "kernelspec": {
   "display_name": "Python 3",
   "language": "python",
   "name": "python3"
  },
  "language_info": {
   "codemirror_mode": {
    "name": "ipython",
    "version": 3
   },
   "file_extension": ".py",
   "mimetype": "text/x-python",
   "name": "python",
   "nbconvert_exporter": "python",
   "pygments_lexer": "ipython3",
   "version": "3.7.4"
  }
 },
 "nbformat": 4,
 "nbformat_minor": 2
}
