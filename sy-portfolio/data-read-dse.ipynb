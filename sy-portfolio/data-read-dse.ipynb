{
 "cells": [
  {
   "cell_type": "code",
   "execution_count": 78,
   "metadata": {},
   "outputs": [],
   "source": [
    "import pandas as pd\n",
    "import glob as  g\n",
    "import missingno as msno\n",
    "import seaborn as sns"
   ]
  },
  {
   "cell_type": "code",
   "execution_count": 3,
   "metadata": {},
   "outputs": [
    {
     "name": "stdout",
     "output_type": "stream",
     "text": [
      "Help on module glob:\n",
      "\n",
      "NAME\n",
      "    glob - Filename globbing utility.\n",
      "\n",
      "FUNCTIONS\n",
      "    escape(pathname)\n",
      "        Escape all special characters.\n",
      "    \n",
      "    glob(pathname, *, recursive=False)\n",
      "        Return a list of paths matching a pathname pattern.\n",
      "        \n",
      "        The pattern may contain simple shell-style wildcards a la\n",
      "        fnmatch. However, unlike fnmatch, filenames starting with a\n",
      "        dot are special cases that are not matched by '*' and '?'\n",
      "        patterns.\n",
      "        \n",
      "        If recursive is true, the pattern '**' will match any files and\n",
      "        zero or more directories and subdirectories.\n",
      "    \n",
      "    iglob(pathname, *, recursive=False)\n",
      "        Return an iterator which yields the paths matching a pathname pattern.\n",
      "        \n",
      "        The pattern may contain simple shell-style wildcards a la\n",
      "        fnmatch. However, unlike fnmatch, filenames starting with a\n",
      "        dot are special cases that are not matched by '*' and '?'\n",
      "        patterns.\n",
      "        \n",
      "        If recursive is true, the pattern '**' will match any files and\n",
      "        zero or more directories and subdirectories.\n",
      "\n",
      "DATA\n",
      "    __all__ = ['glob', 'iglob', 'escape']\n",
      "\n",
      "FILE\n",
      "    /usr/lib/python3.7/glob.py\n",
      "\n",
      "\n"
     ]
    }
   ],
   "source": [
    "help(g)"
   ]
  },
  {
   "cell_type": "code",
   "execution_count": 9,
   "metadata": {},
   "outputs": [],
   "source": [
    "files = g.glob('../data/*.csv')"
   ]
  },
  {
   "cell_type": "code",
   "execution_count": 10,
   "metadata": {},
   "outputs": [
    {
     "data": {
      "text/plain": [
       "['../data/May 2019.csv',\n",
       " '../data/July 2019.csv',\n",
       " '../data/2007.csv',\n",
       " '../data/1999.csv',\n",
       " '../data/2014.csv',\n",
       " '../data/February 2019.csv',\n",
       " '../data/2002.csv',\n",
       " '../data/2009.csv',\n",
       " '../data/August 2019.csv',\n",
       " '../data/2008.csv',\n",
       " '../data/2004.csv',\n",
       " '../data/April 2019.csv',\n",
       " '../data/March 2019.csv',\n",
       " '../data/2012.csv',\n",
       " '../data/2010.csv',\n",
       " '../data/2015.csv',\n",
       " '../data/2006.csv',\n",
       " '../data/2013.csv',\n",
       " '../data/2017.csv',\n",
       " '../data/2016.csv',\n",
       " '../data/2011.csv',\n",
       " '../data/2018.csv',\n",
       " '../data/2001.csv',\n",
       " '../data/2005.csv',\n",
       " '../data/January 2019.csv',\n",
       " '../data/2000.csv',\n",
       " '../data/June 2019.csv',\n",
       " '../data/2003.csv']"
      ]
     },
     "execution_count": 10,
     "metadata": {},
     "output_type": "execute_result"
    }
   ],
   "source": [
    "files"
   ]
  },
  {
   "cell_type": "code",
   "execution_count": 13,
   "metadata": {},
   "outputs": [],
   "source": [
    "df = pd.read_csv(files[0], names = ['symbol', 'date', 'open', 'high', 'low', 'close', 'volume'])"
   ]
  },
  {
   "cell_type": "code",
   "execution_count": 23,
   "metadata": {},
   "outputs": [],
   "source": [
    "columns = ['symbol', 'date', 'open', 'high', 'low', 'close', 'volume']\n",
    "df_all = pd.DataFrame(columns = columns)"
   ]
  },
  {
   "cell_type": "code",
   "execution_count": 30,
   "metadata": {},
   "outputs": [
    {
     "name": "stdout",
     "output_type": "stream",
     "text": [
      "1\n",
      "2\n",
      "3\n",
      "4\n",
      "5\n",
      "6\n",
      "7\n",
      "8\n",
      "9\n",
      "10\n",
      "11\n",
      "12\n",
      "13\n",
      "14\n",
      "15\n",
      "16\n",
      "17\n",
      "18\n",
      "19\n",
      "20\n",
      "21\n",
      "22\n",
      "23\n",
      "24\n",
      "25\n",
      "26\n",
      "27\n",
      "28\n"
     ]
    }
   ],
   "source": [
    "files = g.glob('../data/*.csv')\n",
    "columns = ['symbol', 'date', 'open', 'high', 'low', 'close', 'volume']\n",
    "df_all = pd.DataFrame(columns = columns)\n",
    "i = 0\n",
    "for file in files:\n",
    "    i += 1\n",
    "    df = pd.read_csv(file, names = ['symbol', 'date', 'open', 'high', 'low', 'close', 'volume'])\n",
    "    df_all = pd.concat([df_all, df])\n",
    "    print(i)"
   ]
  },
  {
   "cell_type": "code",
   "execution_count": 31,
   "metadata": {},
   "outputs": [
    {
     "data": {
      "text/html": [
       "<div>\n",
       "<style scoped>\n",
       "    .dataframe tbody tr th:only-of-type {\n",
       "        vertical-align: middle;\n",
       "    }\n",
       "\n",
       "    .dataframe tbody tr th {\n",
       "        vertical-align: top;\n",
       "    }\n",
       "\n",
       "    .dataframe thead th {\n",
       "        text-align: right;\n",
       "    }\n",
       "</style>\n",
       "<table border=\"1\" class=\"dataframe\">\n",
       "  <thead>\n",
       "    <tr style=\"text-align: right;\">\n",
       "      <th></th>\n",
       "      <th>symbol</th>\n",
       "      <th>date</th>\n",
       "      <th>open</th>\n",
       "      <th>high</th>\n",
       "      <th>low</th>\n",
       "      <th>close</th>\n",
       "      <th>volume</th>\n",
       "    </tr>\n",
       "  </thead>\n",
       "  <tbody>\n",
       "    <tr>\n",
       "      <td>0</td>\n",
       "      <td>00DS30</td>\n",
       "      <td>02-05-2019</td>\n",
       "      <td>1846.67</td>\n",
       "      <td>1875.75</td>\n",
       "      <td>1846.67</td>\n",
       "      <td>1870.58</td>\n",
       "      <td>4.753e+07</td>\n",
       "    </tr>\n",
       "    <tr>\n",
       "      <td>1</td>\n",
       "      <td>00DS30</td>\n",
       "      <td>05-05-2019</td>\n",
       "      <td>1870.58</td>\n",
       "      <td>1903.53</td>\n",
       "      <td>1870.58</td>\n",
       "      <td>1901.66</td>\n",
       "      <td>5.35959e+07</td>\n",
       "    </tr>\n",
       "    <tr>\n",
       "      <td>2</td>\n",
       "      <td>00DS30</td>\n",
       "      <td>06-05-2019</td>\n",
       "      <td>1901.66</td>\n",
       "      <td>1907.48</td>\n",
       "      <td>1879.36</td>\n",
       "      <td>1881.21</td>\n",
       "      <td>4.67345e+07</td>\n",
       "    </tr>\n",
       "    <tr>\n",
       "      <td>3</td>\n",
       "      <td>00DS30</td>\n",
       "      <td>07-05-2019</td>\n",
       "      <td>1881.21</td>\n",
       "      <td>1886.95</td>\n",
       "      <td>1858.92</td>\n",
       "      <td>1861.82</td>\n",
       "      <td>4.33506e+07</td>\n",
       "    </tr>\n",
       "    <tr>\n",
       "      <td>4</td>\n",
       "      <td>00DS30</td>\n",
       "      <td>08-05-2019</td>\n",
       "      <td>1861.82</td>\n",
       "      <td>1868.76</td>\n",
       "      <td>1852.75</td>\n",
       "      <td>1858.05</td>\n",
       "      <td>3.31784e+07</td>\n",
       "    </tr>\n",
       "  </tbody>\n",
       "</table>\n",
       "</div>"
      ],
      "text/plain": [
       "   symbol        date     open     high      low    close       volume\n",
       "0  00DS30  02-05-2019  1846.67  1875.75  1846.67  1870.58    4.753e+07\n",
       "1  00DS30  05-05-2019  1870.58  1903.53  1870.58  1901.66  5.35959e+07\n",
       "2  00DS30  06-05-2019  1901.66  1907.48  1879.36  1881.21  4.67345e+07\n",
       "3  00DS30  07-05-2019  1881.21  1886.95  1858.92  1861.82  4.33506e+07\n",
       "4  00DS30  08-05-2019  1861.82  1868.76  1852.75  1858.05  3.31784e+07"
      ]
     },
     "execution_count": 31,
     "metadata": {},
     "output_type": "execute_result"
    }
   ],
   "source": [
    "df_all.head()"
   ]
  },
  {
   "cell_type": "code",
   "execution_count": 32,
   "metadata": {},
   "outputs": [
    {
     "name": "stdout",
     "output_type": "stream",
     "text": [
      "<class 'pandas.core.frame.DataFrame'>\n",
      "Int64Index: 995836 entries, 0 to 19586\n",
      "Data columns (total 7 columns):\n",
      "symbol    995836 non-null object\n",
      "date      995836 non-null object\n",
      "open      995836 non-null float64\n",
      "high      995836 non-null float64\n",
      "low       995836 non-null object\n",
      "close     995836 non-null float64\n",
      "volume    995835 non-null object\n",
      "dtypes: float64(3), object(4)\n",
      "memory usage: 60.8+ MB\n"
     ]
    }
   ],
   "source": [
    "df_all.info()"
   ]
  },
  {
   "cell_type": "code",
   "execution_count": 34,
   "metadata": {},
   "outputs": [],
   "source": [
    "df_all = df_all.set_index(pd.to_datetime(df_all['date'], format = \"%d-%m-%Y\"))"
   ]
  },
  {
   "cell_type": "code",
   "execution_count": 35,
   "metadata": {},
   "outputs": [
    {
     "data": {
      "text/html": [
       "<div>\n",
       "<style scoped>\n",
       "    .dataframe tbody tr th:only-of-type {\n",
       "        vertical-align: middle;\n",
       "    }\n",
       "\n",
       "    .dataframe tbody tr th {\n",
       "        vertical-align: top;\n",
       "    }\n",
       "\n",
       "    .dataframe thead th {\n",
       "        text-align: right;\n",
       "    }\n",
       "</style>\n",
       "<table border=\"1\" class=\"dataframe\">\n",
       "  <thead>\n",
       "    <tr style=\"text-align: right;\">\n",
       "      <th></th>\n",
       "      <th>symbol</th>\n",
       "      <th>date</th>\n",
       "      <th>open</th>\n",
       "      <th>high</th>\n",
       "      <th>low</th>\n",
       "      <th>close</th>\n",
       "      <th>volume</th>\n",
       "    </tr>\n",
       "    <tr>\n",
       "      <th>date</th>\n",
       "      <th></th>\n",
       "      <th></th>\n",
       "      <th></th>\n",
       "      <th></th>\n",
       "      <th></th>\n",
       "      <th></th>\n",
       "      <th></th>\n",
       "    </tr>\n",
       "  </thead>\n",
       "  <tbody>\n",
       "    <tr>\n",
       "      <td>2019-05-02</td>\n",
       "      <td>00DS30</td>\n",
       "      <td>02-05-2019</td>\n",
       "      <td>1846.67</td>\n",
       "      <td>1875.75</td>\n",
       "      <td>1846.67</td>\n",
       "      <td>1870.58</td>\n",
       "      <td>4.753e+07</td>\n",
       "    </tr>\n",
       "    <tr>\n",
       "      <td>2019-05-05</td>\n",
       "      <td>00DS30</td>\n",
       "      <td>05-05-2019</td>\n",
       "      <td>1870.58</td>\n",
       "      <td>1903.53</td>\n",
       "      <td>1870.58</td>\n",
       "      <td>1901.66</td>\n",
       "      <td>5.35959e+07</td>\n",
       "    </tr>\n",
       "    <tr>\n",
       "      <td>2019-05-06</td>\n",
       "      <td>00DS30</td>\n",
       "      <td>06-05-2019</td>\n",
       "      <td>1901.66</td>\n",
       "      <td>1907.48</td>\n",
       "      <td>1879.36</td>\n",
       "      <td>1881.21</td>\n",
       "      <td>4.67345e+07</td>\n",
       "    </tr>\n",
       "    <tr>\n",
       "      <td>2019-05-07</td>\n",
       "      <td>00DS30</td>\n",
       "      <td>07-05-2019</td>\n",
       "      <td>1881.21</td>\n",
       "      <td>1886.95</td>\n",
       "      <td>1858.92</td>\n",
       "      <td>1861.82</td>\n",
       "      <td>4.33506e+07</td>\n",
       "    </tr>\n",
       "    <tr>\n",
       "      <td>2019-05-08</td>\n",
       "      <td>00DS30</td>\n",
       "      <td>08-05-2019</td>\n",
       "      <td>1861.82</td>\n",
       "      <td>1868.76</td>\n",
       "      <td>1852.75</td>\n",
       "      <td>1858.05</td>\n",
       "      <td>3.31784e+07</td>\n",
       "    </tr>\n",
       "  </tbody>\n",
       "</table>\n",
       "</div>"
      ],
      "text/plain": [
       "            symbol        date     open     high      low    close  \\\n",
       "date                                                                 \n",
       "2019-05-02  00DS30  02-05-2019  1846.67  1875.75  1846.67  1870.58   \n",
       "2019-05-05  00DS30  05-05-2019  1870.58  1903.53  1870.58  1901.66   \n",
       "2019-05-06  00DS30  06-05-2019  1901.66  1907.48  1879.36  1881.21   \n",
       "2019-05-07  00DS30  07-05-2019  1881.21  1886.95  1858.92  1861.82   \n",
       "2019-05-08  00DS30  08-05-2019  1861.82  1868.76  1852.75  1858.05   \n",
       "\n",
       "                 volume  \n",
       "date                     \n",
       "2019-05-02    4.753e+07  \n",
       "2019-05-05  5.35959e+07  \n",
       "2019-05-06  4.67345e+07  \n",
       "2019-05-07  4.33506e+07  \n",
       "2019-05-08  3.31784e+07  "
      ]
     },
     "execution_count": 35,
     "metadata": {},
     "output_type": "execute_result"
    }
   ],
   "source": [
    "df_all.head()"
   ]
  },
  {
   "cell_type": "code",
   "execution_count": 37,
   "metadata": {},
   "outputs": [
    {
     "name": "stdout",
     "output_type": "stream",
     "text": [
      "<class 'pandas.core.frame.DataFrame'>\n",
      "DatetimeIndex: 995836 entries, 2019-05-02 to 2003-12-30\n",
      "Data columns (total 7 columns):\n",
      "symbol    995836 non-null object\n",
      "date      995836 non-null object\n",
      "open      995836 non-null float64\n",
      "high      995836 non-null float64\n",
      "low       995836 non-null object\n",
      "close     995836 non-null float64\n",
      "volume    995835 non-null object\n",
      "dtypes: float64(3), object(4)\n",
      "memory usage: 60.8+ MB\n"
     ]
    }
   ],
   "source": [
    "df_all.info()"
   ]
  },
  {
   "cell_type": "code",
   "execution_count": 50,
   "metadata": {},
   "outputs": [],
   "source": [
    "df_dse30 = df_all[df_all['symbol'] == \"00DSEGEN\"]"
   ]
  },
  {
   "cell_type": "code",
   "execution_count": 41,
   "metadata": {},
   "outputs": [
    {
     "name": "stdout",
     "output_type": "stream",
     "text": [
      "<class 'pandas.core.frame.DataFrame'>\n",
      "DatetimeIndex: 1130 entries, 2019-05-02 to 2019-06-30\n",
      "Data columns (total 7 columns):\n",
      "symbol    1130 non-null object\n",
      "date      1130 non-null object\n",
      "open      1130 non-null float64\n",
      "high      1130 non-null float64\n",
      "low       1130 non-null object\n",
      "close     1130 non-null float64\n",
      "volume    1130 non-null object\n",
      "dtypes: float64(3), object(4)\n",
      "memory usage: 70.6+ KB\n"
     ]
    }
   ],
   "source": [
    "df_dse30.info()"
   ]
  },
  {
   "cell_type": "code",
   "execution_count": 51,
   "metadata": {},
   "outputs": [
    {
     "data": {
      "text/plain": [
       "<matplotlib.axes._subplots.AxesSubplot at 0x7f8f708d26a0>"
      ]
     },
     "execution_count": 51,
     "metadata": {},
     "output_type": "execute_result"
    },
    {
     "data": {
      "image/png": "[encoded data removed]",
      "text/plain": [
       "<Figure size 1800x720 with 2 Axes>"
      ]
     },
     "metadata": {
      "needs_background": "light"
     },
     "output_type": "display_data"
    },
    {
     "data": {
      "image/png": "[encoded data removed]",
      "text/plain": [
       "<Figure size 1800x720 with 2 Axes>"
      ]
     },
     "metadata": {
      "needs_background": "light"
     },
     "output_type": "display_data"
    }
   ],
   "source": [
    "msno.matrix(df_all)\n",
    "msno.matrix(df_dse30)"
   ]
  },
  {
   "cell_type": "code",
   "execution_count": 46,
   "metadata": {},
   "outputs": [
    {
     "data": {
      "text/plain": [
       "494"
      ]
     },
     "execution_count": 46,
     "metadata": {},
     "output_type": "execute_result"
    }
   ],
   "source": [
    "len(df_all['symbol'].unique())"
   ]
  },
  {
   "cell_type": "code",
   "execution_count": 47,
   "metadata": {},
   "outputs": [
    {
     "data": {
      "text/plain": [
       "array(['00DS30', '00DSES', '00DSEX', '01.Bank', '02.Cement',\n",
       "       '03.Ceramics_Sector', '04.Engineering',\n",
       "       '05.Financial_Institutions', '06.Food_&_Allied', '07.Fuel_&_Power',\n",
       "       '08.Insurance', '09.IT_Sector', '10.Jute', '11.Miscellaneous',\n",
       "       '12.Mutual_Funds', '13.Paper_&_Printing',\n",
       "       '14.Pharmaceuticals_&_Chemicals', '15.Services_&_Real_Estate',\n",
       "       '16.Tannery_Industries', '17.Telecommunication', '18.Textile',\n",
       "       '19.Travel_&_Leisure', '1JANATAMF', '1STPRIMFMF', '20.Bond',\n",
       "       'AAMRANET', 'AAMRATECH', 'ABB1STMF', 'ABBANK', 'ACFL', 'ACI',\n",
       "       'ACIFORMULA', 'ACMELAB', 'ACTIVEFINE', 'ADVENT', 'AFCAGRO',\n",
       "       'AFTABAUTO', 'AGNISYSL', 'AGRANINS', 'AIBL1STIMF', 'AIL',\n",
       "       'ALARABANK', 'AL-HAJTEX', 'ALIF', 'ALLTEX', 'AMANFEED', 'AMBEEPHA',\n",
       "       'AMCL(PRAN)', 'ANLIMAYARN', 'ANWARGALV', 'APEXFOODS', 'APEXFOOT',\n",
       "       'APEXSPINN', 'APEXTANRY', 'APOLOISPAT', 'ARAMIT', 'ARAMITCEM',\n",
       "       'ARGONDENIM', 'ASIAINS', 'ASIAPACINS', 'ATCSLGF', 'ATLASBANG',\n",
       "       'AZIZPIPES', 'BANGAS', 'BANKASIA', 'BARKAPOWER', 'BATASHOE',\n",
       "       'BATBC', 'BAYLEASING', 'BBS', 'BBSCABLES', 'BDAUTOCA', 'BDCOM',\n",
       "       'BDFINANCE', 'BDLAMPS', 'BDTHAI', 'BDWELDING', 'BEACHHATCH',\n",
       "       'BEACONPHAR', 'BENGALWTL', 'BERGERPBL', 'BEXIMCO', 'BGIC', 'BIFC',\n",
       "       'BNICL', 'BPML', 'BRACBANK', 'BSC', 'BSCCL', 'BSRMLTD',\n",
       "       'BSRMSTEEL', 'BXPHARMA', 'BXSYNTH', 'CAPMBDBLMF', 'CAPMIBBLMF',\n",
       "       'CENTRALINS', 'CENTRALPHL', 'CITYBANK', 'CITYGENINS', 'CNATEX',\n",
       "       'CONFIDCEM', 'CONTININS', 'CVOPRL', 'DACCADYE', 'DAFODILCOM',\n",
       "       'DBH', 'DBH1STMF', 'DELTALIFE', 'DELTASPINN', 'DESCO',\n",
       "       'DESHBANDHU', 'DHAKABANK', 'DHAKAINS', 'DOREENPWR', 'DS30', 'DSES',\n",
       "       'DSEX', 'DSHGARME', 'DSSL', 'DULAMIACOT', 'DUTCHBANGL',\n",
       "       'EASTERNINS', 'EASTLAND', 'EASTRNLUB', 'EBL', 'EBL1STMF',\n",
       "       'EBLNRBMF', 'ECABLES', 'EHL', 'EMERALDOIL', 'ENVOYTEX',\n",
       "       'ESQUIRENIT', 'ETL', 'EXIM1STMF', 'EXIMBANK', 'FAMILYTEX',\n",
       "       'FARCHEM', 'FAREASTFIN', 'FAREASTLIF', 'FASFIN', 'FBFIF',\n",
       "       'FEDERALINS', 'FEKDIL', 'FINEFOODS', 'FIRSTFIN', 'FIRSTSBANK',\n",
       "       'FORTUNE', 'FUWANGCER', 'FUWANGFOOD', 'GBBPOWER', 'GEMINISEA',\n",
       "       'GENEXIL', 'GENNEXT', 'GHAIL', 'GHCL', 'GLAXOSMITH', 'GLOBALINS',\n",
       "       'GOLDENSON', 'GP', 'GPHISPAT', 'GQBALLPEN', 'GRAMEENS2',\n",
       "       'GREENDELMF', 'GREENDELT', 'GSPFINANCE', 'HAKKANIPUL',\n",
       "       'HEIDELBCEM', 'HFL', 'HRTEX', 'HWAWELLTEX', 'IBBLPBOND', 'IBNSINA',\n",
       "       'IBP', 'ICB', 'ICB3RDNRB', 'ICBAGRANI1', 'ICBAMCL2ND',\n",
       "       'ICBEPMF1S1', 'ICBIBANK', 'ICBSONALI1', 'IDLC', 'IFADAUTOS',\n",
       "       'IFIC', 'IFIC1STMF', 'IFILISLMF1', 'ILFSL', 'IMAMBUTTON', 'INTECH',\n",
       "       'INTRACO', 'IPDC', 'ISLAMIBANK', 'ISLAMICFIN', 'ISLAMIINS',\n",
       "       'ISNLTD', 'ITC', 'JAMUNABANK', 'JAMUNAOIL', 'JANATAINS', 'JMISMDL',\n",
       "       'JUTESPINN', 'KARNAPHULI', 'KAY&QUE', 'KBPPWBIL', 'KDSALTD',\n",
       "       'KEYACOSMET', 'KOHINOOR', 'KPCL', 'KPPL', 'KTL', 'LANKABAFIN',\n",
       "       'LEGACYFOOT', 'LHBL', 'LIBRAINFU', 'LINDEBD', 'LRGLOBMF1',\n",
       "       'MAKSONSPIN', 'MALEKSPIN', 'MARICO', 'MATINSPINN', 'MBL1STMF',\n",
       "       'MEGCONMILK', 'MEGHNACEM', 'MEGHNALIFE', 'MEGHNAPET', 'MERCANBANK',\n",
       "       'MERCINS', 'METROSPIN', 'MHSML', 'MICEMENT', 'MIDASFIN',\n",
       "       'MIRACLEIND', 'MITHUNKNIT', 'MJLBD', 'MLDYEING', 'MONNOCERA',\n",
       "       'MONNOSTAF', 'MPETROLEUM', 'MTB', 'NAHEEACP', 'NATLIFEINS',\n",
       "       'NAVANACNG', 'NBL', 'NCCBANK', 'NCCBLMF1', 'NEWLINE', 'NFML',\n",
       "       'NHFIL', 'NITOLINS', 'NLI1STMF', 'NORTHERN', 'NORTHRNINS',\n",
       "       'NPOLYMAR', 'NTC', 'NTLTUBES', 'NURANI', 'OAL', 'OIMEX', 'OLYMPIC',\n",
       "       'ONEBANKLTD', 'ORIONINFU', 'ORIONPHARM', 'PADMALIFE', 'PADMAOIL',\n",
       "       'PARAMOUNT', 'PDL', 'PENINSULA', 'PEOPLESINS', 'PF1STMF',\n",
       "       'PHARMAID', 'PHENIXINS', 'PHOENIXFIN', 'PHPMF1', 'PIONEERINS',\n",
       "       'PLFSL', 'POPULAR1MF', 'POPULARLIF', 'POWERGRID', 'PRAGATIINS',\n",
       "       'PRAGATILIF', 'PREMIERBAN', 'PREMIERCEM', 'PREMIERLEA',\n",
       "       'PRIME1ICBA', 'PRIMEBANK', 'PRIMEFIN', 'PRIMEINSUR', 'PRIMELIFE',\n",
       "       'PRIMETEX', 'PROGRESLIF', 'PROVATIINS', 'PTL', 'PUBALIBANK',\n",
       "       'PURABIGEN', 'QUASEMIND', 'QUEENSOUTH', 'RAHIMTEXT', 'RAKCERAMIC',\n",
       "       'RANFOUNDRY', 'RDFOOD', 'RECKITTBEN', 'REGENTTEX', 'RELIANCE1',\n",
       "       'RELIANCINS', 'RENATA', 'RENWICKJA', 'REPUBLIC', 'RNSPIN',\n",
       "       'RSRMSTEEL', 'RUNNERAUTO', 'RUPALIBANK', 'RUPALIINS', 'RUPALILIFE',\n",
       "       'SAFKOSPINN', 'SAIFPOWER', 'SAIHAMCOT', 'SAIHAMTEX', 'SALAMCRST',\n",
       "       'SALVOCHEM', 'SAMATALETH', 'SAMORITA', 'SANDHANINS', 'SAPORTL',\n",
       "       'SAVAREFR', 'SEBL1STMF', 'SEMLFBSLGF', 'SEMLIBBLSF', 'SEMLLECMF',\n",
       "       'SHAHJABANK', 'SHASHADNIM', 'SHEPHERD', 'SHURWID', 'SHYAMPSUG',\n",
       "       'SIBL', 'SILVAPHL', 'SIMTEX', 'SINGERBD', 'SINOBANGLA', 'SKTRIMS',\n",
       "       'SONALIANSH', 'SONARBAINS', 'SONARGAON', 'SOUTHEASTB',\n",
       "       'SPCERAMICS', 'SPCL', 'SQUARETEXT', 'SQURPHARMA', 'SSSTEEL',\n",
       "       'STANCERAM', 'STANDARINS', 'STANDBANKL', 'STYLECRAFT',\n",
       "       'SUMITPOWER', 'SUNLIFEINS', 'TAKAFULINS', 'TALLUSPIN', 'TITASGAS',\n",
       "       'TOSRIFA', 'TRUSTB1MF', 'TRUSTBANK', 'TUNGHAI', 'UCB', 'UNIONCAP',\n",
       "       'UNIQUEHRL', 'UNITEDAIR', 'UNITEDFIN', 'UNITEDINS', 'UPGDCL',\n",
       "       'USMANIAGL', 'UTTARABANK', 'UTTARAFIN', 'VAMLBDMF1', 'VAMLRBBF',\n",
       "       'VFSTDL', 'WATACHEM', 'WMSHIPYARD', 'YPL', 'ZAHEENSPIN',\n",
       "       'ZAHINTEX', 'ZEALBANGLA', 'SEAPEARL', 'SILCOPHL', '00DSEGEN',\n",
       "       '1STBSRS', '1STICB', '2NDICB', '3RDICB', '4THICB', '5THICB',\n",
       "       '6THICB', '7THICB', '8THICB', 'AIMS1STMF', 'ALAMINCHEM',\n",
       "       'ALPHATOBA', 'AMAMSEAFD', 'APEXADELFT', 'APEXWEAV', 'ASHRAFTEX',\n",
       "       'BANGLAPRO', 'BCIL', 'BDDYE', 'BDLUGGAGE', 'BDONLINE', 'BDPLANT',\n",
       "       'BDZIPPER', 'BENGALBISC', 'BENGALFINE', 'BEXTEX', 'BIONICFOOD',\n",
       "       'BLTC', 'BOC', 'CHICTEX', 'CMCKAMAL', 'CTGVEG', 'DANDYDYE',\n",
       "       'DHAKAFISH', 'DYNAMICTEX', 'EAGLESTAR', 'EXCELSHOE', 'FLEASEINT',\n",
       "       'GACHIHATA', 'GBJVFOOD', 'GRAMEEN1', 'GULFOODS', 'ICB1STNRB',\n",
       "       'ICBAMCL1ST', 'ICBISLAMIC', 'KEYADETERG', 'LAFSURCEML', 'LEXCO',\n",
       "       'MAQENTER', 'MAQPAPER', 'MEGHNASHRM', 'METALEXCR', 'MHOSSAIN',\n",
       "       'MITATEX', 'MODERNCEM', 'MODERNDYE', 'MODERNIND', 'MONAFOOD',\n",
       "       'MONNOFABR', 'MONNOJTX', 'MONOSPOOL', 'MTBL', 'NILOYCEM',\n",
       "       'PADMACEM', 'PADMAPRINT', 'PAPERPROC', 'PERFUMCHM', 'PETROSYNTH',\n",
       "       'PHARMACO', 'QSMDRYCELL', 'QSMSILK', 'QSMTEX', 'RAHIMAFOOD',\n",
       "       'RAHMANCHEM', 'RANGAFOOD', 'RASPIT', 'RASPITDATA', 'ROSEHEAVEN',\n",
       "       'SAJIBKNIT', 'SALEHCARPT', 'SOCIALINV', 'SONALIPAPR', 'SREEPURTEX',\n",
       "       'TAMIJTEX', 'TBL', 'TRIPTI', 'TULIPDAIRY', 'UCBL', 'ULC',\n",
       "       'WONDERTOYS', 'ACIZCBOND', 'ARAMITCEM ', 'AZIZPIPES ',\n",
       "       'BDBUILDING', 'BEDL', 'BRACSCBOND', 'EASTLAND ', 'FUWANGCER ',\n",
       "       'ICB2NDNRB', 'OLYMPIC ', 'SPPCL', 'BEMCO', 'FIDELASSET',\n",
       "       'HILLPLANT', 'COPPERTECH', 'BDHOTELS', 'BXFISHERY', 'HIMADRI',\n",
       "       'PHENIXLETH', 'SHINEPUKUR', 'BDSERVICE', 'OCL'], dtype=object)"
      ]
     },
     "execution_count": 47,
     "metadata": {},
     "output_type": "execute_result"
    }
   ],
   "source": [
    "df_all['symbol'].unique()"
   ]
  },
  {
   "cell_type": "code",
   "execution_count": 48,
   "metadata": {},
   "outputs": [],
   "source": [
    "df = df_all['2008-01-01':'2008-01-03']"
   ]
  },
  {
   "cell_type": "code",
   "execution_count": 49,
   "metadata": {},
   "outputs": [
    {
     "data": {
      "text/html": [
       "<div>\n",
       "<style scoped>\n",
       "    .dataframe tbody tr th:only-of-type {\n",
       "        vertical-align: middle;\n",
       "    }\n",
       "\n",
       "    .dataframe tbody tr th {\n",
       "        vertical-align: top;\n",
       "    }\n",
       "\n",
       "    .dataframe thead th {\n",
       "        text-align: right;\n",
       "    }\n",
       "</style>\n",
       "<table border=\"1\" class=\"dataframe\">\n",
       "  <thead>\n",
       "    <tr style=\"text-align: right;\">\n",
       "      <th></th>\n",
       "      <th>symbol</th>\n",
       "      <th>date</th>\n",
       "      <th>open</th>\n",
       "      <th>high</th>\n",
       "      <th>low</th>\n",
       "      <th>close</th>\n",
       "      <th>volume</th>\n",
       "    </tr>\n",
       "    <tr>\n",
       "      <th>date</th>\n",
       "      <th></th>\n",
       "      <th></th>\n",
       "      <th></th>\n",
       "      <th></th>\n",
       "      <th></th>\n",
       "      <th></th>\n",
       "      <th></th>\n",
       "    </tr>\n",
       "  </thead>\n",
       "  <tbody>\n",
       "    <tr>\n",
       "      <td>2008-01-01</td>\n",
       "      <td>00DSEGEN</td>\n",
       "      <td>01-01-2008</td>\n",
       "      <td>3044.00</td>\n",
       "      <td>3048.00</td>\n",
       "      <td>3005</td>\n",
       "      <td>3008.91</td>\n",
       "      <td>1.32037e+07</td>\n",
       "    </tr>\n",
       "    <tr>\n",
       "      <td>2008-01-02</td>\n",
       "      <td>00DSEGEN</td>\n",
       "      <td>02-01-2008</td>\n",
       "      <td>3007.00</td>\n",
       "      <td>3008.91</td>\n",
       "      <td>2956.67</td>\n",
       "      <td>2959.36</td>\n",
       "      <td>1.16743e+07</td>\n",
       "    </tr>\n",
       "    <tr>\n",
       "      <td>2008-01-03</td>\n",
       "      <td>00DSEGEN</td>\n",
       "      <td>03-01-2008</td>\n",
       "      <td>2960.50</td>\n",
       "      <td>2981.57</td>\n",
       "      <td>2929.31</td>\n",
       "      <td>2979.48</td>\n",
       "      <td>1.13184e+07</td>\n",
       "    </tr>\n",
       "    <tr>\n",
       "      <td>2008-01-01</td>\n",
       "      <td>1STBSRS</td>\n",
       "      <td>01-01-2008</td>\n",
       "      <td>620.25</td>\n",
       "      <td>628.00</td>\n",
       "      <td>615.25</td>\n",
       "      <td>619.00</td>\n",
       "      <td>0</td>\n",
       "    </tr>\n",
       "    <tr>\n",
       "      <td>2008-01-02</td>\n",
       "      <td>1STBSRS</td>\n",
       "      <td>02-01-2008</td>\n",
       "      <td>613.50</td>\n",
       "      <td>617.50</td>\n",
       "      <td>607</td>\n",
       "      <td>612.75</td>\n",
       "      <td>0</td>\n",
       "    </tr>\n",
       "  </tbody>\n",
       "</table>\n",
       "</div>"
      ],
      "text/plain": [
       "              symbol        date     open     high      low    close  \\\n",
       "date                                                                   \n",
       "2008-01-01  00DSEGEN  01-01-2008  3044.00  3048.00     3005  3008.91   \n",
       "2008-01-02  00DSEGEN  02-01-2008  3007.00  3008.91  2956.67  2959.36   \n",
       "2008-01-03  00DSEGEN  03-01-2008  2960.50  2981.57  2929.31  2979.48   \n",
       "2008-01-01   1STBSRS  01-01-2008   620.25   628.00   615.25   619.00   \n",
       "2008-01-02   1STBSRS  02-01-2008   613.50   617.50      607   612.75   \n",
       "\n",
       "                 volume  \n",
       "date                     \n",
       "2008-01-01  1.32037e+07  \n",
       "2008-01-02  1.16743e+07  \n",
       "2008-01-03  1.13184e+07  \n",
       "2008-01-01            0  \n",
       "2008-01-02            0  "
      ]
     },
     "execution_count": 49,
     "metadata": {},
     "output_type": "execute_result"
    }
   ],
   "source": [
    "df.head()"
   ]
  },
  {
   "cell_type": "code",
   "execution_count": 52,
   "metadata": {},
   "outputs": [
    {
     "data": {
      "text/html": [
       "<div>\n",
       "<style scoped>\n",
       "    .dataframe tbody tr th:only-of-type {\n",
       "        vertical-align: middle;\n",
       "    }\n",
       "\n",
       "    .dataframe tbody tr th {\n",
       "        vertical-align: top;\n",
       "    }\n",
       "\n",
       "    .dataframe thead th {\n",
       "        text-align: right;\n",
       "    }\n",
       "</style>\n",
       "<table border=\"1\" class=\"dataframe\">\n",
       "  <thead>\n",
       "    <tr style=\"text-align: right;\">\n",
       "      <th></th>\n",
       "      <th>symbol</th>\n",
       "      <th>date</th>\n",
       "      <th>open</th>\n",
       "      <th>high</th>\n",
       "      <th>low</th>\n",
       "      <th>close</th>\n",
       "      <th>volume</th>\n",
       "    </tr>\n",
       "    <tr>\n",
       "      <th>date</th>\n",
       "      <th></th>\n",
       "      <th></th>\n",
       "      <th></th>\n",
       "      <th></th>\n",
       "      <th></th>\n",
       "      <th></th>\n",
       "      <th></th>\n",
       "    </tr>\n",
       "  </thead>\n",
       "  <tbody>\n",
       "    <tr>\n",
       "      <td>2007-01-03</td>\n",
       "      <td>00DSEGEN</td>\n",
       "      <td>03-01-2007</td>\n",
       "      <td>1609.0</td>\n",
       "      <td>1609.0</td>\n",
       "      <td>1583</td>\n",
       "      <td>1583.0</td>\n",
       "      <td>3.24546e+06</td>\n",
       "    </tr>\n",
       "    <tr>\n",
       "      <td>2007-01-04</td>\n",
       "      <td>00DSEGEN</td>\n",
       "      <td>04-01-2007</td>\n",
       "      <td>1583.0</td>\n",
       "      <td>1589.4</td>\n",
       "      <td>1583</td>\n",
       "      <td>1589.4</td>\n",
       "      <td>2.99359e+06</td>\n",
       "    </tr>\n",
       "    <tr>\n",
       "      <td>2007-01-07</td>\n",
       "      <td>00DSEGEN</td>\n",
       "      <td>07-01-2007</td>\n",
       "      <td>1589.0</td>\n",
       "      <td>1589.0</td>\n",
       "      <td>1574.9</td>\n",
       "      <td>1574.9</td>\n",
       "      <td>2.33174e+06</td>\n",
       "    </tr>\n",
       "    <tr>\n",
       "      <td>2007-01-08</td>\n",
       "      <td>00DSEGEN</td>\n",
       "      <td>08-01-2007</td>\n",
       "      <td>1574.0</td>\n",
       "      <td>1579.2</td>\n",
       "      <td>1574</td>\n",
       "      <td>1579.2</td>\n",
       "      <td>4.29005e+06</td>\n",
       "    </tr>\n",
       "    <tr>\n",
       "      <td>2007-01-09</td>\n",
       "      <td>00DSEGEN</td>\n",
       "      <td>09-01-2007</td>\n",
       "      <td>1579.0</td>\n",
       "      <td>1588.0</td>\n",
       "      <td>1579</td>\n",
       "      <td>1588.0</td>\n",
       "      <td>3.70896e+06</td>\n",
       "    </tr>\n",
       "  </tbody>\n",
       "</table>\n",
       "</div>"
      ],
      "text/plain": [
       "              symbol        date    open    high     low   close       volume\n",
       "date                                                                         \n",
       "2007-01-03  00DSEGEN  03-01-2007  1609.0  1609.0    1583  1583.0  3.24546e+06\n",
       "2007-01-04  00DSEGEN  04-01-2007  1583.0  1589.4    1583  1589.4  2.99359e+06\n",
       "2007-01-07  00DSEGEN  07-01-2007  1589.0  1589.0  1574.9  1574.9  2.33174e+06\n",
       "2007-01-08  00DSEGEN  08-01-2007  1574.0  1579.2    1574  1579.2  4.29005e+06\n",
       "2007-01-09  00DSEGEN  09-01-2007  1579.0  1588.0    1579  1588.0  3.70896e+06"
      ]
     },
     "execution_count": 52,
     "metadata": {},
     "output_type": "execute_result"
    }
   ],
   "source": [
    "df_dse30.head()"
   ]
  },
  {
   "cell_type": "code",
   "execution_count": 54,
   "metadata": {},
   "outputs": [
    {
     "data": {
      "text/plain": [
       "array(['02-05-2019', '05-05-2019', '06-05-2019', ..., '24-12-2003',\n",
       "       '28-12-2003', '03-01-2003'], dtype=object)"
      ]
     },
     "execution_count": 54,
     "metadata": {},
     "output_type": "execute_result"
    }
   ],
   "source": [
    "df_all['date'].unique()"
   ]
  },
  {
   "cell_type": "code",
   "execution_count": 56,
   "metadata": {},
   "outputs": [],
   "source": [
    "df_all = df_all.drop('date', axis=1)"
   ]
  },
  {
   "cell_type": "code",
   "execution_count": 57,
   "metadata": {},
   "outputs": [
    {
     "data": {
      "text/html": [
       "<div>\n",
       "<style scoped>\n",
       "    .dataframe tbody tr th:only-of-type {\n",
       "        vertical-align: middle;\n",
       "    }\n",
       "\n",
       "    .dataframe tbody tr th {\n",
       "        vertical-align: top;\n",
       "    }\n",
       "\n",
       "    .dataframe thead th {\n",
       "        text-align: right;\n",
       "    }\n",
       "</style>\n",
       "<table border=\"1\" class=\"dataframe\">\n",
       "  <thead>\n",
       "    <tr style=\"text-align: right;\">\n",
       "      <th></th>\n",
       "      <th>symbol</th>\n",
       "      <th>open</th>\n",
       "      <th>high</th>\n",
       "      <th>low</th>\n",
       "      <th>close</th>\n",
       "      <th>volume</th>\n",
       "    </tr>\n",
       "    <tr>\n",
       "      <th>date</th>\n",
       "      <th></th>\n",
       "      <th></th>\n",
       "      <th></th>\n",
       "      <th></th>\n",
       "      <th></th>\n",
       "      <th></th>\n",
       "    </tr>\n",
       "  </thead>\n",
       "  <tbody>\n",
       "    <tr>\n",
       "      <td>2019-05-02</td>\n",
       "      <td>00DS30</td>\n",
       "      <td>1846.67</td>\n",
       "      <td>1875.75</td>\n",
       "      <td>1846.67</td>\n",
       "      <td>1870.58</td>\n",
       "      <td>4.753e+07</td>\n",
       "    </tr>\n",
       "    <tr>\n",
       "      <td>2019-05-05</td>\n",
       "      <td>00DS30</td>\n",
       "      <td>1870.58</td>\n",
       "      <td>1903.53</td>\n",
       "      <td>1870.58</td>\n",
       "      <td>1901.66</td>\n",
       "      <td>5.35959e+07</td>\n",
       "    </tr>\n",
       "    <tr>\n",
       "      <td>2019-05-06</td>\n",
       "      <td>00DS30</td>\n",
       "      <td>1901.66</td>\n",
       "      <td>1907.48</td>\n",
       "      <td>1879.36</td>\n",
       "      <td>1881.21</td>\n",
       "      <td>4.67345e+07</td>\n",
       "    </tr>\n",
       "    <tr>\n",
       "      <td>2019-05-07</td>\n",
       "      <td>00DS30</td>\n",
       "      <td>1881.21</td>\n",
       "      <td>1886.95</td>\n",
       "      <td>1858.92</td>\n",
       "      <td>1861.82</td>\n",
       "      <td>4.33506e+07</td>\n",
       "    </tr>\n",
       "    <tr>\n",
       "      <td>2019-05-08</td>\n",
       "      <td>00DS30</td>\n",
       "      <td>1861.82</td>\n",
       "      <td>1868.76</td>\n",
       "      <td>1852.75</td>\n",
       "      <td>1858.05</td>\n",
       "      <td>3.31784e+07</td>\n",
       "    </tr>\n",
       "  </tbody>\n",
       "</table>\n",
       "</div>"
      ],
      "text/plain": [
       "            symbol     open     high      low    close       volume\n",
       "date                                                               \n",
       "2019-05-02  00DS30  1846.67  1875.75  1846.67  1870.58    4.753e+07\n",
       "2019-05-05  00DS30  1870.58  1903.53  1870.58  1901.66  5.35959e+07\n",
       "2019-05-06  00DS30  1901.66  1907.48  1879.36  1881.21  4.67345e+07\n",
       "2019-05-07  00DS30  1881.21  1886.95  1858.92  1861.82  4.33506e+07\n",
       "2019-05-08  00DS30  1861.82  1868.76  1852.75  1858.05  3.31784e+07"
      ]
     },
     "execution_count": 57,
     "metadata": {},
     "output_type": "execute_result"
    }
   ],
   "source": [
    "df_all.head()"
   ]
  },
  {
   "cell_type": "code",
   "execution_count": 65,
   "metadata": {},
   "outputs": [
    {
     "data": {
      "text/plain": [
       "244"
      ]
     },
     "execution_count": 65,
     "metadata": {},
     "output_type": "execute_result"
    }
   ],
   "source": [
    "len(df_all['2015-01-01':'2015-12-31'].index.unique())\n"
   ]
  },
  {
   "cell_type": "code",
   "execution_count": 66,
   "metadata": {},
   "outputs": [],
   "source": [
    "df_now = df_all[df_all['symbol'] == 'MTB']"
   ]
  },
  {
   "cell_type": "code",
   "execution_count": 77,
   "metadata": {},
   "outputs": [
    {
     "data": {
      "text/plain": [
       "<matplotlib.axes._subplots.AxesSubplot at 0x7f8f73d65d30>"
      ]
     },
     "execution_count": 77,
     "metadata": {},
     "output_type": "execute_result"
    },
    {
     "data": {
      "image/png": "[encoded data removed]",
      "text/plain": [
       "<Figure size 432x288 with 1 Axes>"
      ]
     },
     "metadata": {
      "needs_background": "light"
     },
     "output_type": "display_data"
    }
   ],
   "source": [
    "df_now['2015-01-01':'2016-01-01']['close']"
   ]
  },
  {
   "cell_type": "code",
   "execution_count": 79,
   "metadata": {},
   "outputs": [
    {
     "data": {
      "text/plain": [
       "<matplotlib.axes._subplots.AxesSubplot at 0x7f8f73cee588>"
      ]
     },
     "execution_count": 79,
     "metadata": {},
     "output_type": "execute_result"
    },
    {
     "data": {
      "image/png": "[encoded data removed]",
      "text/plain": [
       "<Figure size 432x288 with 1 Axes>"
      ]
     },
     "metadata": {
      "needs_background": "light"
     },
     "output_type": "display_data"
    }
   ],
   "source": [
    "sns.boxplot(df_now['2015-01-01':'2016-01-01']['close'])"
   ]
  },
  {
   "cell_type": "code",
   "execution_count": null,
   "metadata": {},
   "outputs": [],
   "source": []
  }
 ],
 "metadata": {
  "kernelspec": {
   "display_name": "Python 3",
   "language": "python",
   "name": "python3"
  },
  "language_info": {
   "codemirror_mode": {
    "name": "ipython",
    "version": 3
   },
   "file_extension": ".py",
   "mimetype": "text/x-python",
   "name": "python",
   "nbconvert_exporter": "python",
   "pygments_lexer": "ipython3",
   "version": "3.7.3"
  }
 },
 "nbformat": 4,
 "nbformat_minor": 2
}
