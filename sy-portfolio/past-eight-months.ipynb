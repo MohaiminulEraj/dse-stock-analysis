{
 "cells": [
  {
   "cell_type": "code",
   "execution_count": 2,
   "metadata": {},
   "outputs": [],
   "source": [
    "import pandas as pd\n",
    "import seaborn as sns\n",
    "import matplotlib.pyplot as plt"
   ]
  },
  {
   "cell_type": "code",
   "execution_count": 52,
   "metadata": {},
   "outputs": [],
   "source": [
    "df = pd.read_csv(\"../data/January 2019.csv\", names = [\"symbol\", \"date\", \"open\", \"high\", \"low\", \"close\", \"volume\"])"
   ]
  },
  {
   "cell_type": "code",
   "execution_count": 53,
   "metadata": {},
   "outputs": [
    {
     "data": {
      "text/html": [
       "<div>\n",
       "<style scoped>\n",
       "    .dataframe tbody tr th:only-of-type {\n",
       "        vertical-align: middle;\n",
       "    }\n",
       "\n",
       "    .dataframe tbody tr th {\n",
       "        vertical-align: top;\n",
       "    }\n",
       "\n",
       "    .dataframe thead th {\n",
       "        text-align: right;\n",
       "    }\n",
       "</style>\n",
       "<table border=\"1\" class=\"dataframe\">\n",
       "  <thead>\n",
       "    <tr style=\"text-align: right;\">\n",
       "      <th></th>\n",
       "      <th>symbol</th>\n",
       "      <th>date</th>\n",
       "      <th>open</th>\n",
       "      <th>high</th>\n",
       "      <th>low</th>\n",
       "      <th>close</th>\n",
       "      <th>volume</th>\n",
       "    </tr>\n",
       "  </thead>\n",
       "  <tbody>\n",
       "    <tr>\n",
       "      <td>0</td>\n",
       "      <td>00DS30</td>\n",
       "      <td>01-01-2019</td>\n",
       "      <td>1880.78</td>\n",
       "      <td>1911.37</td>\n",
       "      <td>1880.78</td>\n",
       "      <td>1908.20</td>\n",
       "      <td>53017420.0</td>\n",
       "    </tr>\n",
       "    <tr>\n",
       "      <td>1</td>\n",
       "      <td>00DS30</td>\n",
       "      <td>02-01-2019</td>\n",
       "      <td>1908.20</td>\n",
       "      <td>1916.06</td>\n",
       "      <td>1896.44</td>\n",
       "      <td>1912.98</td>\n",
       "      <td>69645700.0</td>\n",
       "    </tr>\n",
       "    <tr>\n",
       "      <td>2</td>\n",
       "      <td>00DS30</td>\n",
       "      <td>03-01-2019</td>\n",
       "      <td>1912.98</td>\n",
       "      <td>1945.22</td>\n",
       "      <td>1912.98</td>\n",
       "      <td>1941.99</td>\n",
       "      <td>92490920.0</td>\n",
       "    </tr>\n",
       "    <tr>\n",
       "      <td>3</td>\n",
       "      <td>00DS30</td>\n",
       "      <td>06-01-2019</td>\n",
       "      <td>1941.99</td>\n",
       "      <td>1980.00</td>\n",
       "      <td>1935.08</td>\n",
       "      <td>1974.10</td>\n",
       "      <td>102676760.0</td>\n",
       "    </tr>\n",
       "    <tr>\n",
       "      <td>4</td>\n",
       "      <td>00DS30</td>\n",
       "      <td>07-01-2019</td>\n",
       "      <td>1974.10</td>\n",
       "      <td>1983.02</td>\n",
       "      <td>1960.66</td>\n",
       "      <td>1963.89</td>\n",
       "      <td>96553530.0</td>\n",
       "    </tr>\n",
       "  </tbody>\n",
       "</table>\n",
       "</div>"
      ],
      "text/plain": [
       "   symbol        date     open     high      low    close       volume\n",
       "0  00DS30  01-01-2019  1880.78  1911.37  1880.78  1908.20   53017420.0\n",
       "1  00DS30  02-01-2019  1908.20  1916.06  1896.44  1912.98   69645700.0\n",
       "2  00DS30  03-01-2019  1912.98  1945.22  1912.98  1941.99   92490920.0\n",
       "3  00DS30  06-01-2019  1941.99  1980.00  1935.08  1974.10  102676760.0\n",
       "4  00DS30  07-01-2019  1974.10  1983.02  1960.66  1963.89   96553530.0"
      ]
     },
     "execution_count": 53,
     "metadata": {},
     "output_type": "execute_result"
    }
   ],
   "source": [
    "df.head()"
   ]
  },
  {
   "cell_type": "code",
   "execution_count": 54,
   "metadata": {},
   "outputs": [
    {
     "name": "stdout",
     "output_type": "stream",
     "text": [
      "<class 'pandas.core.frame.DataFrame'>\n",
      "RangeIndex: 8565 entries, 0 to 8564\n",
      "Data columns (total 7 columns):\n",
      "symbol    8565 non-null object\n",
      "date      8565 non-null object\n",
      "open      8565 non-null float64\n",
      "high      8565 non-null float64\n",
      "low       8565 non-null float64\n",
      "close     8565 non-null float64\n",
      "volume    8565 non-null float64\n",
      "dtypes: float64(5), object(2)\n",
      "memory usage: 468.5+ KB\n"
     ]
    }
   ],
   "source": [
    "df.info()"
   ]
  },
  {
   "cell_type": "code",
   "execution_count": 55,
   "metadata": {},
   "outputs": [],
   "source": [
    "df = df.set_index(pd.to_datetime(df['date'], format = \"%d-%m-%Y\"))"
   ]
  },
  {
   "cell_type": "code",
   "execution_count": 56,
   "metadata": {},
   "outputs": [
    {
     "data": {
      "text/html": [
       "<div>\n",
       "<style scoped>\n",
       "    .dataframe tbody tr th:only-of-type {\n",
       "        vertical-align: middle;\n",
       "    }\n",
       "\n",
       "    .dataframe tbody tr th {\n",
       "        vertical-align: top;\n",
       "    }\n",
       "\n",
       "    .dataframe thead th {\n",
       "        text-align: right;\n",
       "    }\n",
       "</style>\n",
       "<table border=\"1\" class=\"dataframe\">\n",
       "  <thead>\n",
       "    <tr style=\"text-align: right;\">\n",
       "      <th></th>\n",
       "      <th>symbol</th>\n",
       "      <th>date</th>\n",
       "      <th>open</th>\n",
       "      <th>high</th>\n",
       "      <th>low</th>\n",
       "      <th>close</th>\n",
       "      <th>volume</th>\n",
       "    </tr>\n",
       "    <tr>\n",
       "      <th>date</th>\n",
       "      <th></th>\n",
       "      <th></th>\n",
       "      <th></th>\n",
       "      <th></th>\n",
       "      <th></th>\n",
       "      <th></th>\n",
       "      <th></th>\n",
       "    </tr>\n",
       "  </thead>\n",
       "  <tbody>\n",
       "    <tr>\n",
       "      <td>2019-01-01</td>\n",
       "      <td>00DS30</td>\n",
       "      <td>01-01-2019</td>\n",
       "      <td>1880.78</td>\n",
       "      <td>1911.37</td>\n",
       "      <td>1880.78</td>\n",
       "      <td>1908.20</td>\n",
       "      <td>53017420.0</td>\n",
       "    </tr>\n",
       "    <tr>\n",
       "      <td>2019-01-02</td>\n",
       "      <td>00DS30</td>\n",
       "      <td>02-01-2019</td>\n",
       "      <td>1908.20</td>\n",
       "      <td>1916.06</td>\n",
       "      <td>1896.44</td>\n",
       "      <td>1912.98</td>\n",
       "      <td>69645700.0</td>\n",
       "    </tr>\n",
       "    <tr>\n",
       "      <td>2019-01-03</td>\n",
       "      <td>00DS30</td>\n",
       "      <td>03-01-2019</td>\n",
       "      <td>1912.98</td>\n",
       "      <td>1945.22</td>\n",
       "      <td>1912.98</td>\n",
       "      <td>1941.99</td>\n",
       "      <td>92490920.0</td>\n",
       "    </tr>\n",
       "    <tr>\n",
       "      <td>2019-01-06</td>\n",
       "      <td>00DS30</td>\n",
       "      <td>06-01-2019</td>\n",
       "      <td>1941.99</td>\n",
       "      <td>1980.00</td>\n",
       "      <td>1935.08</td>\n",
       "      <td>1974.10</td>\n",
       "      <td>102676760.0</td>\n",
       "    </tr>\n",
       "    <tr>\n",
       "      <td>2019-01-07</td>\n",
       "      <td>00DS30</td>\n",
       "      <td>07-01-2019</td>\n",
       "      <td>1974.10</td>\n",
       "      <td>1983.02</td>\n",
       "      <td>1960.66</td>\n",
       "      <td>1963.89</td>\n",
       "      <td>96553530.0</td>\n",
       "    </tr>\n",
       "  </tbody>\n",
       "</table>\n",
       "</div>"
      ],
      "text/plain": [
       "            symbol        date     open     high      low    close  \\\n",
       "date                                                                 \n",
       "2019-01-01  00DS30  01-01-2019  1880.78  1911.37  1880.78  1908.20   \n",
       "2019-01-02  00DS30  02-01-2019  1908.20  1916.06  1896.44  1912.98   \n",
       "2019-01-03  00DS30  03-01-2019  1912.98  1945.22  1912.98  1941.99   \n",
       "2019-01-06  00DS30  06-01-2019  1941.99  1980.00  1935.08  1974.10   \n",
       "2019-01-07  00DS30  07-01-2019  1974.10  1983.02  1960.66  1963.89   \n",
       "\n",
       "                 volume  \n",
       "date                     \n",
       "2019-01-01   53017420.0  \n",
       "2019-01-02   69645700.0  \n",
       "2019-01-03   92490920.0  \n",
       "2019-01-06  102676760.0  \n",
       "2019-01-07   96553530.0  "
      ]
     },
     "execution_count": 56,
     "metadata": {},
     "output_type": "execute_result"
    }
   ],
   "source": [
    "df.head()"
   ]
  },
  {
   "cell_type": "code",
   "execution_count": 57,
   "metadata": {},
   "outputs": [
    {
     "name": "stdout",
     "output_type": "stream",
     "text": [
      "<class 'pandas.core.frame.DataFrame'>\n",
      "DatetimeIndex: 8565 entries, 2019-01-01 to 2019-01-31\n",
      "Data columns (total 7 columns):\n",
      "symbol    8565 non-null object\n",
      "date      8565 non-null object\n",
      "open      8565 non-null float64\n",
      "high      8565 non-null float64\n",
      "low       8565 non-null float64\n",
      "close     8565 non-null float64\n",
      "volume    8565 non-null float64\n",
      "dtypes: float64(5), object(2)\n",
      "memory usage: 535.3+ KB\n"
     ]
    }
   ],
   "source": [
    "df.info()"
   ]
  },
  {
   "cell_type": "code",
   "execution_count": 58,
   "metadata": {},
   "outputs": [],
   "source": [
    "series = df['close']"
   ]
  },
  {
   "cell_type": "code",
   "execution_count": 59,
   "metadata": {},
   "outputs": [
    {
     "data": {
      "text/plain": [
       "<matplotlib.axes._subplots.AxesSubplot at 0x1284e6dd0>"
      ]
     },
     "execution_count": 59,
     "metadata": {},
     "output_type": "execute_result"
    },
    {
     "data": {
      "image/png": "[encoded data removed]",
      "text/plain": [
       "<Figure size 432x288 with 1 Axes>"
      ]
     },
     "metadata": {
      "needs_background": "light"
     },
     "output_type": "display_data"
    }
   ],
   "source": [
    "series.plot()"
   ]
  },
  {
   "cell_type": "code",
   "execution_count": 60,
   "metadata": {},
   "outputs": [
    {
     "data": {
      "text/plain": [
       "5950.01"
      ]
     },
     "execution_count": 60,
     "metadata": {},
     "output_type": "execute_result"
    }
   ],
   "source": [
    "series.max()"
   ]
  },
  {
   "cell_type": "code",
   "execution_count": 61,
   "metadata": {},
   "outputs": [
    {
     "data": {
      "text/plain": [
       "2.9"
      ]
     },
     "execution_count": 61,
     "metadata": {},
     "output_type": "execute_result"
    }
   ],
   "source": [
    "series.min()"
   ]
  },
  {
   "cell_type": "code",
   "execution_count": 62,
   "metadata": {},
   "outputs": [
    {
     "data": {
      "text/plain": [
       "date\n",
       "2019-01-01    1908.20\n",
       "2019-01-02    1912.98\n",
       "2019-01-03    1941.99\n",
       "2019-01-06    1974.10\n",
       "2019-01-07    1963.89\n",
       "Name: close, dtype: float64"
      ]
     },
     "execution_count": 62,
     "metadata": {},
     "output_type": "execute_result"
    }
   ],
   "source": [
    "series.head()"
   ]
  },
  {
   "cell_type": "code",
   "execution_count": 63,
   "metadata": {},
   "outputs": [
    {
     "data": {
      "text/plain": [
       "date\n",
       "2019-01-27    43.5\n",
       "2019-01-28    45.8\n",
       "2019-01-29    45.5\n",
       "2019-01-30    44.9\n",
       "2019-01-31    44.8\n",
       "Name: close, dtype: float64"
      ]
     },
     "execution_count": 63,
     "metadata": {},
     "output_type": "execute_result"
    }
   ],
   "source": [
    "series.tail()"
   ]
  },
  {
   "cell_type": "code",
   "execution_count": 64,
   "metadata": {},
   "outputs": [
    {
     "data": {
      "text/plain": [
       "array([1908.2 , 1912.98, 1941.99, ...,  600.3 ,  602.2 ,  585.2 ])"
      ]
     },
     "execution_count": 64,
     "metadata": {},
     "output_type": "execute_result"
    }
   ],
   "source": [
    "series.unique()"
   ]
  },
  {
   "cell_type": "code",
   "execution_count": 65,
   "metadata": {},
   "outputs": [
    {
     "data": {
      "text/plain": [
       "374"
      ]
     },
     "execution_count": 65,
     "metadata": {},
     "output_type": "execute_result"
    }
   ],
   "source": [
    "len(df.symbol.unique())"
   ]
  },
  {
   "cell_type": "code",
   "execution_count": 66,
   "metadata": {},
   "outputs": [],
   "source": [
    "dse_df = df.loc[df['symbol'] == \"00DS30\"]"
   ]
  },
  {
   "cell_type": "code",
   "execution_count": 67,
   "metadata": {},
   "outputs": [
    {
     "data": {
      "text/html": [
       "<div>\n",
       "<style scoped>\n",
       "    .dataframe tbody tr th:only-of-type {\n",
       "        vertical-align: middle;\n",
       "    }\n",
       "\n",
       "    .dataframe tbody tr th {\n",
       "        vertical-align: top;\n",
       "    }\n",
       "\n",
       "    .dataframe thead th {\n",
       "        text-align: right;\n",
       "    }\n",
       "</style>\n",
       "<table border=\"1\" class=\"dataframe\">\n",
       "  <thead>\n",
       "    <tr style=\"text-align: right;\">\n",
       "      <th></th>\n",
       "      <th>symbol</th>\n",
       "      <th>date</th>\n",
       "      <th>open</th>\n",
       "      <th>high</th>\n",
       "      <th>low</th>\n",
       "      <th>close</th>\n",
       "      <th>volume</th>\n",
       "    </tr>\n",
       "    <tr>\n",
       "      <th>date</th>\n",
       "      <th></th>\n",
       "      <th></th>\n",
       "      <th></th>\n",
       "      <th></th>\n",
       "      <th></th>\n",
       "      <th></th>\n",
       "      <th></th>\n",
       "    </tr>\n",
       "  </thead>\n",
       "  <tbody>\n",
       "    <tr>\n",
       "      <td>2019-01-01</td>\n",
       "      <td>00DS30</td>\n",
       "      <td>01-01-2019</td>\n",
       "      <td>1880.78</td>\n",
       "      <td>1911.37</td>\n",
       "      <td>1880.78</td>\n",
       "      <td>1908.20</td>\n",
       "      <td>53017420.0</td>\n",
       "    </tr>\n",
       "    <tr>\n",
       "      <td>2019-01-02</td>\n",
       "      <td>00DS30</td>\n",
       "      <td>02-01-2019</td>\n",
       "      <td>1908.20</td>\n",
       "      <td>1916.06</td>\n",
       "      <td>1896.44</td>\n",
       "      <td>1912.98</td>\n",
       "      <td>69645700.0</td>\n",
       "    </tr>\n",
       "    <tr>\n",
       "      <td>2019-01-03</td>\n",
       "      <td>00DS30</td>\n",
       "      <td>03-01-2019</td>\n",
       "      <td>1912.98</td>\n",
       "      <td>1945.22</td>\n",
       "      <td>1912.98</td>\n",
       "      <td>1941.99</td>\n",
       "      <td>92490920.0</td>\n",
       "    </tr>\n",
       "    <tr>\n",
       "      <td>2019-01-06</td>\n",
       "      <td>00DS30</td>\n",
       "      <td>06-01-2019</td>\n",
       "      <td>1941.99</td>\n",
       "      <td>1980.00</td>\n",
       "      <td>1935.08</td>\n",
       "      <td>1974.10</td>\n",
       "      <td>102676760.0</td>\n",
       "    </tr>\n",
       "    <tr>\n",
       "      <td>2019-01-07</td>\n",
       "      <td>00DS30</td>\n",
       "      <td>07-01-2019</td>\n",
       "      <td>1974.10</td>\n",
       "      <td>1983.02</td>\n",
       "      <td>1960.66</td>\n",
       "      <td>1963.89</td>\n",
       "      <td>96553530.0</td>\n",
       "    </tr>\n",
       "  </tbody>\n",
       "</table>\n",
       "</div>"
      ],
      "text/plain": [
       "            symbol        date     open     high      low    close  \\\n",
       "date                                                                 \n",
       "2019-01-01  00DS30  01-01-2019  1880.78  1911.37  1880.78  1908.20   \n",
       "2019-01-02  00DS30  02-01-2019  1908.20  1916.06  1896.44  1912.98   \n",
       "2019-01-03  00DS30  03-01-2019  1912.98  1945.22  1912.98  1941.99   \n",
       "2019-01-06  00DS30  06-01-2019  1941.99  1980.00  1935.08  1974.10   \n",
       "2019-01-07  00DS30  07-01-2019  1974.10  1983.02  1960.66  1963.89   \n",
       "\n",
       "                 volume  \n",
       "date                     \n",
       "2019-01-01   53017420.0  \n",
       "2019-01-02   69645700.0  \n",
       "2019-01-03   92490920.0  \n",
       "2019-01-06  102676760.0  \n",
       "2019-01-07   96553530.0  "
      ]
     },
     "execution_count": 67,
     "metadata": {},
     "output_type": "execute_result"
    }
   ],
   "source": [
    "dse_df.head()"
   ]
  },
  {
   "cell_type": "code",
   "execution_count": 68,
   "metadata": {},
   "outputs": [
    {
     "name": "stdout",
     "output_type": "stream",
     "text": [
      "1908.2 as 2049.0\n"
     ]
    }
   ],
   "source": [
    "print(str(dse_df.close.min()) + \" as \" + str(dse_df.close.max()))"
   ]
  },
  {
   "cell_type": "code",
   "execution_count": 69,
   "metadata": {},
   "outputs": [],
   "source": [
    "series = dse_df.close"
   ]
  },
  {
   "cell_type": "code",
   "execution_count": 70,
   "metadata": {},
   "outputs": [
    {
     "data": {
      "text/plain": [
       "date\n",
       "2019-01-01    1908.20\n",
       "2019-01-02    1912.98\n",
       "2019-01-03    1941.99\n",
       "2019-01-06    1974.10\n",
       "2019-01-07    1963.89\n",
       "2019-01-08    2001.19\n",
       "2019-01-09    2011.12\n",
       "2019-01-10    2011.74\n",
       "2019-01-13    2030.43\n",
       "2019-01-14    2026.00\n",
       "2019-01-15    2029.07\n",
       "2019-01-16    2017.27\n",
       "2019-01-17    2009.49\n",
       "2019-01-20    2029.90\n",
       "2019-01-21    2021.70\n",
       "2019-01-22    2026.11\n",
       "2019-01-23    2043.03\n",
       "2019-01-24    2049.00\n",
       "2019-01-27    2043.52\n",
       "2019-01-28    2046.77\n",
       "2019-01-29    2046.29\n",
       "2019-01-30    2031.73\n",
       "2019-01-31    2007.96\n",
       "Name: close, dtype: float64"
      ]
     },
     "execution_count": 70,
     "metadata": {},
     "output_type": "execute_result"
    }
   ],
   "source": [
    "series"
   ]
  },
  {
   "cell_type": "code",
   "execution_count": 71,
   "metadata": {},
   "outputs": [
    {
     "data": {
      "text/plain": [
       "<matplotlib.axes._subplots.AxesSubplot at 0x128ff8910>"
      ]
     },
     "execution_count": 71,
     "metadata": {},
     "output_type": "execute_result"
    },
    {
     "data": {
      "image/png": "[encoded data removed]",
      "text/plain": [
       "<Figure size 432x288 with 1 Axes>"
      ]
     },
     "metadata": {
      "needs_background": "light"
     },
     "output_type": "display_data"
    }
   ],
   "source": [
    "series.plot()"
   ]
  },
  {
   "cell_type": "code",
   "execution_count": null,
   "metadata": {},
   "outputs": [],
   "source": []
  }
 ],
 "metadata": {
  "kernelspec": {
   "display_name": "Python 3",
   "language": "python",
   "name": "python3"
  },
  "language_info": {
   "codemirror_mode": {
    "name": "ipython",
    "version": 3
   },
   "file_extension": ".py",
   "mimetype": "text/x-python",
   "name": "python",
   "nbconvert_exporter": "python",
   "pygments_lexer": "ipython3",
   "version": "3.7.3"
  }
 },
 "nbformat": 4,
 "nbformat_minor": 2
}
