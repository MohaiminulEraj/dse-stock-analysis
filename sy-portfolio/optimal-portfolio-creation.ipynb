{
 "cells": [
  {
   "cell_type": "markdown",
   "metadata": {},
   "source": [
    "# Optimal Portfolio Creation"
   ]
  },
  {
   "cell_type": "markdown",
   "metadata": {},
   "source": [
    "## Introduction"
   ]
  },
  {
   "cell_type": "markdown",
   "metadata": {},
   "source": [
    "In this notebook, I will discuss the process of creating optimal risky portfolio from the securities in Dhaka Stock Exchange. This is a course requirements for this semesters Investment and Portfolio Analysis of IBA MBA. The course is taken by Mrs Shakila Yasmin. I will discuss the process from collecting historical data, storing in usable format and preprocessing for analysis to creating investable portfolio. Its will be a wild ride. Hope you all enjoy it.  "
   ]
  },
  {
   "cell_type": "markdown",
   "metadata": {},
   "source": [
    "## Outlines"
   ]
  },
  {
   "cell_type": "markdown",
   "metadata": {},
   "source": [
    "- Scrap or collect historical data of all securities in DSE\n",
    "- Store it MongoDb for easy collection and use\n",
    "- Create an nodejs api for easy collection to use in Pandas [optional]\n",
    "- Get Data for specific securities, do a base line analysis and derive decision particulars\n",
    "- From particular of all the securities sort the best numbers of securities\n",
    "- Get/Scrap fundamentals data from annual report and store in database and create retrieve api\n",
    "- Do fundamental analysis of securities to find undervalued and overvalued stocks\n",
    "    - Divident Discount Model\n",
    "    - Free Cashflow Model\n",
    "    - Earnings Multiplier Model\n",
    "    - Ratio Analysis\n",
    "- Do technical analysis with prophet, regression and machine learning techniques\n",
    "- Select the best 5 and make all optimum portfolio combination of two stocks\n",
    "- Select the best one and allocate funds along with risk free asset based on investor risk aversion\n",
    "    - Figure out riskfree rate\n",
    "    - Figure out risk aversion ( score card method )\n",
    "- Invest and update the process along the way\n",
    "\n",
    "\n",
    "__Special Requirement__\n",
    "- Use latex for Report and use versioning\n",
    "- Make a visualization frontend with vue"
   ]
  },
  {
   "cell_type": "markdown",
   "metadata": {},
   "source": [
    "## Lets Begin"
   ]
  },
  {
   "cell_type": "markdown",
   "metadata": {},
   "source": [
    "### Scraping the Data"
   ]
  },
  {
   "cell_type": "code",
   "execution_count": 1,
   "metadata": {},
   "outputs": [],
   "source": [
    "# importing modules necessary\n",
    "import pandas as pd\n",
    "import requests as req\n",
    "from pymongo import MongoClient\n",
    "from bs4 import BeautifulSoup\n",
    "import datetime"
   ]
  },
  {
   "cell_type": "code",
   "execution_count": 2,
   "metadata": {},
   "outputs": [],
   "source": [
    "client = MongoClient('localhost', 27017)"
   ]
  },
  {
   "cell_type": "code",
   "execution_count": 3,
   "metadata": {},
   "outputs": [],
   "source": [
    "db = client.dsedb\n",
    "daily_stock = db.daily_stock"
   ]
  },
  {
   "cell_type": "code",
   "execution_count": 4,
   "metadata": {},
   "outputs": [],
   "source": [
    "url = \"https://www.dsebd.org/day_end_archive.php\"\n",
    "start = \"2018-09-02\"\n",
    "end = \"2019-09-02\"\n",
    "symbol = \"All Instrument\"\n",
    "button = \"View Day End Archive\"\n",
    "form = {\n",
    "    \"DayEndSumDate1\" : start,\n",
    "    \"DayEndSumDate2\" : end,\n",
    "    \"Symbol\" : symbol,\n",
    "    \"ViewDayEndArchive\" : button\n",
    "}"
   ]
  },
  {
   "cell_type": "code",
   "execution_count": 20,
   "metadata": {},
   "outputs": [
    {
     "name": "stdout",
     "output_type": "stream",
     "text": [
      "<Response [200]>\n"
     ]
    }
   ],
   "source": [
    "html = req.post(url, data = form)\n",
    "print(html)\n",
    "source = BeautifulSoup(html.content)"
   ]
  },
  {
   "cell_type": "code",
   "execution_count": 21,
   "metadata": {},
   "outputs": [],
   "source": [
    "table = source.select_one(\"body > table:nth-child(9) > tbody > tr > td:nth-child(2) > table > tbody > tr:nth-child(2) > td:nth-child(1) > table \")"
   ]
  },
  {
   "cell_type": "markdown",
   "metadata": {},
   "source": [
    "body > table:nth-child(9) > tbody > tr > td:nth-child(2) > table > tbody > tr:nth-child(2) > td:nth-child(1) > table\n",
    "/html/body/table[2]/tbody/tr/td[2]/table/tbody/tr[2]/td[1]/table"
   ]
  },
  {
   "cell_type": "code",
   "execution_count": 22,
   "metadata": {},
   "outputs": [],
   "source": [
    "df = pd.read_html(table.prettify())[0]"
   ]
  },
  {
   "cell_type": "code",
   "execution_count": 25,
   "metadata": {},
   "outputs": [],
   "source": [
    "df = df.rename(df.iloc[0], axis=1)[1:]"
   ]
  },
  {
   "cell_type": "code",
   "execution_count": 26,
   "metadata": {},
   "outputs": [],
   "source": [
    "df = df.drop('#', axis=1)"
   ]
  },
  {
   "cell_type": "code",
   "execution_count": 27,
   "metadata": {},
   "outputs": [],
   "source": [
    "df['Date'] = pd.to_datetime(df['DATE'])"
   ]
  },
  {
   "cell_type": "code",
   "execution_count": 28,
   "metadata": {},
   "outputs": [],
   "source": [
    "df = df.set_index('Date')"
   ]
  },
  {
   "cell_type": "code",
   "execution_count": 38,
   "metadata": {},
   "outputs": [
    {
     "data": {
      "text/plain": [
       "<pymongo.results.InsertManyResult at 0x10f71f320>"
      ]
     },
     "execution_count": 38,
     "metadata": {},
     "output_type": "execute_result"
    }
   ],
   "source": [
    "daily_stock.insert_many(df.to_dict('records'))"
   ]
  },
  {
   "cell_type": "code",
   "execution_count": 50,
   "metadata": {},
   "outputs": [
    {
     "data": {
      "text/plain": [
       "'2019-09-03'"
      ]
     },
     "execution_count": 50,
     "metadata": {},
     "output_type": "execute_result"
    }
   ],
   "source": [
    "datetime.date.today().strftime(\"%Y-%m-%d\")"
   ]
  },
  {
   "cell_type": "code",
   "execution_count": 91,
   "metadata": {},
   "outputs": [],
   "source": [
    "today = datetime.date.today()"
   ]
  },
  {
   "cell_type": "code",
   "execution_count": 101,
   "metadata": {},
   "outputs": [],
   "source": [
    "start = str(today.year - 2) + \"-\" + str(today.month) + \"-\" + str(today.day)"
   ]
  },
  {
   "cell_type": "code",
   "execution_count": null,
   "metadata": {},
   "outputs": [],
   "source": []
  }
 ],
 "metadata": {
  "kernelspec": {
   "display_name": "Python 3",
   "language": "python",
   "name": "python3"
  },
  "language_info": {
   "codemirror_mode": {
    "name": "ipython",
    "version": 3
   },
   "file_extension": ".py",
   "mimetype": "text/x-python",
   "name": "python",
   "nbconvert_exporter": "python",
   "pygments_lexer": "ipython3",
   "version": "3.7.4"
  }
 },
 "nbformat": 4,
 "nbformat_minor": 2
}
