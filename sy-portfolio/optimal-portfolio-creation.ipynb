{
 "cells": [
  {
   "cell_type": "markdown",
   "metadata": {},
   "source": [
    "# Optimal Portfolio Creation"
   ]
  },
  {
   "cell_type": "markdown",
   "metadata": {},
   "source": [
    "## Introduction"
   ]
  },
  {
   "cell_type": "markdown",
   "metadata": {},
   "source": [
    "In this notebook, I will discuss the process of creating optimal risky portfolio from the securities in Dhaka Stock Exchange. This is a course requirements for this semesters Investment and Portfolio Analysis of IBA MBA. The course is taken by Mrs Shakila Yasmin. I will discuss the process from collecting historical data, storing in usable format and preprocessing for analysis to creating investable portfolio. Its will be a wild ride. Hope you all enjoy it.  "
   ]
  },
  {
   "cell_type": "markdown",
   "metadata": {},
   "source": [
    "## Outlines"
   ]
  },
  {
   "cell_type": "markdown",
   "metadata": {},
   "source": [
    "- Scrap or collect historical data of all securities in DSE\n",
    "- Store it MongoDb for easy collection and use\n",
    "- Create an nodejs api for easy collection to use in Pandas [optional]\n",
    "- Get Data for specific securities, do a base line analysis and derive decision particulars\n",
    "- From particular of all the securities sort the best numbers of securities\n",
    "- Get/Scrap fundamentals data from annual report and store in database and create retrieve api\n",
    "- Do fundamental analysis of securities to find undervalued and overvalued stocks\n",
    "    - Divident Discount Model\n",
    "    - Free Cashflow Model\n",
    "    - Earnings Multiplier Model\n",
    "    - Ratio Analysis\n",
    "- Do technical analysis with prophet, regression and machine learning techniques\n",
    "- Select the best 5 and make all optimum portfolio combination of two stocks\n",
    "- Select the best one and allocate funds along with risk free asset based on investor risk aversion\n",
    "    - Figure out riskfree rate\n",
    "    - Figure out risk aversion ( score card method )\n",
    "- Invest and update the process along the way\n",
    "\n",
    "\n",
    "__Special Requirement__\n",
    "- Use latex for Report and use versioning\n",
    "- Make a visualization frontend with vue"
   ]
  },
  {
   "cell_type": "markdown",
   "metadata": {},
   "source": [
    "## Lets Begin"
   ]
  },
  {
   "cell_type": "markdown",
   "metadata": {},
   "source": [
    "### Scraping the Data"
   ]
  },
  {
   "cell_type": "code",
   "execution_count": 17,
   "metadata": {},
   "outputs": [],
   "source": [
    "# importing modules necessary\n",
    "import pandas as pd\n",
    "import requests as req\n",
    "from pymongo import MongoClient\n",
    "from bs4 import BeautifulSoup"
   ]
  },
  {
   "cell_type": "code",
   "execution_count": 3,
   "metadata": {},
   "outputs": [],
   "source": [
    "client = MongoClient('localhost', 27017)"
   ]
  },
  {
   "cell_type": "code",
   "execution_count": 4,
   "metadata": {},
   "outputs": [],
   "source": [
    "db = client.dsedb\n",
    "daily_stock = db.daily_stock"
   ]
  },
  {
   "cell_type": "code",
   "execution_count": 5,
   "metadata": {},
   "outputs": [
    {
     "data": {
      "text/plain": [
       "<pymongo.results.InsertOneResult at 0x10d8f1d20>"
      ]
     },
     "execution_count": 5,
     "metadata": {},
     "output_type": "execute_result"
    }
   ],
   "source": [
    "daily_stock.insert_one({'symbol': \"XBTUSD\"})"
   ]
  },
  {
   "cell_type": "code",
   "execution_count": 6,
   "metadata": {},
   "outputs": [
    {
     "name": "stdout",
     "output_type": "stream",
     "text": [
      "Help on function post in module requests.api:\n",
      "\n",
      "post(url, data=None, json=None, **kwargs)\n",
      "    Sends a POST request.\n",
      "    \n",
      "    :param url: URL for the new :class:`Request` object.\n",
      "    :param data: (optional) Dictionary, list of tuples, bytes, or file-like\n",
      "        object to send in the body of the :class:`Request`.\n",
      "    :param json: (optional) json data to send in the body of the :class:`Request`.\n",
      "    :param \\*\\*kwargs: Optional arguments that ``request`` takes.\n",
      "    :return: :class:`Response <Response>` object\n",
      "    :rtype: requests.Response\n",
      "\n"
     ]
    }
   ],
   "source": [
    "help(req.post)"
   ]
  },
  {
   "cell_type": "code",
   "execution_count": 7,
   "metadata": {},
   "outputs": [],
   "source": [
    "url = \"https://www.dsebd.org/day_end_archive.php\"\n",
    "start = \"2019-09-01\"\n",
    "end = \"2019-09-01\"\n",
    "symbol = \"All Instrument\"\n",
    "button = \"View Day End Archive\"\n",
    "form = {\n",
    "    \"DayEndSumDate1\" : start,\n",
    "    \"DayEndSumDate2\" : end,\n",
    "    \"Symbol\" : symbol,\n",
    "    \"ViewDayEndArchive\" : button\n",
    "}"
   ]
  },
  {
   "cell_type": "code",
   "execution_count": 18,
   "metadata": {},
   "outputs": [],
   "source": [
    "html = req.post(url, data = form)\n",
    "source = BeautifulSoup(html.content)"
   ]
  },
  {
   "cell_type": "code",
   "execution_count": 28,
   "metadata": {},
   "outputs": [],
   "source": [
    "table = source.select_one(\"body > table:nth-child(9) > tbody > tr > td:nth-child(2) > table > tbody > tr:nth-child(2) > td:nth-child(1) > table \")"
   ]
  },
  {
   "cell_type": "markdown",
   "metadata": {},
   "source": [
    "body > table:nth-child(9) > tbody > tr > td:nth-child(2) > table > tbody > tr:nth-child(2) > td:nth-child(1) > table\n",
    "/html/body/table[2]/tbody/tr/td[2]/table/tbody/tr[2]/td[1]/table"
   ]
  },
  {
   "cell_type": "code",
   "execution_count": 57,
   "metadata": {},
   "outputs": [],
   "source": [
    "df = pd.read_html(table.prettify())[0]"
   ]
  },
  {
   "cell_type": "code",
   "execution_count": 58,
   "metadata": {},
   "outputs": [
    {
     "data": {
      "text/html": [
       "<div>\n",
       "<style scoped>\n",
       "    .dataframe tbody tr th:only-of-type {\n",
       "        vertical-align: middle;\n",
       "    }\n",
       "\n",
       "    .dataframe tbody tr th {\n",
       "        vertical-align: top;\n",
       "    }\n",
       "\n",
       "    .dataframe thead th {\n",
       "        text-align: right;\n",
       "    }\n",
       "</style>\n",
       "<table border=\"1\" class=\"dataframe\">\n",
       "  <thead>\n",
       "    <tr style=\"text-align: right;\">\n",
       "      <th></th>\n",
       "      <th>0</th>\n",
       "      <th>1</th>\n",
       "      <th>2</th>\n",
       "      <th>3</th>\n",
       "      <th>4</th>\n",
       "      <th>5</th>\n",
       "      <th>6</th>\n",
       "      <th>7</th>\n",
       "      <th>8</th>\n",
       "      <th>9</th>\n",
       "      <th>10</th>\n",
       "      <th>11</th>\n",
       "    </tr>\n",
       "  </thead>\n",
       "  <tbody>\n",
       "    <tr>\n",
       "      <td>0</td>\n",
       "      <td>#</td>\n",
       "      <td>DATE</td>\n",
       "      <td>TRADING CODE</td>\n",
       "      <td>LTP*</td>\n",
       "      <td>HIGH</td>\n",
       "      <td>LOW</td>\n",
       "      <td>OPENP*</td>\n",
       "      <td>CLOSEP*</td>\n",
       "      <td>YCP</td>\n",
       "      <td>TRADE</td>\n",
       "      <td>VALUE (mn)</td>\n",
       "      <td>VOLUME</td>\n",
       "    </tr>\n",
       "    <tr>\n",
       "      <td>1</td>\n",
       "      <td>1</td>\n",
       "      <td>2019-09-01</td>\n",
       "      <td>1JANATAMF</td>\n",
       "      <td>4.1</td>\n",
       "      <td>4.2</td>\n",
       "      <td>4.1</td>\n",
       "      <td>4.2</td>\n",
       "      <td>4.1</td>\n",
       "      <td>4.2</td>\n",
       "      <td>98</td>\n",
       "      <td>1.471</td>\n",
       "      <td>357297</td>\n",
       "    </tr>\n",
       "    <tr>\n",
       "      <td>2</td>\n",
       "      <td>2</td>\n",
       "      <td>2019-09-01</td>\n",
       "      <td>1STPRIMFMF</td>\n",
       "      <td>15.7</td>\n",
       "      <td>16.5</td>\n",
       "      <td>15.1</td>\n",
       "      <td>16.5</td>\n",
       "      <td>15.3</td>\n",
       "      <td>16.2</td>\n",
       "      <td>326</td>\n",
       "      <td>8.39</td>\n",
       "      <td>534662</td>\n",
       "    </tr>\n",
       "    <tr>\n",
       "      <td>3</td>\n",
       "      <td>3</td>\n",
       "      <td>2019-09-01</td>\n",
       "      <td>AAMRANET</td>\n",
       "      <td>49.8</td>\n",
       "      <td>51.8</td>\n",
       "      <td>49.8</td>\n",
       "      <td>50.1</td>\n",
       "      <td>49.9</td>\n",
       "      <td>50</td>\n",
       "      <td>98</td>\n",
       "      <td>2.711</td>\n",
       "      <td>54004</td>\n",
       "    </tr>\n",
       "    <tr>\n",
       "      <td>4</td>\n",
       "      <td>4</td>\n",
       "      <td>2019-09-01</td>\n",
       "      <td>AAMRATECH</td>\n",
       "      <td>25</td>\n",
       "      <td>25.8</td>\n",
       "      <td>24.9</td>\n",
       "      <td>24.9</td>\n",
       "      <td>25</td>\n",
       "      <td>25.3</td>\n",
       "      <td>55</td>\n",
       "      <td>0.626</td>\n",
       "      <td>25036</td>\n",
       "    </tr>\n",
       "  </tbody>\n",
       "</table>\n",
       "</div>"
      ],
      "text/plain": [
       "  0           1             2     3     4     5       6        7     8   \\\n",
       "0  #        DATE  TRADING CODE  LTP*  HIGH   LOW  OPENP*  CLOSEP*   YCP   \n",
       "1  1  2019-09-01     1JANATAMF   4.1   4.2   4.1     4.2      4.1   4.2   \n",
       "2  2  2019-09-01    1STPRIMFMF  15.7  16.5  15.1    16.5     15.3  16.2   \n",
       "3  3  2019-09-01      AAMRANET  49.8  51.8  49.8    50.1     49.9    50   \n",
       "4  4  2019-09-01     AAMRATECH    25  25.8  24.9    24.9       25  25.3   \n",
       "\n",
       "      9           10      11  \n",
       "0  TRADE  VALUE (mn)  VOLUME  \n",
       "1     98       1.471  357297  \n",
       "2    326        8.39  534662  \n",
       "3     98       2.711   54004  \n",
       "4     55       0.626   25036  "
      ]
     },
     "execution_count": 58,
     "metadata": {},
     "output_type": "execute_result"
    }
   ],
   "source": [
    "df.head()"
   ]
  },
  {
   "cell_type": "code",
   "execution_count": 63,
   "metadata": {},
   "outputs": [
    {
     "name": "stdout",
     "output_type": "stream",
     "text": [
      "Help on method rename in module pandas.core.frame:\n",
      "\n",
      "rename(mapper=None, index=None, columns=None, axis=None, copy=True, inplace=False, level=None, errors='ignore') method of pandas.core.frame.DataFrame instance\n",
      "    Alter axes labels.\n",
      "    \n",
      "    Function / dict values must be unique (1-to-1). Labels not contained in\n",
      "    a dict / Series will be left as-is. Extra labels listed don't throw an\n",
      "    error.\n",
      "    \n",
      "    See the :ref:`user guide <basics.rename>` for more.\n",
      "    \n",
      "    Parameters\n",
      "    ----------\n",
      "    mapper : dict-like or function\n",
      "        Dict-like or functions transformations to apply to\n",
      "        that axis' values. Use either ``mapper`` and ``axis`` to\n",
      "        specify the axis to target with ``mapper``, or ``index`` and\n",
      "        ``columns``.\n",
      "    index : dict-like or function\n",
      "        Alternative to specifying axis (``mapper, axis=0``\n",
      "        is equivalent to ``index=mapper``).\n",
      "    columns : dict-like or function\n",
      "        Alternative to specifying axis (``mapper, axis=1``\n",
      "        is equivalent to ``columns=mapper``).\n",
      "    axis : int or str\n",
      "        Axis to target with ``mapper``. Can be either the axis name\n",
      "        ('index', 'columns') or number (0, 1). The default is 'index'.\n",
      "    copy : bool, default True\n",
      "        Also copy underlying data.\n",
      "    inplace : bool, default False\n",
      "        Whether to return a new DataFrame. If True then value of copy is\n",
      "        ignored.\n",
      "    level : int or level name, default None\n",
      "        In case of a MultiIndex, only rename labels in the specified\n",
      "        level.\n",
      "    errors : {'ignore', 'raise'}, default 'ignore'\n",
      "        If 'raise', raise a `KeyError` when a dict-like `mapper`, `index`,\n",
      "        or `columns` contains labels that are not present in the Index\n",
      "        being transformed.\n",
      "        If 'ignore', existing keys will be renamed and extra keys will be\n",
      "        ignored.\n",
      "    \n",
      "    Returns\n",
      "    -------\n",
      "    DataFrame\n",
      "        DataFrame with the renamed axis labels.\n",
      "    \n",
      "    Raises\n",
      "    ------\n",
      "    KeyError\n",
      "        If any of the labels is not found in the selected axis and\n",
      "        \"errors='raise'\".\n",
      "    \n",
      "    See Also\n",
      "    --------\n",
      "    DataFrame.rename_axis : Set the name of the axis.\n",
      "    \n",
      "    Examples\n",
      "    --------\n",
      "    \n",
      "    ``DataFrame.rename`` supports two calling conventions\n",
      "    \n",
      "    * ``(index=index_mapper, columns=columns_mapper, ...)``\n",
      "    * ``(mapper, axis={'index', 'columns'}, ...)``\n",
      "    \n",
      "    We *highly* recommend using keyword arguments to clarify your\n",
      "    intent.\n",
      "    \n",
      "    Rename columns using a mapping:\n",
      "    \n",
      "    >>> df = pd.DataFrame({\"A\": [1, 2, 3], \"B\": [4, 5, 6]})\n",
      "    >>> df.rename(columns={\"A\": \"a\", \"B\": \"c\"})\n",
      "       a  c\n",
      "    0  1  4\n",
      "    1  2  5\n",
      "    2  3  6\n",
      "    \n",
      "    Rename index using a mapping:\n",
      "    \n",
      "    >>> df.rename(index={0: \"x\", 1: \"y\", 2: \"z\"})\n",
      "       A  B\n",
      "    x  1  4\n",
      "    y  2  5\n",
      "    z  3  6\n",
      "    \n",
      "    Cast index labels to a different type:\n",
      "    \n",
      "    >>> df.index\n",
      "    RangeIndex(start=0, stop=3, step=1)\n",
      "    >>> df.rename(index=str).index\n",
      "    Index(['0', '1', '2'], dtype='object')\n",
      "    \n",
      "    >>> df.rename(columns={\"A\": \"a\", \"B\": \"b\", \"C\": \"c\"}, errors=\"raise\")\n",
      "    Traceback (most recent call last):\n",
      "    KeyError: ['C'] not found in axis\n",
      "    \n",
      "    Using axis-style parameters\n",
      "    \n",
      "    >>> df.rename(str.lower, axis='columns')\n",
      "       a  b\n",
      "    0  1  4\n",
      "    1  2  5\n",
      "    2  3  6\n",
      "    \n",
      "    >>> df.rename({1: 2, 2: 4}, axis='index')\n",
      "       A  B\n",
      "    0  1  4\n",
      "    2  2  5\n",
      "    4  3  6\n",
      "\n"
     ]
    }
   ],
   "source": [
    "help(df.rename)"
   ]
  },
  {
   "cell_type": "code",
   "execution_count": 66,
   "metadata": {},
   "outputs": [],
   "source": [
    "df = df.rename(df.iloc[0], axis=1)[1:]"
   ]
  },
  {
   "cell_type": "code",
   "execution_count": 68,
   "metadata": {},
   "outputs": [],
   "source": [
    "df = df.drop('#', axis=1)"
   ]
  },
  {
   "cell_type": "code",
   "execution_count": 72,
   "metadata": {},
   "outputs": [],
   "source": [
    "df['Date'] = pd.to_datetime(df['DATE'])"
   ]
  },
  {
   "cell_type": "code",
   "execution_count": 76,
   "metadata": {},
   "outputs": [],
   "source": [
    "df = df.set_index('Date')"
   ]
  },
  {
   "cell_type": "code",
   "execution_count": 75,
   "metadata": {},
   "outputs": [
    {
     "data": {
      "text/html": [
       "<div>\n",
       "<style scoped>\n",
       "    .dataframe tbody tr th:only-of-type {\n",
       "        vertical-align: middle;\n",
       "    }\n",
       "\n",
       "    .dataframe tbody tr th {\n",
       "        vertical-align: top;\n",
       "    }\n",
       "\n",
       "    .dataframe thead th {\n",
       "        text-align: right;\n",
       "    }\n",
       "</style>\n",
       "<table border=\"1\" class=\"dataframe\">\n",
       "  <thead>\n",
       "    <tr style=\"text-align: right;\">\n",
       "      <th></th>\n",
       "      <th>DATE</th>\n",
       "      <th>TRADING CODE</th>\n",
       "      <th>LTP*</th>\n",
       "      <th>HIGH</th>\n",
       "      <th>LOW</th>\n",
       "      <th>OPENP*</th>\n",
       "      <th>CLOSEP*</th>\n",
       "      <th>YCP</th>\n",
       "      <th>TRADE</th>\n",
       "      <th>VALUE (mn)</th>\n",
       "      <th>VOLUME</th>\n",
       "      <th>Date</th>\n",
       "    </tr>\n",
       "  </thead>\n",
       "  <tbody>\n",
       "    <tr>\n",
       "      <td>1</td>\n",
       "      <td>2019-09-01</td>\n",
       "      <td>1JANATAMF</td>\n",
       "      <td>4.1</td>\n",
       "      <td>4.2</td>\n",
       "      <td>4.1</td>\n",
       "      <td>4.2</td>\n",
       "      <td>4.1</td>\n",
       "      <td>4.2</td>\n",
       "      <td>98</td>\n",
       "      <td>1.471</td>\n",
       "      <td>357297</td>\n",
       "      <td>2019-09-01</td>\n",
       "    </tr>\n",
       "    <tr>\n",
       "      <td>2</td>\n",
       "      <td>2019-09-01</td>\n",
       "      <td>1STPRIMFMF</td>\n",
       "      <td>15.7</td>\n",
       "      <td>16.5</td>\n",
       "      <td>15.1</td>\n",
       "      <td>16.5</td>\n",
       "      <td>15.3</td>\n",
       "      <td>16.2</td>\n",
       "      <td>326</td>\n",
       "      <td>8.39</td>\n",
       "      <td>534662</td>\n",
       "      <td>2019-09-01</td>\n",
       "    </tr>\n",
       "    <tr>\n",
       "      <td>3</td>\n",
       "      <td>2019-09-01</td>\n",
       "      <td>AAMRANET</td>\n",
       "      <td>49.8</td>\n",
       "      <td>51.8</td>\n",
       "      <td>49.8</td>\n",
       "      <td>50.1</td>\n",
       "      <td>49.9</td>\n",
       "      <td>50</td>\n",
       "      <td>98</td>\n",
       "      <td>2.711</td>\n",
       "      <td>54004</td>\n",
       "      <td>2019-09-01</td>\n",
       "    </tr>\n",
       "    <tr>\n",
       "      <td>4</td>\n",
       "      <td>2019-09-01</td>\n",
       "      <td>AAMRATECH</td>\n",
       "      <td>25</td>\n",
       "      <td>25.8</td>\n",
       "      <td>24.9</td>\n",
       "      <td>24.9</td>\n",
       "      <td>25</td>\n",
       "      <td>25.3</td>\n",
       "      <td>55</td>\n",
       "      <td>0.626</td>\n",
       "      <td>25036</td>\n",
       "      <td>2019-09-01</td>\n",
       "    </tr>\n",
       "    <tr>\n",
       "      <td>5</td>\n",
       "      <td>2019-09-01</td>\n",
       "      <td>ABB1STMF</td>\n",
       "      <td>4.1</td>\n",
       "      <td>4.2</td>\n",
       "      <td>4.1</td>\n",
       "      <td>4.2</td>\n",
       "      <td>4.1</td>\n",
       "      <td>4.1</td>\n",
       "      <td>49</td>\n",
       "      <td>1.963</td>\n",
       "      <td>478736</td>\n",
       "      <td>2019-09-01</td>\n",
       "    </tr>\n",
       "  </tbody>\n",
       "</table>\n",
       "</div>"
      ],
      "text/plain": [
       "         DATE TRADING CODE  LTP*  HIGH   LOW OPENP* CLOSEP*   YCP TRADE  \\\n",
       "1  2019-09-01    1JANATAMF   4.1   4.2   4.1    4.2     4.1   4.2    98   \n",
       "2  2019-09-01   1STPRIMFMF  15.7  16.5  15.1   16.5    15.3  16.2   326   \n",
       "3  2019-09-01     AAMRANET  49.8  51.8  49.8   50.1    49.9    50    98   \n",
       "4  2019-09-01    AAMRATECH    25  25.8  24.9   24.9      25  25.3    55   \n",
       "5  2019-09-01     ABB1STMF   4.1   4.2   4.1    4.2     4.1   4.1    49   \n",
       "\n",
       "  VALUE (mn)  VOLUME       Date  \n",
       "1      1.471  357297 2019-09-01  \n",
       "2       8.39  534662 2019-09-01  \n",
       "3      2.711   54004 2019-09-01  \n",
       "4      0.626   25036 2019-09-01  \n",
       "5      1.963  478736 2019-09-01  "
      ]
     },
     "execution_count": 75,
     "metadata": {},
     "output_type": "execute_result"
    }
   ],
   "source": [
    "df.head()"
   ]
  },
  {
   "cell_type": "code",
   "execution_count": 79,
   "metadata": {},
   "outputs": [],
   "source": [
    "df = df.drop('DATE', axis=1)"
   ]
  },
  {
   "cell_type": "code",
   "execution_count": 80,
   "metadata": {},
   "outputs": [
    {
     "data": {
      "text/html": [
       "<div>\n",
       "<style scoped>\n",
       "    .dataframe tbody tr th:only-of-type {\n",
       "        vertical-align: middle;\n",
       "    }\n",
       "\n",
       "    .dataframe tbody tr th {\n",
       "        vertical-align: top;\n",
       "    }\n",
       "\n",
       "    .dataframe thead th {\n",
       "        text-align: right;\n",
       "    }\n",
       "</style>\n",
       "<table border=\"1\" class=\"dataframe\">\n",
       "  <thead>\n",
       "    <tr style=\"text-align: right;\">\n",
       "      <th></th>\n",
       "      <th>TRADING CODE</th>\n",
       "      <th>LTP*</th>\n",
       "      <th>HIGH</th>\n",
       "      <th>LOW</th>\n",
       "      <th>OPENP*</th>\n",
       "      <th>CLOSEP*</th>\n",
       "      <th>YCP</th>\n",
       "      <th>TRADE</th>\n",
       "      <th>VALUE (mn)</th>\n",
       "      <th>VOLUME</th>\n",
       "    </tr>\n",
       "    <tr>\n",
       "      <th>Date</th>\n",
       "      <th></th>\n",
       "      <th></th>\n",
       "      <th></th>\n",
       "      <th></th>\n",
       "      <th></th>\n",
       "      <th></th>\n",
       "      <th></th>\n",
       "      <th></th>\n",
       "      <th></th>\n",
       "      <th></th>\n",
       "    </tr>\n",
       "  </thead>\n",
       "  <tbody>\n",
       "    <tr>\n",
       "      <td>2019-09-01</td>\n",
       "      <td>1JANATAMF</td>\n",
       "      <td>4.1</td>\n",
       "      <td>4.2</td>\n",
       "      <td>4.1</td>\n",
       "      <td>4.2</td>\n",
       "      <td>4.1</td>\n",
       "      <td>4.2</td>\n",
       "      <td>98</td>\n",
       "      <td>1.471</td>\n",
       "      <td>357297</td>\n",
       "    </tr>\n",
       "    <tr>\n",
       "      <td>2019-09-01</td>\n",
       "      <td>1STPRIMFMF</td>\n",
       "      <td>15.7</td>\n",
       "      <td>16.5</td>\n",
       "      <td>15.1</td>\n",
       "      <td>16.5</td>\n",
       "      <td>15.3</td>\n",
       "      <td>16.2</td>\n",
       "      <td>326</td>\n",
       "      <td>8.39</td>\n",
       "      <td>534662</td>\n",
       "    </tr>\n",
       "    <tr>\n",
       "      <td>2019-09-01</td>\n",
       "      <td>AAMRANET</td>\n",
       "      <td>49.8</td>\n",
       "      <td>51.8</td>\n",
       "      <td>49.8</td>\n",
       "      <td>50.1</td>\n",
       "      <td>49.9</td>\n",
       "      <td>50</td>\n",
       "      <td>98</td>\n",
       "      <td>2.711</td>\n",
       "      <td>54004</td>\n",
       "    </tr>\n",
       "    <tr>\n",
       "      <td>2019-09-01</td>\n",
       "      <td>AAMRATECH</td>\n",
       "      <td>25</td>\n",
       "      <td>25.8</td>\n",
       "      <td>24.9</td>\n",
       "      <td>24.9</td>\n",
       "      <td>25</td>\n",
       "      <td>25.3</td>\n",
       "      <td>55</td>\n",
       "      <td>0.626</td>\n",
       "      <td>25036</td>\n",
       "    </tr>\n",
       "    <tr>\n",
       "      <td>2019-09-01</td>\n",
       "      <td>ABB1STMF</td>\n",
       "      <td>4.1</td>\n",
       "      <td>4.2</td>\n",
       "      <td>4.1</td>\n",
       "      <td>4.2</td>\n",
       "      <td>4.1</td>\n",
       "      <td>4.1</td>\n",
       "      <td>49</td>\n",
       "      <td>1.963</td>\n",
       "      <td>478736</td>\n",
       "    </tr>\n",
       "  </tbody>\n",
       "</table>\n",
       "</div>"
      ],
      "text/plain": [
       "           TRADING CODE  LTP*  HIGH   LOW OPENP* CLOSEP*   YCP TRADE  \\\n",
       "Date                                                                   \n",
       "2019-09-01    1JANATAMF   4.1   4.2   4.1    4.2     4.1   4.2    98   \n",
       "2019-09-01   1STPRIMFMF  15.7  16.5  15.1   16.5    15.3  16.2   326   \n",
       "2019-09-01     AAMRANET  49.8  51.8  49.8   50.1    49.9    50    98   \n",
       "2019-09-01    AAMRATECH    25  25.8  24.9   24.9      25  25.3    55   \n",
       "2019-09-01     ABB1STMF   4.1   4.2   4.1    4.2     4.1   4.1    49   \n",
       "\n",
       "           VALUE (mn)  VOLUME  \n",
       "Date                           \n",
       "2019-09-01      1.471  357297  \n",
       "2019-09-01       8.39  534662  \n",
       "2019-09-01      2.711   54004  \n",
       "2019-09-01      0.626   25036  \n",
       "2019-09-01      1.963  478736  "
      ]
     },
     "execution_count": 80,
     "metadata": {},
     "output_type": "execute_result"
    }
   ],
   "source": [
    "df.head()"
   ]
  },
  {
   "cell_type": "code",
   "execution_count": 84,
   "metadata": {},
   "outputs": [],
   "source": [
    "df = df.rename(columns = {'Date': 'DATE'})"
   ]
  },
  {
   "cell_type": "code",
   "execution_count": 86,
   "metadata": {},
   "outputs": [
    {
     "name": "stdout",
     "output_type": "stream",
     "text": [
      "<class 'pandas.core.frame.DataFrame'>\n",
      "DatetimeIndex: 586 entries, 2019-09-01 to 2019-09-01\n",
      "Data columns (total 10 columns):\n",
      "TRADING CODE    586 non-null object\n",
      "LTP*            586 non-null object\n",
      "HIGH            586 non-null object\n",
      "LOW             586 non-null object\n",
      "OPENP*          586 non-null object\n",
      "CLOSEP*         586 non-null object\n",
      "YCP             586 non-null object\n",
      "TRADE           586 non-null object\n",
      "VALUE (mn)      586 non-null object\n",
      "VOLUME          586 non-null object\n",
      "dtypes: object(10)\n",
      "memory usage: 50.4+ KB\n"
     ]
    }
   ],
   "source": [
    "df.info()"
   ]
  },
  {
   "cell_type": "code",
   "execution_count": null,
   "metadata": {},
   "outputs": [],
   "source": []
  }
 ],
 "metadata": {
  "kernelspec": {
   "display_name": "Python 3",
   "language": "python",
   "name": "python3"
  },
  "language_info": {
   "codemirror_mode": {
    "name": "ipython",
    "version": 3
   },
   "file_extension": ".py",
   "mimetype": "text/x-python",
   "name": "python",
   "nbconvert_exporter": "python",
   "pygments_lexer": "ipython3",
   "version": "3.7.4"
  }
 },
 "nbformat": 4,
 "nbformat_minor": 2
}
