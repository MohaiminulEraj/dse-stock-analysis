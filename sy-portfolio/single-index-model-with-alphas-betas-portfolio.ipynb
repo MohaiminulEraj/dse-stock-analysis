{
 "cells": [
  {
   "cell_type": "markdown",
   "metadata": {},
   "source": [
    "# Portfolio Using Single Index Model  "
   ]
  },
  {
   "cell_type": "markdown",
   "metadata": {},
   "source": [
    "## Importing Libraries"
   ]
  },
  {
   "cell_type": "code",
   "execution_count": 1,
   "metadata": {},
   "outputs": [],
   "source": [
    "import pandas as pd\n",
    "import numpy as np\n",
    "import missingno as msno\n",
    "import statsmodels.api as sm\n",
    "import matplotlib.pyplot as plt\n",
    "import seaborn as sns\n",
    "sns.set(rc={'figure.figsize':(11.7,8.27)})"
   ]
  },
  {
   "cell_type": "markdown",
   "metadata": {},
   "source": [
    "## Step 1: Determining Market and Asset Alphas and Betas"
   ]
  },
  {
   "cell_type": "markdown",
   "metadata": {},
   "source": [
    "### Dataset import"
   ]
  },
  {
   "cell_type": "code",
   "execution_count": 2,
   "metadata": {},
   "outputs": [
    {
     "data": {
      "text/plain": [
       "0.06081109423"
      ]
     },
     "execution_count": 2,
     "metadata": {},
     "output_type": "execute_result"
    }
   ],
   "source": [
    "#constants\n",
    "t_bill = pd.read_csv('./t-bill.csv')\n",
    "t_bill['T-bill'] = t_bill['T-bill']/100\n",
    "t_bill = t_bill.set_index(pd.to_datetime(t_bill['Year'], format='%Y')).drop('Year', axis=1)\n",
    "risk_free = t_bill.mean().values[0]\n",
    "risk_free"
   ]
  },
  {
   "cell_type": "code",
   "execution_count": 3,
   "metadata": {},
   "outputs": [
    {
     "data": {
      "text/html": [
       "<div>\n",
       "<style scoped>\n",
       "    .dataframe tbody tr th:only-of-type {\n",
       "        vertical-align: middle;\n",
       "    }\n",
       "\n",
       "    .dataframe tbody tr th {\n",
       "        vertical-align: top;\n",
       "    }\n",
       "\n",
       "    .dataframe thead th {\n",
       "        text-align: right;\n",
       "    }\n",
       "</style>\n",
       "<table border=\"1\" class=\"dataframe\">\n",
       "  <thead>\n",
       "    <tr style=\"text-align: right;\">\n",
       "      <th></th>\n",
       "      <th>00DS30</th>\n",
       "      <th>00DSEGEN</th>\n",
       "      <th>00DSES</th>\n",
       "      <th>00DSEX</th>\n",
       "      <th>01.Bank</th>\n",
       "      <th>02.Cement</th>\n",
       "      <th>03.Ceramics_Sector</th>\n",
       "      <th>04.Engineering</th>\n",
       "      <th>05.Financial_Institutions</th>\n",
       "      <th>06.Food_&amp;_Allied</th>\n",
       "      <th>...</th>\n",
       "      <th>VAMLBDMF1</th>\n",
       "      <th>VAMLRBBF</th>\n",
       "      <th>VFSTDL</th>\n",
       "      <th>WATACHEM</th>\n",
       "      <th>WMSHIPYARD</th>\n",
       "      <th>WONDERTOYS</th>\n",
       "      <th>YPL</th>\n",
       "      <th>ZAHEENSPIN</th>\n",
       "      <th>ZAHINTEX</th>\n",
       "      <th>ZEALBANGLA</th>\n",
       "    </tr>\n",
       "    <tr>\n",
       "      <th>date</th>\n",
       "      <th></th>\n",
       "      <th></th>\n",
       "      <th></th>\n",
       "      <th></th>\n",
       "      <th></th>\n",
       "      <th></th>\n",
       "      <th></th>\n",
       "      <th></th>\n",
       "      <th></th>\n",
       "      <th></th>\n",
       "      <th></th>\n",
       "      <th></th>\n",
       "      <th></th>\n",
       "      <th></th>\n",
       "      <th></th>\n",
       "      <th></th>\n",
       "      <th></th>\n",
       "      <th></th>\n",
       "      <th></th>\n",
       "      <th></th>\n",
       "      <th></th>\n",
       "    </tr>\n",
       "  </thead>\n",
       "  <tbody>\n",
       "    <tr>\n",
       "      <td>1999-01-10</td>\n",
       "      <td>NaN</td>\n",
       "      <td>NaN</td>\n",
       "      <td>NaN</td>\n",
       "      <td>NaN</td>\n",
       "      <td>NaN</td>\n",
       "      <td>NaN</td>\n",
       "      <td>NaN</td>\n",
       "      <td>NaN</td>\n",
       "      <td>NaN</td>\n",
       "      <td>NaN</td>\n",
       "      <td>...</td>\n",
       "      <td>NaN</td>\n",
       "      <td>NaN</td>\n",
       "      <td>NaN</td>\n",
       "      <td>NaN</td>\n",
       "      <td>NaN</td>\n",
       "      <td>74.50</td>\n",
       "      <td>NaN</td>\n",
       "      <td>NaN</td>\n",
       "      <td>NaN</td>\n",
       "      <td>10.1</td>\n",
       "    </tr>\n",
       "    <tr>\n",
       "      <td>1999-01-11</td>\n",
       "      <td>NaN</td>\n",
       "      <td>NaN</td>\n",
       "      <td>NaN</td>\n",
       "      <td>NaN</td>\n",
       "      <td>NaN</td>\n",
       "      <td>NaN</td>\n",
       "      <td>NaN</td>\n",
       "      <td>NaN</td>\n",
       "      <td>NaN</td>\n",
       "      <td>NaN</td>\n",
       "      <td>...</td>\n",
       "      <td>NaN</td>\n",
       "      <td>NaN</td>\n",
       "      <td>NaN</td>\n",
       "      <td>NaN</td>\n",
       "      <td>NaN</td>\n",
       "      <td>72.75</td>\n",
       "      <td>NaN</td>\n",
       "      <td>NaN</td>\n",
       "      <td>NaN</td>\n",
       "      <td>10.2</td>\n",
       "    </tr>\n",
       "    <tr>\n",
       "      <td>1999-01-12</td>\n",
       "      <td>NaN</td>\n",
       "      <td>NaN</td>\n",
       "      <td>NaN</td>\n",
       "      <td>NaN</td>\n",
       "      <td>NaN</td>\n",
       "      <td>NaN</td>\n",
       "      <td>NaN</td>\n",
       "      <td>NaN</td>\n",
       "      <td>NaN</td>\n",
       "      <td>NaN</td>\n",
       "      <td>...</td>\n",
       "      <td>NaN</td>\n",
       "      <td>NaN</td>\n",
       "      <td>NaN</td>\n",
       "      <td>NaN</td>\n",
       "      <td>NaN</td>\n",
       "      <td>73.50</td>\n",
       "      <td>NaN</td>\n",
       "      <td>NaN</td>\n",
       "      <td>NaN</td>\n",
       "      <td>10.4</td>\n",
       "    </tr>\n",
       "    <tr>\n",
       "      <td>1999-01-13</td>\n",
       "      <td>NaN</td>\n",
       "      <td>NaN</td>\n",
       "      <td>NaN</td>\n",
       "      <td>NaN</td>\n",
       "      <td>NaN</td>\n",
       "      <td>NaN</td>\n",
       "      <td>NaN</td>\n",
       "      <td>NaN</td>\n",
       "      <td>NaN</td>\n",
       "      <td>NaN</td>\n",
       "      <td>...</td>\n",
       "      <td>NaN</td>\n",
       "      <td>NaN</td>\n",
       "      <td>NaN</td>\n",
       "      <td>NaN</td>\n",
       "      <td>NaN</td>\n",
       "      <td>73.25</td>\n",
       "      <td>NaN</td>\n",
       "      <td>NaN</td>\n",
       "      <td>NaN</td>\n",
       "      <td>10.4</td>\n",
       "    </tr>\n",
       "    <tr>\n",
       "      <td>1999-01-14</td>\n",
       "      <td>NaN</td>\n",
       "      <td>NaN</td>\n",
       "      <td>NaN</td>\n",
       "      <td>NaN</td>\n",
       "      <td>NaN</td>\n",
       "      <td>NaN</td>\n",
       "      <td>NaN</td>\n",
       "      <td>NaN</td>\n",
       "      <td>NaN</td>\n",
       "      <td>NaN</td>\n",
       "      <td>...</td>\n",
       "      <td>NaN</td>\n",
       "      <td>NaN</td>\n",
       "      <td>NaN</td>\n",
       "      <td>NaN</td>\n",
       "      <td>NaN</td>\n",
       "      <td>72.75</td>\n",
       "      <td>NaN</td>\n",
       "      <td>NaN</td>\n",
       "      <td>NaN</td>\n",
       "      <td>10.3</td>\n",
       "    </tr>\n",
       "  </tbody>\n",
       "</table>\n",
       "<p>5 rows × 494 columns</p>\n",
       "</div>"
      ],
      "text/plain": [
       "            00DS30  00DSEGEN  00DSES  00DSEX  01.Bank  02.Cement  \\\n",
       "date                                                               \n",
       "1999-01-10     NaN       NaN     NaN     NaN      NaN        NaN   \n",
       "1999-01-11     NaN       NaN     NaN     NaN      NaN        NaN   \n",
       "1999-01-12     NaN       NaN     NaN     NaN      NaN        NaN   \n",
       "1999-01-13     NaN       NaN     NaN     NaN      NaN        NaN   \n",
       "1999-01-14     NaN       NaN     NaN     NaN      NaN        NaN   \n",
       "\n",
       "            03.Ceramics_Sector  04.Engineering  05.Financial_Institutions  \\\n",
       "date                                                                        \n",
       "1999-01-10                 NaN             NaN                        NaN   \n",
       "1999-01-11                 NaN             NaN                        NaN   \n",
       "1999-01-12                 NaN             NaN                        NaN   \n",
       "1999-01-13                 NaN             NaN                        NaN   \n",
       "1999-01-14                 NaN             NaN                        NaN   \n",
       "\n",
       "            06.Food_&_Allied  ...  VAMLBDMF1  VAMLRBBF  VFSTDL  WATACHEM  \\\n",
       "date                          ...                                          \n",
       "1999-01-10               NaN  ...        NaN       NaN     NaN       NaN   \n",
       "1999-01-11               NaN  ...        NaN       NaN     NaN       NaN   \n",
       "1999-01-12               NaN  ...        NaN       NaN     NaN       NaN   \n",
       "1999-01-13               NaN  ...        NaN       NaN     NaN       NaN   \n",
       "1999-01-14               NaN  ...        NaN       NaN     NaN       NaN   \n",
       "\n",
       "            WMSHIPYARD  WONDERTOYS  YPL  ZAHEENSPIN  ZAHINTEX  ZEALBANGLA  \n",
       "date                                                                       \n",
       "1999-01-10         NaN       74.50  NaN         NaN       NaN        10.1  \n",
       "1999-01-11         NaN       72.75  NaN         NaN       NaN        10.2  \n",
       "1999-01-12         NaN       73.50  NaN         NaN       NaN        10.4  \n",
       "1999-01-13         NaN       73.25  NaN         NaN       NaN        10.4  \n",
       "1999-01-14         NaN       72.75  NaN         NaN       NaN        10.3  \n",
       "\n",
       "[5 rows x 494 columns]"
      ]
     },
     "execution_count": 3,
     "metadata": {},
     "output_type": "execute_result"
    }
   ],
   "source": [
    "#datasets\n",
    "df = pd.read_csv('./stocks-pivoted-dataframe.csv').fillna(method=\"ffill\")\n",
    "df['date'] = pd.to_datetime(df['date'])\n",
    "df = df.set_index('date')\n",
    "symbols = df.columns.unique().values\n",
    "df.head()"
   ]
  },
  {
   "cell_type": "code",
   "execution_count": null,
   "metadata": {},
   "outputs": [],
   "source": []
  },
  {
   "cell_type": "code",
   "execution_count": 4,
   "metadata": {},
   "outputs": [
    {
     "data": {
      "text/plain": [
       "<matplotlib.axes._subplots.AxesSubplot at 0x1078b3250>"
      ]
     },
     "execution_count": 4,
     "metadata": {},
     "output_type": "execute_result"
    },
    {
     "data": {
      "image/png": "[encoded data removed]",
      "text/plain": [
       "<Figure size 1800x720 with 2 Axes>"
      ]
     },
     "metadata": {
      "needs_background": "light"
     },
     "output_type": "display_data"
    }
   ],
   "source": [
    "msno.matrix(df)"
   ]
  },
  {
   "cell_type": "code",
   "execution_count": 5,
   "metadata": {},
   "outputs": [
    {
     "data": {
      "text/plain": [
       "array(['00DS30', '00DSEGEN', '00DSES', '00DSEX', '01.Bank', '02.Cement',\n",
       "       '03.Ceramics_Sector', '04.Engineering',\n",
       "       '05.Financial_Institutions', '06.Food_&_Allied', '07.Fuel_&_Power',\n",
       "       '08.Insurance', '09.IT_Sector', '10.Jute', '11.Miscellaneous',\n",
       "       '12.Mutual_Funds', '13.Paper_&_Printing',\n",
       "       '14.Pharmaceuticals_&_Chemicals', '15.Services_&_Real_Estate',\n",
       "       '16.Tannery_Industries', '17.Telecommunication', '18.Textile',\n",
       "       '19.Travel_&_Leisure', '1JANATAMF', '1STBSRS', '1STICB',\n",
       "       '1STPRIMFMF', '20.Bond', '2NDICB', '3RDICB', '4THICB', '5THICB',\n",
       "       '6THICB', '7THICB', '8THICB', 'AAMRANET', 'AAMRATECH', 'ABB1STMF',\n",
       "       'ABBANK', 'ACFL', 'ACI', 'ACIFORMULA', 'ACIZCBOND', 'ACMELAB',\n",
       "       'ACTIVEFINE', 'ADVENT', 'AFCAGRO', 'AFTABAUTO', 'AGNISYSL',\n",
       "       'AGRANINS', 'AIBL1STIMF', 'AIL', 'AIMS1STMF', 'AL-HAJTEX',\n",
       "       'ALAMINCHEM', 'ALARABANK', 'ALIF', 'ALLTEX', 'ALPHATOBA',\n",
       "       'AMAMSEAFD', 'AMANFEED', 'AMBEEPHA', 'AMCL(PRAN)', 'ANLIMAYARN',\n",
       "       'ANWARGALV', 'APEXADELFT', 'APEXFOODS', 'APEXFOOT', 'APEXSPINN',\n",
       "       'APEXTANRY', 'APEXWEAV', 'APOLOISPAT', 'ARAMIT', 'ARAMITCEM',\n",
       "       'ARAMITCEM ', 'ARGONDENIM', 'ASHRAFTEX', 'ASIAINS', 'ASIAPACINS',\n",
       "       'ATCSLGF', 'ATLASBANG', 'AZIZPIPES', 'AZIZPIPES ', 'BANGAS',\n",
       "       'BANGLAPRO', 'BANKASIA', 'BARKAPOWER', 'BATASHOE', 'BATBC',\n",
       "       'BAYLEASING', 'BBS', 'BBSCABLES', 'BCIL', 'BDAUTOCA', 'BDBUILDING',\n",
       "       'BDCOM', 'BDDYE', 'BDFINANCE', 'BDHOTELS', 'BDLAMPS', 'BDLUGGAGE',\n",
       "       'BDONLINE', 'BDPLANT', 'BDSERVICE', 'BDTHAI', 'BDWELDING',\n",
       "       'BDZIPPER', 'BEACHHATCH', 'BEACONPHAR', 'BEDL', 'BEMCO',\n",
       "       'BENGALBISC', 'BENGALFINE', 'BENGALWTL', 'BERGERPBL', 'BEXIMCO',\n",
       "       'BEXTEX', 'BGIC', 'BIFC', 'BIONICFOOD', 'BLTC', 'BNICL', 'BOC',\n",
       "       'BPML', 'BRACBANK', 'BRACSCBOND', 'BSC', 'BSCCL', 'BSRMLTD',\n",
       "       'BSRMSTEEL', 'BXFISHERY', 'BXPHARMA', 'BXSYNTH', 'CAPMBDBLMF',\n",
       "       'CAPMIBBLMF', 'CENTRALINS', 'CENTRALPHL', 'CHICTEX', 'CITYBANK',\n",
       "       'CITYGENINS', 'CMCKAMAL', 'CNATEX', 'CONFIDCEM', 'CONTININS',\n",
       "       'COPPERTECH', 'CTGVEG', 'CVOPRL', 'DACCADYE', 'DAFODILCOM',\n",
       "       'DANDYDYE', 'DBH', 'DBH1STMF', 'DELTALIFE', 'DELTASPINN', 'DESCO',\n",
       "       'DESHBANDHU', 'DHAKABANK', 'DHAKAFISH', 'DHAKAINS', 'DOREENPWR',\n",
       "       'DS30', 'DSES', 'DSEX', 'DSHGARME', 'DSSL', 'DULAMIACOT',\n",
       "       'DUTCHBANGL', 'DYNAMICTEX', 'EAGLESTAR', 'EASTERNINS', 'EASTLAND',\n",
       "       'EASTLAND ', 'EASTRNLUB', 'EBL', 'EBL1STMF', 'EBLNRBMF', 'ECABLES',\n",
       "       'EHL', 'EMERALDOIL', 'ENVOYTEX', 'ESQUIRENIT', 'ETL', 'EXCELSHOE',\n",
       "       'EXIM1STMF', 'EXIMBANK', 'FAMILYTEX', 'FARCHEM', 'FAREASTFIN',\n",
       "       'FAREASTLIF', 'FASFIN', 'FBFIF', 'FEDERALINS', 'FEKDIL',\n",
       "       'FIDELASSET', 'FINEFOODS', 'FIRSTFIN', 'FIRSTSBANK', 'FLEASEINT',\n",
       "       'FORTUNE', 'FUWANGCER', 'FUWANGCER ', 'FUWANGFOOD', 'GACHIHATA',\n",
       "       'GBBPOWER', 'GBJVFOOD', 'GEMINISEA', 'GENEXIL', 'GENNEXT', 'GHAIL',\n",
       "       'GHCL', 'GLAXOSMITH', 'GLOBALINS', 'GOLDENSON', 'GP', 'GPHISPAT',\n",
       "       'GQBALLPEN', 'GRAMEEN1', 'GRAMEENS2', 'GREENDELMF', 'GREENDELT',\n",
       "       'GSPFINANCE', 'GULFOODS', 'HAKKANIPUL', 'HEIDELBCEM', 'HFL',\n",
       "       'HILLPLANT', 'HIMADRI', 'HRTEX', 'HWAWELLTEX', 'IBBLPBOND',\n",
       "       'IBNSINA', 'IBP', 'ICB', 'ICB1STNRB', 'ICB2NDNRB', 'ICB3RDNRB',\n",
       "       'ICBAGRANI1', 'ICBAMCL1ST', 'ICBAMCL2ND', 'ICBEPMF1S1', 'ICBIBANK',\n",
       "       'ICBISLAMIC', 'ICBSONALI1', 'IDLC', 'IFADAUTOS', 'IFIC',\n",
       "       'IFIC1STMF', 'IFILISLMF1', 'ILFSL', 'IMAMBUTTON', 'INTECH',\n",
       "       'INTRACO', 'IPDC', 'ISLAMIBANK', 'ISLAMICFIN', 'ISLAMIINS',\n",
       "       'ISNLTD', 'ITC', 'JAMUNABANK', 'JAMUNAOIL', 'JANATAINS', 'JMISMDL',\n",
       "       'JUTESPINN', 'KARNAPHULI', 'KAY&QUE', 'KBPPWBIL', 'KDSALTD',\n",
       "       'KEYACOSMET', 'KEYADETERG', 'KOHINOOR', 'KPCL', 'KPPL', 'KTL',\n",
       "       'LAFSURCEML', 'LANKABAFIN', 'LEGACYFOOT', 'LEXCO', 'LHBL',\n",
       "       'LIBRAINFU', 'LINDEBD', 'LRGLOBMF1', 'MAKSONSPIN', 'MALEKSPIN',\n",
       "       'MAQENTER', 'MAQPAPER', 'MARICO', 'MATINSPINN', 'MBL1STMF',\n",
       "       'MEGCONMILK', 'MEGHNACEM', 'MEGHNALIFE', 'MEGHNAPET', 'MEGHNASHRM',\n",
       "       'MERCANBANK', 'MERCINS', 'METALEXCR', 'METROSPIN', 'MHOSSAIN',\n",
       "       'MHSML', 'MICEMENT', 'MIDASFIN', 'MIRACLEIND', 'MITATEX',\n",
       "       'MITHUNKNIT', 'MJLBD', 'MLDYEING', 'MODERNCEM', 'MODERNDYE',\n",
       "       'MODERNIND', 'MONAFOOD', 'MONNOCERA', 'MONNOFABR', 'MONNOJTX',\n",
       "       'MONNOSTAF', 'MONOSPOOL', 'MPETROLEUM', 'MTB', 'MTBL', 'NAHEEACP',\n",
       "       'NATLIFEINS', 'NAVANACNG', 'NBL', 'NCCBANK', 'NCCBLMF1', 'NEWLINE',\n",
       "       'NFML', 'NHFIL', 'NILOYCEM', 'NITOLINS', 'NLI1STMF', 'NORTHERN',\n",
       "       'NORTHRNINS', 'NPOLYMAR', 'NTC', 'NTLTUBES', 'NURANI', 'OAL',\n",
       "       'OCL', 'OIMEX', 'OLYMPIC', 'OLYMPIC ', 'ONEBANKLTD', 'ORIONINFU',\n",
       "       'ORIONPHARM', 'PADMACEM', 'PADMALIFE', 'PADMAOIL', 'PADMAPRINT',\n",
       "       'PAPERPROC', 'PARAMOUNT', 'PDL', 'PENINSULA', 'PEOPLESINS',\n",
       "       'PERFUMCHM', 'PETROSYNTH', 'PF1STMF', 'PHARMACO', 'PHARMAID',\n",
       "       'PHENIXINS', 'PHENIXLETH', 'PHOENIXFIN', 'PHPMF1', 'PIONEERINS',\n",
       "       'PLFSL', 'POPULAR1MF', 'POPULARLIF', 'POWERGRID', 'PRAGATIINS',\n",
       "       'PRAGATILIF', 'PREMIERBAN', 'PREMIERCEM', 'PREMIERLEA',\n",
       "       'PRIME1ICBA', 'PRIMEBANK', 'PRIMEFIN', 'PRIMEINSUR', 'PRIMELIFE',\n",
       "       'PRIMETEX', 'PROGRESLIF', 'PROVATIINS', 'PTL', 'PUBALIBANK',\n",
       "       'PURABIGEN', 'QSMDRYCELL', 'QSMSILK', 'QSMTEX', 'QUASEMIND',\n",
       "       'QUEENSOUTH', 'RAHIMAFOOD', 'RAHIMTEXT', 'RAHMANCHEM',\n",
       "       'RAKCERAMIC', 'RANFOUNDRY', 'RANGAFOOD', 'RASPIT', 'RASPITDATA',\n",
       "       'RDFOOD', 'RECKITTBEN', 'REGENTTEX', 'RELIANCE1', 'RELIANCINS',\n",
       "       'RENATA', 'RENWICKJA', 'REPUBLIC', 'RNSPIN', 'ROSEHEAVEN',\n",
       "       'RSRMSTEEL', 'RUNNERAUTO', 'RUPALIBANK', 'RUPALIINS', 'RUPALILIFE',\n",
       "       'SAFKOSPINN', 'SAIFPOWER', 'SAIHAMCOT', 'SAIHAMTEX', 'SAJIBKNIT',\n",
       "       'SALAMCRST', 'SALEHCARPT', 'SALVOCHEM', 'SAMATALETH', 'SAMORITA',\n",
       "       'SANDHANINS', 'SAPORTL', 'SAVAREFR', 'SEAPEARL', 'SEBL1STMF',\n",
       "       'SEMLFBSLGF', 'SEMLIBBLSF', 'SEMLLECMF', 'SHAHJABANK',\n",
       "       'SHASHADNIM', 'SHEPHERD', 'SHINEPUKUR', 'SHURWID', 'SHYAMPSUG',\n",
       "       'SIBL', 'SILCOPHL', 'SILVAPHL', 'SIMTEX', 'SINGERBD', 'SINOBANGLA',\n",
       "       'SKTRIMS', 'SOCIALINV', 'SONALIANSH', 'SONALIPAPR', 'SONARBAINS',\n",
       "       'SONARGAON', 'SOUTHEASTB', 'SPCERAMICS', 'SPCL', 'SPPCL',\n",
       "       'SQUARETEXT', 'SQURPHARMA', 'SREEPURTEX', 'SSSTEEL', 'STANCERAM',\n",
       "       'STANDARINS', 'STANDBANKL', 'STYLECRAFT', 'SUMITPOWER',\n",
       "       'SUNLIFEINS', 'TAKAFULINS', 'TALLUSPIN', 'TAMIJTEX', 'TBL',\n",
       "       'TITASGAS', 'TOSRIFA', 'TRIPTI', 'TRUSTB1MF', 'TRUSTBANK',\n",
       "       'TULIPDAIRY', 'TUNGHAI', 'UCB', 'UCBL', 'ULC', 'UNIONCAP',\n",
       "       'UNIQUEHRL', 'UNITEDAIR', 'UNITEDFIN', 'UNITEDINS', 'UPGDCL',\n",
       "       'USMANIAGL', 'UTTARABANK', 'UTTARAFIN', 'VAMLBDMF1', 'VAMLRBBF',\n",
       "       'VFSTDL', 'WATACHEM', 'WMSHIPYARD', 'WONDERTOYS', 'YPL',\n",
       "       'ZAHEENSPIN', 'ZAHINTEX', 'ZEALBANGLA'], dtype=object)"
      ]
     },
     "execution_count": 5,
     "metadata": {},
     "output_type": "execute_result"
    }
   ],
   "source": [
    "symbols"
   ]
  },
  {
   "cell_type": "markdown",
   "metadata": {},
   "source": [
    "['00DS30', '00DSEGEN', '00DSES', '00DSEX','DSEX','DS30']"
   ]
  },
  {
   "cell_type": "code",
   "execution_count": 6,
   "metadata": {},
   "outputs": [],
   "source": [
    "biswa_df = df.loc[:, ['DSEX', 'BERGERPBL', 'FORTUNE' ]].dropna()\n",
    "biswa_df['DSEX'] = biswa_df.DSEX.resample('M').mean()\n",
    "biswa_df['BERGERPBL'] = biswa_df.BERGERPBL.resample('M').mean()\n",
    "biswa_df['FORTUNE'] = biswa_df.FORTUNE.resample('M').mean()\n",
    "biswa_df = biswa_df.dropna()\n",
    "biswa_df.to_clipboard()"
   ]
  },
  {
   "cell_type": "markdown",
   "metadata": {},
   "source": [
    "### Asset Selection for alphas and betas"
   ]
  },
  {
   "cell_type": "code",
   "execution_count": 7,
   "metadata": {},
   "outputs": [
    {
     "data": {
      "text/html": [
       "<div>\n",
       "<style scoped>\n",
       "    .dataframe tbody tr th:only-of-type {\n",
       "        vertical-align: middle;\n",
       "    }\n",
       "\n",
       "    .dataframe tbody tr th {\n",
       "        vertical-align: top;\n",
       "    }\n",
       "\n",
       "    .dataframe thead th {\n",
       "        text-align: right;\n",
       "    }\n",
       "</style>\n",
       "<table border=\"1\" class=\"dataframe\">\n",
       "  <thead>\n",
       "    <tr style=\"text-align: right;\">\n",
       "      <th></th>\n",
       "      <th>ZEALBANGLA</th>\n",
       "      <th>MONNOSTAF</th>\n",
       "      <th>DSEX</th>\n",
       "      <th>DS30</th>\n",
       "    </tr>\n",
       "    <tr>\n",
       "      <th>date</th>\n",
       "      <th></th>\n",
       "      <th></th>\n",
       "      <th></th>\n",
       "      <th></th>\n",
       "    </tr>\n",
       "  </thead>\n",
       "  <tbody>\n",
       "    <tr>\n",
       "      <td>2014-04-01</td>\n",
       "      <td>NaN</td>\n",
       "      <td>NaN</td>\n",
       "      <td>NaN</td>\n",
       "      <td>NaN</td>\n",
       "    </tr>\n",
       "    <tr>\n",
       "      <td>2014-04-02</td>\n",
       "      <td>-0.063063</td>\n",
       "      <td>-0.009158</td>\n",
       "      <td>0.015213</td>\n",
       "      <td>0.017300</td>\n",
       "    </tr>\n",
       "    <tr>\n",
       "      <td>2014-04-03</td>\n",
       "      <td>-0.076923</td>\n",
       "      <td>-0.042718</td>\n",
       "      <td>0.005531</td>\n",
       "      <td>0.014364</td>\n",
       "    </tr>\n",
       "    <tr>\n",
       "      <td>2014-04-06</td>\n",
       "      <td>0.041667</td>\n",
       "      <td>-0.007307</td>\n",
       "      <td>-0.007020</td>\n",
       "      <td>-0.006029</td>\n",
       "    </tr>\n",
       "    <tr>\n",
       "      <td>2014-04-07</td>\n",
       "      <td>-0.060000</td>\n",
       "      <td>-0.031546</td>\n",
       "      <td>0.004249</td>\n",
       "      <td>0.013355</td>\n",
       "    </tr>\n",
       "    <tr>\n",
       "      <td>...</td>\n",
       "      <td>...</td>\n",
       "      <td>...</td>\n",
       "      <td>...</td>\n",
       "      <td>...</td>\n",
       "    </tr>\n",
       "    <tr>\n",
       "      <td>2019-08-25</td>\n",
       "      <td>0.000000</td>\n",
       "      <td>-0.058977</td>\n",
       "      <td>-0.002505</td>\n",
       "      <td>-0.004454</td>\n",
       "    </tr>\n",
       "    <tr>\n",
       "      <td>2019-08-26</td>\n",
       "      <td>0.078788</td>\n",
       "      <td>-0.010034</td>\n",
       "      <td>-0.011096</td>\n",
       "      <td>-0.011999</td>\n",
       "    </tr>\n",
       "    <tr>\n",
       "      <td>2019-08-27</td>\n",
       "      <td>-0.087079</td>\n",
       "      <td>0.062476</td>\n",
       "      <td>0.002503</td>\n",
       "      <td>0.005204</td>\n",
       "    </tr>\n",
       "    <tr>\n",
       "      <td>2019-08-28</td>\n",
       "      <td>0.000000</td>\n",
       "      <td>0.049762</td>\n",
       "      <td>-0.007473</td>\n",
       "      <td>-0.006249</td>\n",
       "    </tr>\n",
       "    <tr>\n",
       "      <td>2019-08-29</td>\n",
       "      <td>0.006154</td>\n",
       "      <td>0.025973</td>\n",
       "      <td>-0.008603</td>\n",
       "      <td>-0.009710</td>\n",
       "    </tr>\n",
       "  </tbody>\n",
       "</table>\n",
       "<p>1308 rows × 4 columns</p>\n",
       "</div>"
      ],
      "text/plain": [
       "            ZEALBANGLA  MONNOSTAF      DSEX      DS30\n",
       "date                                                 \n",
       "2014-04-01         NaN        NaN       NaN       NaN\n",
       "2014-04-02   -0.063063  -0.009158  0.015213  0.017300\n",
       "2014-04-03   -0.076923  -0.042718  0.005531  0.014364\n",
       "2014-04-06    0.041667  -0.007307 -0.007020 -0.006029\n",
       "2014-04-07   -0.060000  -0.031546  0.004249  0.013355\n",
       "...                ...        ...       ...       ...\n",
       "2019-08-25    0.000000  -0.058977 -0.002505 -0.004454\n",
       "2019-08-26    0.078788  -0.010034 -0.011096 -0.011999\n",
       "2019-08-27   -0.087079   0.062476  0.002503  0.005204\n",
       "2019-08-28    0.000000   0.049762 -0.007473 -0.006249\n",
       "2019-08-29    0.006154   0.025973 -0.008603 -0.009710\n",
       "\n",
       "[1308 rows x 4 columns]"
      ]
     },
     "execution_count": 7,
     "metadata": {},
     "output_type": "execute_result"
    }
   ],
   "source": [
    "selected_symbol = ['ZEALBANGLA', 'MONNOSTAF', 'DSEX', 'DS30']\n",
    "df_selected = df.loc[:,selected_symbol].dropna()\n",
    "df_selected_rate = df_selected.pct_change(1)\n",
    "df_selected_rate"
   ]
  },
  {
   "cell_type": "code",
   "execution_count": 8,
   "metadata": {},
   "outputs": [
    {
     "data": {
      "text/html": [
       "<div>\n",
       "<style scoped>\n",
       "    .dataframe tbody tr th:only-of-type {\n",
       "        vertical-align: middle;\n",
       "    }\n",
       "\n",
       "    .dataframe tbody tr th {\n",
       "        vertical-align: top;\n",
       "    }\n",
       "\n",
       "    .dataframe thead th {\n",
       "        text-align: right;\n",
       "    }\n",
       "</style>\n",
       "<table border=\"1\" class=\"dataframe\">\n",
       "  <thead>\n",
       "    <tr style=\"text-align: right;\">\n",
       "      <th></th>\n",
       "      <th>ZEALBANGLA</th>\n",
       "      <th>MONNOSTAF</th>\n",
       "      <th>DSEX</th>\n",
       "      <th>DS30</th>\n",
       "    </tr>\n",
       "    <tr>\n",
       "      <th>date</th>\n",
       "      <th></th>\n",
       "      <th></th>\n",
       "      <th></th>\n",
       "      <th></th>\n",
       "    </tr>\n",
       "  </thead>\n",
       "  <tbody>\n",
       "    <tr>\n",
       "      <td>2014-04-02</td>\n",
       "      <td>-0.063304</td>\n",
       "      <td>-0.009400</td>\n",
       "      <td>0.014972</td>\n",
       "      <td>0.017059</td>\n",
       "    </tr>\n",
       "    <tr>\n",
       "      <td>2014-04-03</td>\n",
       "      <td>-0.077164</td>\n",
       "      <td>-0.042959</td>\n",
       "      <td>0.005290</td>\n",
       "      <td>0.014122</td>\n",
       "    </tr>\n",
       "    <tr>\n",
       "      <td>2014-04-06</td>\n",
       "      <td>0.041425</td>\n",
       "      <td>-0.007548</td>\n",
       "      <td>-0.007261</td>\n",
       "      <td>-0.006271</td>\n",
       "    </tr>\n",
       "    <tr>\n",
       "      <td>2014-04-07</td>\n",
       "      <td>-0.060241</td>\n",
       "      <td>-0.031787</td>\n",
       "      <td>0.004008</td>\n",
       "      <td>0.013113</td>\n",
       "    </tr>\n",
       "    <tr>\n",
       "      <td>2014-04-08</td>\n",
       "      <td>-0.042795</td>\n",
       "      <td>-0.033086</td>\n",
       "      <td>-0.004881</td>\n",
       "      <td>-0.000342</td>\n",
       "    </tr>\n",
       "    <tr>\n",
       "      <td>...</td>\n",
       "      <td>...</td>\n",
       "      <td>...</td>\n",
       "      <td>...</td>\n",
       "      <td>...</td>\n",
       "    </tr>\n",
       "    <tr>\n",
       "      <td>2019-08-25</td>\n",
       "      <td>-0.000241</td>\n",
       "      <td>-0.059218</td>\n",
       "      <td>-0.002747</td>\n",
       "      <td>-0.004695</td>\n",
       "    </tr>\n",
       "    <tr>\n",
       "      <td>2019-08-26</td>\n",
       "      <td>0.078547</td>\n",
       "      <td>-0.010275</td>\n",
       "      <td>-0.011337</td>\n",
       "      <td>-0.012241</td>\n",
       "    </tr>\n",
       "    <tr>\n",
       "      <td>2019-08-27</td>\n",
       "      <td>-0.087320</td>\n",
       "      <td>0.062235</td>\n",
       "      <td>0.002262</td>\n",
       "      <td>0.004963</td>\n",
       "    </tr>\n",
       "    <tr>\n",
       "      <td>2019-08-28</td>\n",
       "      <td>-0.000241</td>\n",
       "      <td>0.049520</td>\n",
       "      <td>-0.007714</td>\n",
       "      <td>-0.006490</td>\n",
       "    </tr>\n",
       "    <tr>\n",
       "      <td>2019-08-29</td>\n",
       "      <td>0.005913</td>\n",
       "      <td>0.025732</td>\n",
       "      <td>-0.008844</td>\n",
       "      <td>-0.009951</td>\n",
       "    </tr>\n",
       "  </tbody>\n",
       "</table>\n",
       "<p>1307 rows × 4 columns</p>\n",
       "</div>"
      ],
      "text/plain": [
       "            ZEALBANGLA  MONNOSTAF      DSEX      DS30\n",
       "date                                                 \n",
       "2014-04-02   -0.063304  -0.009400  0.014972  0.017059\n",
       "2014-04-03   -0.077164  -0.042959  0.005290  0.014122\n",
       "2014-04-06    0.041425  -0.007548 -0.007261 -0.006271\n",
       "2014-04-07   -0.060241  -0.031787  0.004008  0.013113\n",
       "2014-04-08   -0.042795  -0.033086 -0.004881 -0.000342\n",
       "...                ...        ...       ...       ...\n",
       "2019-08-25   -0.000241  -0.059218 -0.002747 -0.004695\n",
       "2019-08-26    0.078547  -0.010275 -0.011337 -0.012241\n",
       "2019-08-27   -0.087320   0.062235  0.002262  0.004963\n",
       "2019-08-28   -0.000241   0.049520 -0.007714 -0.006490\n",
       "2019-08-29    0.005913   0.025732 -0.008844 -0.009951\n",
       "\n",
       "[1307 rows x 4 columns]"
      ]
     },
     "execution_count": 8,
     "metadata": {},
     "output_type": "execute_result"
    }
   ],
   "source": [
    "df_selected_rate = df_selected_rate.dropna() - (risk_free/252)\n",
    "df_selected_rate"
   ]
  },
  {
   "cell_type": "code",
   "execution_count": 9,
   "metadata": {},
   "outputs": [
    {
     "data": {
      "text/plain": [
       "<matplotlib.axes._subplots.AxesSubplot at 0x11ca7c050>"
      ]
     },
     "execution_count": 9,
     "metadata": {},
     "output_type": "execute_result"
    },
    {
     "data": {
      "image/png": "[encoded data removed]",
      "text/plain": [
       "<Figure size 432x288 with 1 Axes>"
      ]
     },
     "metadata": {
      "needs_background": "light"
     },
     "output_type": "display_data"
    }
   ],
   "source": [
    "df_selected['MONNOSTAF'].plot()"
   ]
  },
  {
   "cell_type": "code",
   "execution_count": 12,
   "metadata": {},
   "outputs": [
    {
     "data": {
      "text/plain": [
       "<matplotlib.axes._subplots.AxesSubplot at 0x127c2a4d0>"
      ]
     },
     "execution_count": 12,
     "metadata": {},
     "output_type": "execute_result"
    },
    {
     "data": {
      "image/png": "[encoded data removed]",
      "text/plain": [
       "<Figure size 432x288 with 1 Axes>"
      ]
     },
     "metadata": {
      "needs_background": "light"
     },
     "output_type": "display_data"
    }
   ],
   "source": [
    "sns.scatterplot(df_selected_rate['DS30'], df_selected_rate['ZEALBANGLA'])"
   ]
  },
  {
   "cell_type": "code",
   "execution_count": 13,
   "metadata": {},
   "outputs": [
    {
     "name": "stderr",
     "output_type": "stream",
     "text": [
      "/Users/rapples/Desktop/quantitative-analysis/portfolio-analysis/sy-portfolio/venv/lib/python3.7/site-packages/numpy/core/fromnumeric.py:2495: FutureWarning: Method .ptp is deprecated and will be removed in a future version. Use numpy.ptp instead.\n",
      "  return ptp(axis=axis, out=out, **kwargs)\n"
     ]
    },
    {
     "data": {
      "text/html": [
       "<table class=\"simpletable\">\n",
       "<caption>OLS Regression Results</caption>\n",
       "<tr>\n",
       "  <th>Dep. Variable:</th>       <td>ZEALBANGLA</td>    <th>  R-squared:         </th> <td>   0.001</td>\n",
       "</tr>\n",
       "<tr>\n",
       "  <th>Model:</th>                   <td>OLS</td>       <th>  Adj. R-squared:    </th> <td>   0.000</td>\n",
       "</tr>\n",
       "<tr>\n",
       "  <th>Method:</th>             <td>Least Squares</td>  <th>  F-statistic:       </th> <td>   1.501</td>\n",
       "</tr>\n",
       "<tr>\n",
       "  <th>Date:</th>             <td>Sun, 20 Oct 2019</td> <th>  Prob (F-statistic):</th>  <td> 0.221</td> \n",
       "</tr>\n",
       "<tr>\n",
       "  <th>Time:</th>                 <td>13:15:54</td>     <th>  Log-Likelihood:    </th> <td>  2370.4</td>\n",
       "</tr>\n",
       "<tr>\n",
       "  <th>No. Observations:</th>      <td>  1307</td>      <th>  AIC:               </th> <td>  -4737.</td>\n",
       "</tr>\n",
       "<tr>\n",
       "  <th>Df Residuals:</th>          <td>  1305</td>      <th>  BIC:               </th> <td>  -4726.</td>\n",
       "</tr>\n",
       "<tr>\n",
       "  <th>Df Model:</th>              <td>     1</td>      <th>                     </th>     <td> </td>   \n",
       "</tr>\n",
       "<tr>\n",
       "  <th>Covariance Type:</th>      <td>nonrobust</td>    <th>                     </th>     <td> </td>   \n",
       "</tr>\n",
       "</table>\n",
       "<table class=\"simpletable\">\n",
       "<tr>\n",
       "    <td></td>       <th>coef</th>     <th>std err</th>      <th>t</th>      <th>P>|t|</th>  <th>[0.025</th>    <th>0.975]</th>  \n",
       "</tr>\n",
       "<tr>\n",
       "  <th>const</th> <td>    0.0014</td> <td>    0.001</td> <td>    1.265</td> <td> 0.206</td> <td>   -0.001</td> <td>    0.004</td>\n",
       "</tr>\n",
       "<tr>\n",
       "  <th>DSEX</th>  <td>    0.1980</td> <td>    0.162</td> <td>    1.225</td> <td> 0.221</td> <td>   -0.119</td> <td>    0.515</td>\n",
       "</tr>\n",
       "</table>\n",
       "<table class=\"simpletable\">\n",
       "<tr>\n",
       "  <th>Omnibus:</th>       <td>82.836</td> <th>  Durbin-Watson:     </th> <td>   1.839</td>\n",
       "</tr>\n",
       "<tr>\n",
       "  <th>Prob(Omnibus):</th> <td> 0.000</td> <th>  Jarque-Bera (JB):  </th> <td> 155.847</td>\n",
       "</tr>\n",
       "<tr>\n",
       "  <th>Skew:</th>          <td> 0.441</td> <th>  Prob(JB):          </th> <td>1.44e-34</td>\n",
       "</tr>\n",
       "<tr>\n",
       "  <th>Kurtosis:</th>      <td> 4.443</td> <th>  Cond. No.          </th> <td>    148.</td>\n",
       "</tr>\n",
       "</table><br/><br/>Warnings:<br/>[1] Standard Errors assume that the covariance matrix of the errors is correctly specified."
      ],
      "text/plain": [
       "<class 'statsmodels.iolib.summary.Summary'>\n",
       "\"\"\"\n",
       "                            OLS Regression Results                            \n",
       "==============================================================================\n",
       "Dep. Variable:             ZEALBANGLA   R-squared:                       0.001\n",
       "Model:                            OLS   Adj. R-squared:                  0.000\n",
       "Method:                 Least Squares   F-statistic:                     1.501\n",
       "Date:                Sun, 20 Oct 2019   Prob (F-statistic):              0.221\n",
       "Time:                        13:15:54   Log-Likelihood:                 2370.4\n",
       "No. Observations:                1307   AIC:                            -4737.\n",
       "Df Residuals:                    1305   BIC:                            -4726.\n",
       "Df Model:                           1                                         \n",
       "Covariance Type:            nonrobust                                         \n",
       "==============================================================================\n",
       "                 coef    std err          t      P>|t|      [0.025      0.975]\n",
       "------------------------------------------------------------------------------\n",
       "const          0.0014      0.001      1.265      0.206      -0.001       0.004\n",
       "DSEX           0.1980      0.162      1.225      0.221      -0.119       0.515\n",
       "==============================================================================\n",
       "Omnibus:                       82.836   Durbin-Watson:                   1.839\n",
       "Prob(Omnibus):                  0.000   Jarque-Bera (JB):              155.847\n",
       "Skew:                           0.441   Prob(JB):                     1.44e-34\n",
       "Kurtosis:                       4.443   Cond. No.                         148.\n",
       "==============================================================================\n",
       "\n",
       "Warnings:\n",
       "[1] Standard Errors assume that the covariance matrix of the errors is correctly specified.\n",
       "\"\"\""
      ]
     },
     "execution_count": 13,
     "metadata": {},
     "output_type": "execute_result"
    },
    {
     "data": {
      "image/png": "[encoded data removed]",
      "text/plain": [
       "<Figure size 432x288 with 1 Axes>"
      ]
     },
     "metadata": {
      "needs_background": "light"
     },
     "output_type": "display_data"
    }
   ],
   "source": [
    "x = df_selected_rate['DSEX']\n",
    "X = sm.add_constant(x)\n",
    "Y = df_selected_rate['ZEALBANGLA']\n",
    "model = sm.OLS(Y,X).fit()\n",
    "\n",
    "predictions = model.predict(X)\n",
    "sns.scatterplot(df_selected_rate['DSEX'], df_selected_rate['ZEALBANGLA'])\n",
    "sns.lineplot(x, predictions)\n",
    "x_line = np.arange(-.08,.01, .01)\n",
    "y_line = model.params[0] + model.params[1]*x_line\n",
    "sns.lineplot(x_line, y_line)\n",
    "model.summary()"
   ]
  },
  {
   "cell_type": "markdown",
   "metadata": {},
   "source": [
    "```\n",
    "beta_df = pd.DataFrame()\n",
    "columns_values =  np.delete(df.columns.values, np.where(df.columns.values == 'DSEX'))\n",
    "for symbol in columns_values:\n",
    "    df_reg = df.loc[:, ['DSEX', symbol]].pct_change(1).dropna()\n",
    "    data_size = len(df_reg.index)\n",
    "    market_premium_simple = (df_reg['DSEX'].mean() * 252) - risk_free\n",
    "    market_premium_compound = (df_reg['DSEX'].apply(lambda x: x +1).cumprod().iloc[-1])**(252/data_size) - 1\n",
    "    market_var = (df_reg['DSEX'].var() * 252 )\n",
    "    symbol_var = (df_reg[symbol].var() * 252 )\n",
    "    df_reg = df_reg - ((1 + risk_free)**(1/252) -1)\n",
    "    x = df_reg.loc[:,'DSEX']\n",
    "    X = sm.add_constant(x)\n",
    "    Y = df_reg.loc[:,symbol]\n",
    "    model = sm.OLS(Y,X).fit()\n",
    "    beta_df = beta_df.append({'symbol':symbol, \n",
    "                              'Data Length': data_size,\n",
    "                              'Alpha': model.params[0], \n",
    "                              'Beta': model.params[1], \n",
    "                              'R Squared': model.rsquared, \n",
    "                              'R Squared Adj': model.rsquared_adj, \n",
    "                              'Regression Variance': (model.ess/data_size) * 252, \n",
    "                              'Residual Variance': (model.ssr / data_size) * 252,\n",
    "                              'Total Variance': (model.centered_tss / data_size) * 252,\n",
    "                             'Market Premium S': market_premium_simple, \n",
    "                              'Market Premium C': market_premium_compound,\n",
    "                              'Market Variance': market_var, \n",
    "                              'Symbol Variance': symbol_var \n",
    "                                 }, ignore_index=True)\n",
    "    \n",
    "beta_df = beta_df.set_index('symbol')\n",
    "beta_df.to_csv('./alphas-betas-assets.csv') ```"
   ]
  },
  {
   "cell_type": "code",
   "execution_count": 19,
   "metadata": {},
   "outputs": [
    {
     "name": "stdout",
     "output_type": "stream",
     "text": [
      "1066\n"
     ]
    },
    {
     "ename": "KeyError",
     "evalue": "\"None of ['symbol'] are in the columns\"",
     "output_type": "error",
     "traceback": [
      "\u001b[0;31m---------------------------------------------------------------------------\u001b[0m",
      "\u001b[0;31mKeyError\u001b[0m                                  Traceback (most recent call last)",
      "\u001b[0;32m<ipython-input-19-ded7daf6a3f8>\u001b[0m in \u001b[0;36m<module>\u001b[0;34m\u001b[0m\n\u001b[1;32m     29\u001b[0m                                  }, ignore_index=True)\n\u001b[1;32m     30\u001b[0m \u001b[0;34m\u001b[0m\u001b[0m\n\u001b[0;32m---> 31\u001b[0;31m \u001b[0mbeta_df\u001b[0m \u001b[0;34m=\u001b[0m \u001b[0mbeta_df\u001b[0m\u001b[0;34m.\u001b[0m\u001b[0mset_index\u001b[0m\u001b[0;34m(\u001b[0m\u001b[0;34m'symbol'\u001b[0m\u001b[0;34m)\u001b[0m\u001b[0;34m\u001b[0m\u001b[0;34m\u001b[0m\u001b[0m\n\u001b[0m\u001b[1;32m     32\u001b[0m \u001b[0mbeta_df\u001b[0m\u001b[0;34m.\u001b[0m\u001b[0mto_csv\u001b[0m\u001b[0;34m(\u001b[0m\u001b[0;34m'./alphas-betas-assets-similar-day.csv'\u001b[0m\u001b[0;34m)\u001b[0m\u001b[0;34m\u001b[0m\u001b[0;34m\u001b[0m\u001b[0m\n",
      "\u001b[0;32m~/Desktop/quantitative-analysis/portfolio-analysis/sy-portfolio/venv/lib/python3.7/site-packages/pandas/core/frame.py\u001b[0m in \u001b[0;36mset_index\u001b[0;34m(self, keys, drop, append, inplace, verify_integrity)\u001b[0m\n\u001b[1;32m   4394\u001b[0m \u001b[0;34m\u001b[0m\u001b[0m\n\u001b[1;32m   4395\u001b[0m         \u001b[0;32mif\u001b[0m \u001b[0mmissing\u001b[0m\u001b[0;34m:\u001b[0m\u001b[0;34m\u001b[0m\u001b[0;34m\u001b[0m\u001b[0m\n\u001b[0;32m-> 4396\u001b[0;31m             \u001b[0;32mraise\u001b[0m \u001b[0mKeyError\u001b[0m\u001b[0;34m(\u001b[0m\u001b[0;34m\"None of {} are in the columns\"\u001b[0m\u001b[0;34m.\u001b[0m\u001b[0mformat\u001b[0m\u001b[0;34m(\u001b[0m\u001b[0mmissing\u001b[0m\u001b[0;34m)\u001b[0m\u001b[0;34m)\u001b[0m\u001b[0;34m\u001b[0m\u001b[0;34m\u001b[0m\u001b[0m\n\u001b[0m\u001b[1;32m   4397\u001b[0m \u001b[0;34m\u001b[0m\u001b[0m\n\u001b[1;32m   4398\u001b[0m         \u001b[0;32mif\u001b[0m \u001b[0minplace\u001b[0m\u001b[0;34m:\u001b[0m\u001b[0;34m\u001b[0m\u001b[0;34m\u001b[0m\u001b[0m\n",
      "\u001b[0;31mKeyError\u001b[0m: \"None of ['symbol'] are in the columns\""
     ]
    }
   ],
   "source": [
    "beta_df = pd.DataFrame()\n",
    "columns_values =  ['UPGDCL', 'MONNOSTAF']\n",
    "df_assets = df.loc[:, ['DSEX', 'UPGDCL', 'MONNOSTAF']].dropna()\n",
    "for symbol in columns_values:\n",
    "    df_reg = df_assets.loc[:, ['DSEX', symbol]].pct_change(1).dropna()\n",
    "    data_size = len(df_reg.index)\n",
    "    print(data_size)\n",
    "    break\n",
    "    market_premium_simple = (df_reg['DSEX'].mean() * 252) - risk_free\n",
    "    market_premium_compound = (df_reg['DSEX'].apply(lambda x: x +1).cumprod().iloc[-1])**(252/data_size) - 1\n",
    "    market_var = (df_reg['DSEX'].var() * 252 )\n",
    "    symbol_var = (df_reg[symbol].var() * 252 )\n",
    "    df_reg = df_reg - ((1 + risk_free)**(1/252) -1)\n",
    "    x = df_reg.loc[:,'DSEX']\n",
    "    X = sm.add_constant(x)\n",
    "    Y = df_reg.loc[:,symbol]\n",
    "    model = sm.OLS(Y,X).fit()\n",
    "    beta_df = beta_df.append({'symbol':symbol, \n",
    "                              'Data Length': data_size,\n",
    "                              'Alpha': model.params[0], \n",
    "                              'Beta': model.params[1],\n",
    "                              'Regression Variance': (model.ess/data_size) * 252, \n",
    "                              'Residual Variance': (model.ssr / data_size) * 252,\n",
    "                              'Total Variance': (model.centered_tss / data_size) * 252,\n",
    "                             'Market Premium S': market_premium_simple, \n",
    "                              'Market Premium C': market_premium_compound,\n",
    "                              'Market Variance': market_var, \n",
    "                              'Symbol Variance': symbol_var \n",
    "                                 }, ignore_index=True)\n",
    "    \n",
    "beta_df = beta_df.set_index('symbol')\n",
    "beta_df.to_csv('./alphas-betas-assets-similar-day.csv')"
   ]
  },
  {
   "cell_type": "code",
   "execution_count": 15,
   "metadata": {},
   "outputs": [
    {
     "data": {
      "text/html": [
       "<div>\n",
       "<style scoped>\n",
       "    .dataframe tbody tr th:only-of-type {\n",
       "        vertical-align: middle;\n",
       "    }\n",
       "\n",
       "    .dataframe tbody tr th {\n",
       "        vertical-align: top;\n",
       "    }\n",
       "\n",
       "    .dataframe thead th {\n",
       "        text-align: right;\n",
       "    }\n",
       "</style>\n",
       "<table border=\"1\" class=\"dataframe\">\n",
       "  <thead>\n",
       "    <tr style=\"text-align: right;\">\n",
       "      <th></th>\n",
       "    </tr>\n",
       "  </thead>\n",
       "  <tbody>\n",
       "  </tbody>\n",
       "</table>\n",
       "</div>"
      ],
      "text/plain": [
       "Empty DataFrame\n",
       "Columns: []\n",
       "Index: []"
      ]
     },
     "execution_count": 15,
     "metadata": {},
     "output_type": "execute_result"
    }
   ],
   "source": [
    "round(beta_df, 3)"
   ]
  },
  {
   "cell_type": "markdown",
   "metadata": {},
   "source": [
    "```np.delete(df.columns.values, np.where(df.columns.values == 'DSEX'))\n",
    "```\n"
   ]
  },
  {
   "cell_type": "code",
   "execution_count": null,
   "metadata": {},
   "outputs": [],
   "source": [
    "selected_df = df.loc[:, ['DSEX', 'BERGERPBL', 'FORTUNE' ]]"
   ]
  },
  {
   "cell_type": "code",
   "execution_count": 11,
   "metadata": {},
   "outputs": [],
   "source": [
    "a_df = df.loc[:,['00DS30', '00DSEGEN', '00DSES', '00DSEX','DSEX','DS30']]"
   ]
  },
  {
   "cell_type": "code",
   "execution_count": 19,
   "metadata": {},
   "outputs": [
    {
     "data": {
      "text/plain": [
       "<matplotlib.axes._subplots.AxesSubplot at 0x11d666690>"
      ]
     },
     "execution_count": 19,
     "metadata": {},
     "output_type": "execute_result"
    },
    {
     "data": {
      "image/png": "[encoded data removed]",
      "text/plain": [
       "<Figure size 432x288 with 1 Axes>"
      ]
     },
     "metadata": {
      "needs_background": "light"
     },
     "output_type": "display_data"
    }
   ],
   "source": [
    "a_df['00DSEX'].plot()\n",
    "#a_df['DSEX'].plot()"
   ]
  },
  {
   "cell_type": "code",
   "execution_count": null,
   "metadata": {},
   "outputs": [],
   "source": []
  }
 ],
 "metadata": {
  "kernelspec": {
   "display_name": "Python 3",
   "language": "python",
   "name": "python3"
  },
  "language_info": {
   "codemirror_mode": {
    "name": "ipython",
    "version": 3
   },
   "file_extension": ".py",
   "mimetype": "text/x-python",
   "name": "python",
   "nbconvert_exporter": "python",
   "pygments_lexer": "ipython3",
   "version": "3.7.4"
  }
 },
 "nbformat": 4,
 "nbformat_minor": 2
}
