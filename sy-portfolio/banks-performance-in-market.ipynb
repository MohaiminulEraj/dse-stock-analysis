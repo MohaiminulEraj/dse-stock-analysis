{
 "cells": [
  {
   "cell_type": "code",
   "execution_count": 1,
   "metadata": {},
   "outputs": [],
   "source": [
    "import pandas as pd\n",
    "import requests\n",
    "import numpy as np\n",
    "from bs4 import BeautifulSoup "
   ]
  },
  {
   "cell_type": "code",
   "execution_count": 2,
   "metadata": {},
   "outputs": [],
   "source": [
    "base_url = 'https://www.dsebd.org/companylistbyindustry.php?industryno='"
   ]
  },
  {
   "cell_type": "code",
   "execution_count": 3,
   "metadata": {},
   "outputs": [
    {
     "name": "stderr",
     "output_type": "stream",
     "text": [
      "c:\\users\\rapples\\desktop\\quantitative\\portfolio-analysis\\sy-portfolio\\venv\\lib\\site-packages\\urllib3\\connectionpool.py:851: InsecureRequestWarning: Unverified HTTPS request is being made. Adding certificate verification is strongly advised. See: https://urllib3.readthedocs.io/en/latest/advanced-usage.html#ssl-warnings\n",
      "  InsecureRequestWarning)\n"
     ]
    }
   ],
   "source": [
    "page = requests.get('https://www.dsebd.org/companylistbyindustry.php?industryno=12', verify=False).content"
   ]
  },
  {
   "cell_type": "code",
   "execution_count": 4,
   "metadata": {},
   "outputs": [],
   "source": [
    "soup = BeautifulSoup(page)"
   ]
  },
  {
   "cell_type": "markdown",
   "metadata": {},
   "source": [
    "body > table:nth-child(11) > tbody > tr > td:nth-child(2) > table > tbody > tr:nth-child(2) > td > table > tbody > tr > td > table:nth-child(4) > tbody > tr:nth-child(1) > td > table > tbody > tr > td > table\n"
   ]
  },
  {
   "cell_type": "code",
   "execution_count": 5,
   "metadata": {},
   "outputs": [
    {
     "data": {
      "text/plain": [
       "array(['1JANATAMF', '1STPRIMFMF', 'ABB1STMF', 'AIBL1STIMF', 'ATCSLGF',\n",
       "       'CAPMBDBLMF', 'CAPMIBBLMF', 'DBH1STMF', 'EBL1STMF', 'EBLNRBMF',\n",
       "       'EXIM1STMF', 'FBFIF', 'GRAMEENS2', 'GREENDELMF', 'ICB3RDNRB',\n",
       "       'ICBAGRANI1', 'ICBAMCL2ND', 'ICBEPMF1S1', 'ICBSONALI1',\n",
       "       'IFIC1STMF', 'IFILISLMF1', 'LRGLOBMF1', 'MBL1STMF', 'NCCBLMF1',\n",
       "       'NLI1STMF', 'PF1STMF', 'PHPMF1', 'POPULAR1MF', 'PRIME1ICBA',\n",
       "       'RELIANCE1', 'SEBL1STMF', 'SEMLFBSLGF', 'SEMLIBBLSF', 'SEMLLECMF',\n",
       "       'TRUSTB1MF', 'VAMLBDMF1', 'VAMLRBBF'], dtype=object)"
      ]
     },
     "execution_count": 5,
     "metadata": {},
     "output_type": "execute_result"
    }
   ],
   "source": [
    "table = soup.select(\"body > table:nth-child(10) > tbody > tr > td:nth-child(2) > table > tbody > tr:nth-child(2) > td > table > tr > td\")[0]\n",
    "table = table.find_all('table')[2]\n",
    "table = table.find_all('table')[0]\n",
    "table = pd.read_html(table.prettify())[0]\n",
    "table = table[0].str.split(' ', expand=True)[0]\n",
    "table.values"
   ]
  },
  {
   "cell_type": "code",
   "execution_count": null,
   "metadata": {},
   "outputs": [],
   "source": []
  },
  {
   "cell_type": "code",
   "execution_count": 6,
   "metadata": {},
   "outputs": [
    {
     "name": "stderr",
     "output_type": "stream",
     "text": [
      "c:\\users\\rapples\\desktop\\quantitative\\portfolio-analysis\\sy-portfolio\\venv\\lib\\site-packages\\urllib3\\connectionpool.py:851: InsecureRequestWarning: Unverified HTTPS request is being made. Adding certificate verification is strongly advised. See: https://urllib3.readthedocs.io/en/latest/advanced-usage.html#ssl-warnings\n",
      "  InsecureRequestWarning)\n"
     ]
    }
   ],
   "source": [
    "industry_page = BeautifulSoup(requests.get('https://www.dsebd.org/by_industrylisting1.php', verify=False).content, 'lxml')"
   ]
  },
  {
   "cell_type": "code",
   "execution_count": null,
   "metadata": {},
   "outputs": [],
   "source": []
  },
  {
   "cell_type": "markdown",
   "metadata": {},
   "source": [
    "body > table:nth-child(11) > tbody > tr > td:nth-child(2) > table > tbody > tr:nth-child(2) > td > table > tbody > tr > td > table > tbody > tr > td:nth-child(1) > table"
   ]
  },
  {
   "cell_type": "code",
   "execution_count": 7,
   "metadata": {},
   "outputs": [
    {
     "data": {
      "text/html": [
       "<div>\n",
       "<style scoped>\n",
       "    .dataframe tbody tr th:only-of-type {\n",
       "        vertical-align: middle;\n",
       "    }\n",
       "\n",
       "    .dataframe tbody tr th {\n",
       "        vertical-align: top;\n",
       "    }\n",
       "\n",
       "    .dataframe thead th {\n",
       "        text-align: right;\n",
       "    }\n",
       "</style>\n",
       "<table border=\"1\" class=\"dataframe\">\n",
       "  <thead>\n",
       "    <tr style=\"text-align: right;\">\n",
       "      <th></th>\n",
       "      <th>Name of the Industry</th>\n",
       "      <th>Quantity</th>\n",
       "    </tr>\n",
       "  </thead>\n",
       "  <tbody>\n",
       "    <tr>\n",
       "      <td>1</td>\n",
       "      <td>Bank</td>\n",
       "      <td>30</td>\n",
       "    </tr>\n",
       "    <tr>\n",
       "      <td>2</td>\n",
       "      <td>Cement</td>\n",
       "      <td>7</td>\n",
       "    </tr>\n",
       "    <tr>\n",
       "      <td>3</td>\n",
       "      <td>Ceramics Sector</td>\n",
       "      <td>5</td>\n",
       "    </tr>\n",
       "    <tr>\n",
       "      <td>4</td>\n",
       "      <td>Corporate Bond</td>\n",
       "      <td>1</td>\n",
       "    </tr>\n",
       "    <tr>\n",
       "      <td>5</td>\n",
       "      <td>Debenture</td>\n",
       "      <td>8</td>\n",
       "    </tr>\n",
       "    <tr>\n",
       "      <td>6</td>\n",
       "      <td>Engineering</td>\n",
       "      <td>39</td>\n",
       "    </tr>\n",
       "    <tr>\n",
       "      <td>7</td>\n",
       "      <td>Financial Institutions</td>\n",
       "      <td>23</td>\n",
       "    </tr>\n",
       "    <tr>\n",
       "      <td>8</td>\n",
       "      <td>Food &amp; Allied</td>\n",
       "      <td>17</td>\n",
       "    </tr>\n",
       "    <tr>\n",
       "      <td>9</td>\n",
       "      <td>Fuel &amp; Power</td>\n",
       "      <td>19</td>\n",
       "    </tr>\n",
       "    <tr>\n",
       "      <td>10</td>\n",
       "      <td>Insurance</td>\n",
       "      <td>47</td>\n",
       "    </tr>\n",
       "    <tr>\n",
       "      <td>11</td>\n",
       "      <td>IT Sector</td>\n",
       "      <td>9</td>\n",
       "    </tr>\n",
       "    <tr>\n",
       "      <td>12</td>\n",
       "      <td>Jute</td>\n",
       "      <td>3</td>\n",
       "    </tr>\n",
       "    <tr>\n",
       "      <td>13</td>\n",
       "      <td>Miscellaneous</td>\n",
       "      <td>13</td>\n",
       "    </tr>\n",
       "    <tr>\n",
       "      <td>14</td>\n",
       "      <td>Mutual Funds</td>\n",
       "      <td>37</td>\n",
       "    </tr>\n",
       "    <tr>\n",
       "      <td>15</td>\n",
       "      <td>Paper &amp; Printing</td>\n",
       "      <td>3</td>\n",
       "    </tr>\n",
       "    <tr>\n",
       "      <td>16</td>\n",
       "      <td>Pharmaceuticals &amp; Chemicals</td>\n",
       "      <td>32</td>\n",
       "    </tr>\n",
       "    <tr>\n",
       "      <td>17</td>\n",
       "      <td>Services &amp; Real Estate</td>\n",
       "      <td>4</td>\n",
       "    </tr>\n",
       "    <tr>\n",
       "      <td>18</td>\n",
       "      <td>Tannery Industries</td>\n",
       "      <td>6</td>\n",
       "    </tr>\n",
       "    <tr>\n",
       "      <td>19</td>\n",
       "      <td>Telecommunication</td>\n",
       "      <td>2</td>\n",
       "    </tr>\n",
       "    <tr>\n",
       "      <td>20</td>\n",
       "      <td>Textile</td>\n",
       "      <td>55</td>\n",
       "    </tr>\n",
       "    <tr>\n",
       "      <td>21</td>\n",
       "      <td>Travel &amp; Leisure</td>\n",
       "      <td>5</td>\n",
       "    </tr>\n",
       "    <tr>\n",
       "      <td>22</td>\n",
       "      <td>Treasury Bond</td>\n",
       "      <td>221</td>\n",
       "    </tr>\n",
       "    <tr>\n",
       "      <td>23</td>\n",
       "      <td>Total Companies:</td>\n",
       "      <td>586</td>\n",
       "    </tr>\n",
       "  </tbody>\n",
       "</table>\n",
       "</div>"
      ],
      "text/plain": [
       "           Name of the Industry Quantity\n",
       "1                          Bank       30\n",
       "2                        Cement        7\n",
       "3               Ceramics Sector        5\n",
       "4                Corporate Bond        1\n",
       "5                     Debenture        8\n",
       "6                   Engineering       39\n",
       "7        Financial Institutions       23\n",
       "8                 Food & Allied       17\n",
       "9                  Fuel & Power       19\n",
       "10                    Insurance       47\n",
       "11                    IT Sector        9\n",
       "12                         Jute        3\n",
       "13                Miscellaneous       13\n",
       "14                 Mutual Funds       37\n",
       "15             Paper & Printing        3\n",
       "16  Pharmaceuticals & Chemicals       32\n",
       "17       Services & Real Estate        4\n",
       "18           Tannery Industries        6\n",
       "19            Telecommunication        2\n",
       "20                      Textile       55\n",
       "21             Travel & Leisure        5\n",
       "22                Treasury Bond      221\n",
       "23             Total Companies:      586"
      ]
     },
     "execution_count": 7,
     "metadata": {},
     "output_type": "execute_result"
    }
   ],
   "source": [
    "industries = industry_page.select('body > table:nth-child(10) > tbody > tr > td:nth-child(2) > table > tbody > tr > td:nth-child(1) > table')[0]\n",
    "industries = industries.find_all('table')[1]\n",
    "industries_df = pd.read_html(industries.prettify())[0]\n",
    "industries_df =  industries_df.rename(industries_df.iloc[0], axis=1).drop('Detail', axis=1).drop('#', axis=1)[1:]\n",
    "industries_df"
   ]
  },
  {
   "cell_type": "code",
   "execution_count": 8,
   "metadata": {},
   "outputs": [
    {
     "data": {
      "text/plain": [
       "0                            Bank\n",
       "2                          Cement\n",
       "4                 Ceramics Sector\n",
       "6                  Corporate Bond\n",
       "8                       Debenture\n",
       "10                    Engineering\n",
       "12         Financial Institutions\n",
       "14                  Food & Allied\n",
       "16                   Fuel & Power\n",
       "18                      Insurance\n",
       "20                      IT Sector\n",
       "22                           Jute\n",
       "24                  Miscellaneous\n",
       "26                   Mutual Funds\n",
       "28               Paper & Printing\n",
       "30    Pharmaceuticals & Chemicals\n",
       "32         Services & Real Estate\n",
       "34             Tannery Industries\n",
       "36              Telecommunication\n",
       "38                        Textile\n",
       "40               Travel & Leisure\n",
       "Name: Name, dtype: object"
      ]
     },
     "execution_count": 8,
     "metadata": {},
     "output_type": "execute_result"
    }
   ],
   "source": [
    "industries_links = industries.find_all(href=True)\n",
    "df_links = pd.DataFrame()\n",
    "for link in industries_links:\n",
    "    num = link['href'].split('=')[1]\n",
    "    text = str(link.text)\n",
    "    df_links = df_links.append({'Name': text, 'No': num}, ignore_index= True)\n",
    "df_links = df_links[df_links['Name'] != df_links['Name'].iloc[1]]\n",
    "industry_names = df_links['Name'][:-1]\n",
    "industry_names"
   ]
  },
  {
   "cell_type": "code",
   "execution_count": 9,
   "metadata": {},
   "outputs": [
    {
     "name": "stderr",
     "output_type": "stream",
     "text": [
      "c:\\users\\rapples\\desktop\\quantitative\\portfolio-analysis\\sy-portfolio\\venv\\lib\\site-packages\\urllib3\\connectionpool.py:851: InsecureRequestWarning: Unverified HTTPS request is being made. Adding certificate verification is strongly advised. See: https://urllib3.readthedocs.io/en/latest/advanced-usage.html#ssl-warnings\n",
      "  InsecureRequestWarning)\n",
      "c:\\users\\rapples\\desktop\\quantitative\\portfolio-analysis\\sy-portfolio\\venv\\lib\\site-packages\\urllib3\\connectionpool.py:851: InsecureRequestWarning: Unverified HTTPS request is being made. Adding certificate verification is strongly advised. See: https://urllib3.readthedocs.io/en/latest/advanced-usage.html#ssl-warnings\n",
      "  InsecureRequestWarning)\n",
      "c:\\users\\rapples\\desktop\\quantitative\\portfolio-analysis\\sy-portfolio\\venv\\lib\\site-packages\\urllib3\\connectionpool.py:851: InsecureRequestWarning: Unverified HTTPS request is being made. Adding certificate verification is strongly advised. See: https://urllib3.readthedocs.io/en/latest/advanced-usage.html#ssl-warnings\n",
      "  InsecureRequestWarning)\n",
      "c:\\users\\rapples\\desktop\\quantitative\\portfolio-analysis\\sy-portfolio\\venv\\lib\\site-packages\\urllib3\\connectionpool.py:851: InsecureRequestWarning: Unverified HTTPS request is being made. Adding certificate verification is strongly advised. See: https://urllib3.readthedocs.io/en/latest/advanced-usage.html#ssl-warnings\n",
      "  InsecureRequestWarning)\n",
      "c:\\users\\rapples\\desktop\\quantitative\\portfolio-analysis\\sy-portfolio\\venv\\lib\\site-packages\\urllib3\\connectionpool.py:851: InsecureRequestWarning: Unverified HTTPS request is being made. Adding certificate verification is strongly advised. See: https://urllib3.readthedocs.io/en/latest/advanced-usage.html#ssl-warnings\n",
      "  InsecureRequestWarning)\n",
      "c:\\users\\rapples\\desktop\\quantitative\\portfolio-analysis\\sy-portfolio\\venv\\lib\\site-packages\\urllib3\\connectionpool.py:851: InsecureRequestWarning: Unverified HTTPS request is being made. Adding certificate verification is strongly advised. See: https://urllib3.readthedocs.io/en/latest/advanced-usage.html#ssl-warnings\n",
      "  InsecureRequestWarning)\n",
      "c:\\users\\rapples\\desktop\\quantitative\\portfolio-analysis\\sy-portfolio\\venv\\lib\\site-packages\\urllib3\\connectionpool.py:851: InsecureRequestWarning: Unverified HTTPS request is being made. Adding certificate verification is strongly advised. See: https://urllib3.readthedocs.io/en/latest/advanced-usage.html#ssl-warnings\n",
      "  InsecureRequestWarning)\n",
      "c:\\users\\rapples\\desktop\\quantitative\\portfolio-analysis\\sy-portfolio\\venv\\lib\\site-packages\\urllib3\\connectionpool.py:851: InsecureRequestWarning: Unverified HTTPS request is being made. Adding certificate verification is strongly advised. See: https://urllib3.readthedocs.io/en/latest/advanced-usage.html#ssl-warnings\n",
      "  InsecureRequestWarning)\n",
      "c:\\users\\rapples\\desktop\\quantitative\\portfolio-analysis\\sy-portfolio\\venv\\lib\\site-packages\\urllib3\\connectionpool.py:851: InsecureRequestWarning: Unverified HTTPS request is being made. Adding certificate verification is strongly advised. See: https://urllib3.readthedocs.io/en/latest/advanced-usage.html#ssl-warnings\n",
      "  InsecureRequestWarning)\n",
      "c:\\users\\rapples\\desktop\\quantitative\\portfolio-analysis\\sy-portfolio\\venv\\lib\\site-packages\\urllib3\\connectionpool.py:851: InsecureRequestWarning: Unverified HTTPS request is being made. Adding certificate verification is strongly advised. See: https://urllib3.readthedocs.io/en/latest/advanced-usage.html#ssl-warnings\n",
      "  InsecureRequestWarning)\n",
      "c:\\users\\rapples\\desktop\\quantitative\\portfolio-analysis\\sy-portfolio\\venv\\lib\\site-packages\\urllib3\\connectionpool.py:851: InsecureRequestWarning: Unverified HTTPS request is being made. Adding certificate verification is strongly advised. See: https://urllib3.readthedocs.io/en/latest/advanced-usage.html#ssl-warnings\n",
      "  InsecureRequestWarning)\n",
      "c:\\users\\rapples\\desktop\\quantitative\\portfolio-analysis\\sy-portfolio\\venv\\lib\\site-packages\\urllib3\\connectionpool.py:851: InsecureRequestWarning: Unverified HTTPS request is being made. Adding certificate verification is strongly advised. See: https://urllib3.readthedocs.io/en/latest/advanced-usage.html#ssl-warnings\n",
      "  InsecureRequestWarning)\n",
      "c:\\users\\rapples\\desktop\\quantitative\\portfolio-analysis\\sy-portfolio\\venv\\lib\\site-packages\\urllib3\\connectionpool.py:851: InsecureRequestWarning: Unverified HTTPS request is being made. Adding certificate verification is strongly advised. See: https://urllib3.readthedocs.io/en/latest/advanced-usage.html#ssl-warnings\n",
      "  InsecureRequestWarning)\n",
      "c:\\users\\rapples\\desktop\\quantitative\\portfolio-analysis\\sy-portfolio\\venv\\lib\\site-packages\\urllib3\\connectionpool.py:851: InsecureRequestWarning: Unverified HTTPS request is being made. Adding certificate verification is strongly advised. See: https://urllib3.readthedocs.io/en/latest/advanced-usage.html#ssl-warnings\n",
      "  InsecureRequestWarning)\n",
      "c:\\users\\rapples\\desktop\\quantitative\\portfolio-analysis\\sy-portfolio\\venv\\lib\\site-packages\\urllib3\\connectionpool.py:851: InsecureRequestWarning: Unverified HTTPS request is being made. Adding certificate verification is strongly advised. See: https://urllib3.readthedocs.io/en/latest/advanced-usage.html#ssl-warnings\n",
      "  InsecureRequestWarning)\n",
      "c:\\users\\rapples\\desktop\\quantitative\\portfolio-analysis\\sy-portfolio\\venv\\lib\\site-packages\\urllib3\\connectionpool.py:851: InsecureRequestWarning: Unverified HTTPS request is being made. Adding certificate verification is strongly advised. See: https://urllib3.readthedocs.io/en/latest/advanced-usage.html#ssl-warnings\n",
      "  InsecureRequestWarning)\n",
      "c:\\users\\rapples\\desktop\\quantitative\\portfolio-analysis\\sy-portfolio\\venv\\lib\\site-packages\\urllib3\\connectionpool.py:851: InsecureRequestWarning: Unverified HTTPS request is being made. Adding certificate verification is strongly advised. See: https://urllib3.readthedocs.io/en/latest/advanced-usage.html#ssl-warnings\n",
      "  InsecureRequestWarning)\n",
      "c:\\users\\rapples\\desktop\\quantitative\\portfolio-analysis\\sy-portfolio\\venv\\lib\\site-packages\\urllib3\\connectionpool.py:851: InsecureRequestWarning: Unverified HTTPS request is being made. Adding certificate verification is strongly advised. See: https://urllib3.readthedocs.io/en/latest/advanced-usage.html#ssl-warnings\n",
      "  InsecureRequestWarning)\n",
      "c:\\users\\rapples\\desktop\\quantitative\\portfolio-analysis\\sy-portfolio\\venv\\lib\\site-packages\\urllib3\\connectionpool.py:851: InsecureRequestWarning: Unverified HTTPS request is being made. Adding certificate verification is strongly advised. See: https://urllib3.readthedocs.io/en/latest/advanced-usage.html#ssl-warnings\n",
      "  InsecureRequestWarning)\n",
      "c:\\users\\rapples\\desktop\\quantitative\\portfolio-analysis\\sy-portfolio\\venv\\lib\\site-packages\\urllib3\\connectionpool.py:851: InsecureRequestWarning: Unverified HTTPS request is being made. Adding certificate verification is strongly advised. See: https://urllib3.readthedocs.io/en/latest/advanced-usage.html#ssl-warnings\n",
      "  InsecureRequestWarning)\n",
      "c:\\users\\rapples\\desktop\\quantitative\\portfolio-analysis\\sy-portfolio\\venv\\lib\\site-packages\\urllib3\\connectionpool.py:851: InsecureRequestWarning: Unverified HTTPS request is being made. Adding certificate verification is strongly advised. See: https://urllib3.readthedocs.io/en/latest/advanced-usage.html#ssl-warnings\n",
      "  InsecureRequestWarning)\n"
     ]
    }
   ],
   "source": [
    "industry_companies = pd.DataFrame()\n",
    "for industry in industry_names.values:\n",
    "    nol = df_links[df_links['Name']==industry]['No'].values\n",
    "    url = base_url + nol\n",
    "    page = BeautifulSoup(requests.get(url[0], verify=False).content, 'lxml').select(\"body > table:nth-child(10) > tbody > tr > td:nth-child(2) > table > tbody > tr:nth-child(2) > td > table > tr > td\")[0]\n",
    "    table = page.find_all('table')[2]\n",
    "    table = table.find_all('table')[0]\n",
    "    table = pd.read_html(table.prettify())[0]\n",
    "    table = table[0].str.split(' ', expand=True)[0]\n",
    "    df_tmp = pd.DataFrame({industry:table.values})\n",
    "    industry_companies = pd.concat([industry_companies,df_tmp], axis=1)\n",
    "    "
   ]
  },
  {
   "cell_type": "code",
   "execution_count": 10,
   "metadata": {},
   "outputs": [],
   "source": [
    "industry_companies.to_csv('./companis-by-industry.csv')"
   ]
  },
  {
   "cell_type": "code",
   "execution_count": 11,
   "metadata": {},
   "outputs": [
    {
     "data": {
      "text/plain": [
       "array(['ACI', 'ACIFORMULA', 'ACMELAB', 'ACTIVEFINE', 'ADVENT', 'AFCAGRO',\n",
       "       'AMBEEPHA', 'BEACONPHAR', 'BXPHARMA', 'BXSYNTH', 'CENTRALPHL',\n",
       "       'FARCHEM', 'GHCL', 'GLAXOSMITH', 'IBNSINA', 'IBP', 'IMAMBUTTON',\n",
       "       'JMISMDL', 'KEYACOSMET', 'KOHINOOR', 'LIBRAINFU', 'MARICO',\n",
       "       'ORIONINFU', 'ORIONPHARM', 'PHARMAID', 'RECKITTBEN', 'RENATA',\n",
       "       'SALVOCHEM', 'SILCOPHL', 'SILVAPHL', 'SQURPHARMA', 'WATACHEM'],\n",
       "      dtype=object)"
      ]
     },
     "execution_count": 11,
     "metadata": {},
     "output_type": "execute_result"
    }
   ],
   "source": [
    "eng_companies = industry_companies['Pharmaceuticals & Chemicals'].dropna().values\n",
    "eng_companies"
   ]
  },
  {
   "cell_type": "code",
   "execution_count": null,
   "metadata": {},
   "outputs": [],
   "source": []
  }
 ],
 "metadata": {
  "kernelspec": {
   "display_name": "Python 3",
   "language": "python",
   "name": "python3"
  },
  "language_info": {
   "codemirror_mode": {
    "name": "ipython",
    "version": 3
   },
   "file_extension": ".py",
   "mimetype": "text/x-python",
   "name": "python",
   "nbconvert_exporter": "python",
   "pygments_lexer": "ipython3",
   "version": "3.7.4"
  }
 },
 "nbformat": 4,
 "nbformat_minor": 2
}
